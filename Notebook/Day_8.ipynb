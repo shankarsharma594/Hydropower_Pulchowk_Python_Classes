{
 "cells": [
  {
   "cell_type": "markdown",
   "id": "8ae13520",
   "metadata": {},
   "source": [
    "#### Part 9 \n",
    "        \n",
    "1.  Concept of module in the functions.py file \n",
    "2. Concept of module in regex.py\n",
    "3. commiting into the git"
   ]
  }
 ],
 "metadata": {
  "kernelspec": {
   "display_name": "mshpe",
   "language": "python",
   "name": "python3"
  },
  "language_info": {
   "codemirror_mode": {
    "name": "ipython",
    "version": 3
   },
   "file_extension": ".py",
   "mimetype": "text/x-python",
   "name": "python",
   "nbconvert_exporter": "python",
   "pygments_lexer": "ipython3",
   "version": "3.13.1"
  }
 },
 "nbformat": 4,
 "nbformat_minor": 5
}
