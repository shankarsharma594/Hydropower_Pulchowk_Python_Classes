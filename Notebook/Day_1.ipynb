{
 "cells": [
  {
   "cell_type": "markdown",
   "id": "074d1080",
   "metadata": {},
   "source": [
    "## PythonBaics-Day1\n",
    "### Hydropwer_Engineer_Pulchowk"
   ]
  },
  {
   "cell_type": "code",
   "execution_count": 2,
   "id": "311d1236",
   "metadata": {},
   "outputs": [
    {
     "name": "stdout",
     "output_type": "stream",
     "text": [
      "Welcome to the Python course \n"
     ]
    }
   ],
   "source": [
    "print(\"Welcome to the Python course \")"
   ]
  },
  {
   "cell_type": "code",
   "execution_count": 4,
   "id": "487f5823",
   "metadata": {},
   "outputs": [
    {
     "name": "stdout",
     "output_type": "stream",
     "text": [
      "Hello world\n"
     ]
    }
   ],
   "source": [
    "print(\"Hello world\")"
   ]
  },
  {
   "cell_type": "markdown",
   "id": "1a834673",
   "metadata": {},
   "source": [
    "Get Input from the user"
   ]
  },
  {
   "cell_type": "code",
   "execution_count": 7,
   "id": "0d16731f",
   "metadata": {},
   "outputs": [
    {
     "name": "stdout",
     "output_type": "stream",
     "text": [
      "mithu\n"
     ]
    }
   ],
   "source": [
    "# Write code to take input from the user \n",
    "name=input(\"Enter your name:\")\n",
    "print(name)"
   ]
  },
  {
   "cell_type": "code",
   "execution_count": 13,
   "id": "cb89b15c",
   "metadata": {},
   "outputs": [
    {
     "name": "stdout",
     "output_type": "stream",
     "text": [
      "my name is :-mithu\n"
     ]
    }
   ],
   "source": [
    "#F string \n",
    "print(f\"my name is :-{name}\")"
   ]
  },
  {
   "cell_type": "code",
   "execution_count": 17,
   "id": "1ec8a9d3",
   "metadata": {},
   "outputs": [
    {
     "data": {
      "text/plain": [
       "str"
      ]
     },
     "execution_count": 17,
     "metadata": {},
     "output_type": "execute_result"
    }
   ],
   "source": [
    "type(name)\n"
   ]
  },
  {
   "cell_type": "code",
   "execution_count": null,
   "id": "b756becc",
   "metadata": {},
   "outputs": [],
   "source": [
    "#data types\n",
    "name=\"hari\"\n",
    "age=25\n",
    "salary=10000.98\n",
    "is_student=False\n"
   ]
  },
  {
   "cell_type": "code",
   "execution_count": 21,
   "id": "0cb93c75",
   "metadata": {},
   "outputs": [
    {
     "data": {
      "text/plain": [
       "str"
      ]
     },
     "execution_count": 21,
     "metadata": {},
     "output_type": "execute_result"
    }
   ],
   "source": [
    "type(name)\n"
   ]
  },
  {
   "cell_type": "code",
   "execution_count": 22,
   "id": "c3003af3",
   "metadata": {},
   "outputs": [
    {
     "data": {
      "text/plain": [
       "int"
      ]
     },
     "execution_count": 22,
     "metadata": {},
     "output_type": "execute_result"
    }
   ],
   "source": [
    "type(age)"
   ]
  },
  {
   "cell_type": "code",
   "execution_count": 24,
   "id": "c058fad2",
   "metadata": {},
   "outputs": [
    {
     "data": {
      "text/plain": [
       "bool"
      ]
     },
     "execution_count": 24,
     "metadata": {},
     "output_type": "execute_result"
    }
   ],
   "source": [
    "type(is_student)"
   ]
  },
  {
   "cell_type": "code",
   "execution_count": 25,
   "id": "f5810796",
   "metadata": {},
   "outputs": [
    {
     "data": {
      "text/plain": [
       "float"
      ]
     },
     "execution_count": 25,
     "metadata": {},
     "output_type": "execute_result"
    }
   ],
   "source": [
    "type(salary)"
   ]
  },
  {
   "cell_type": "markdown",
   "id": "310186fd",
   "metadata": {},
   "source": [
    "### Arithmetic Operations \n",
    "- addition\n",
    "- subtraction\n",
    "-  multiplication\n",
    "- division\n"
   ]
  },
  {
   "cell_type": "code",
   "execution_count": 26,
   "id": "f85376a9",
   "metadata": {},
   "outputs": [],
   "source": [
    "''' Write code to perform arithmetic operations to\n",
    " getting input from the user '''\n",
    "\n",
    "a=input(\"enter number1: \")\n",
    "b=input(\"enter number2:\")\n",
    "\n"
   ]
  },
  {
   "cell_type": "code",
   "execution_count": 27,
   "id": "fba43b35",
   "metadata": {},
   "outputs": [
    {
     "data": {
      "text/plain": [
       "str"
      ]
     },
     "execution_count": 27,
     "metadata": {},
     "output_type": "execute_result"
    }
   ],
   "source": [
    "type(a)"
   ]
  },
  {
   "cell_type": "code",
   "execution_count": 29,
   "id": "923451bc",
   "metadata": {},
   "outputs": [
    {
     "data": {
      "text/plain": [
       "'56'"
      ]
     },
     "execution_count": 29,
     "metadata": {},
     "output_type": "execute_result"
    }
   ],
   "source": [
    "a+b"
   ]
  },
  {
   "cell_type": "code",
   "execution_count": 36,
   "id": "f437f518",
   "metadata": {},
   "outputs": [],
   "source": [
    "#Typecasting \n",
    "\n",
    "'''a=input(\"enter number1: \")\n",
    "b=input(\"enter number2:\")\n",
    "'''\n",
    "\n",
    "num1=int(input(\"enter number1: \"))\n",
    "num2=int(input(\"enter number2:\"))\n"
   ]
  },
  {
   "cell_type": "code",
   "execution_count": 37,
   "id": "892c5bae",
   "metadata": {},
   "outputs": [
    {
     "data": {
      "text/plain": [
       "9"
      ]
     },
     "execution_count": 37,
     "metadata": {},
     "output_type": "execute_result"
    }
   ],
   "source": [
    "num1+num2"
   ]
  },
  {
   "cell_type": "code",
   "execution_count": 38,
   "id": "a44f8fd2",
   "metadata": {},
   "outputs": [
    {
     "name": "stdout",
     "output_type": "stream",
     "text": [
      "<class 'int'>\n",
      "<class 'int'>\n"
     ]
    },
    {
     "data": {
      "text/plain": [
       "int"
      ]
     },
     "execution_count": 38,
     "metadata": {},
     "output_type": "execute_result"
    }
   ],
   "source": [
    "print(type(num1))\n",
    "print(type(num2))\n",
    "type(num1+num2)  # Maathi ko type check garna print haalnu parxa tala pardaina"
   ]
  },
  {
   "cell_type": "code",
   "execution_count": 39,
   "id": "5f9f3921",
   "metadata": {},
   "outputs": [
    {
     "data": {
      "text/plain": [
       "(4, 5)"
      ]
     },
     "execution_count": 39,
     "metadata": {},
     "output_type": "execute_result"
    }
   ],
   "source": [
    "num1,num2"
   ]
  },
  {
   "cell_type": "code",
   "execution_count": 40,
   "id": "086ccda2",
   "metadata": {},
   "outputs": [
    {
     "data": {
      "text/plain": [
       "9"
      ]
     },
     "execution_count": 40,
     "metadata": {},
     "output_type": "execute_result"
    }
   ],
   "source": [
    "#addition\n",
    "result=num1+num2\n",
    "result"
   ]
  },
  {
   "cell_type": "code",
   "execution_count": 41,
   "id": "74ea0901",
   "metadata": {},
   "outputs": [
    {
     "data": {
      "text/plain": [
       "-1"
      ]
     },
     "execution_count": 41,
     "metadata": {},
     "output_type": "execute_result"
    }
   ],
   "source": [
    "#Subtraction\n",
    "result=num1-num2\n",
    "result"
   ]
  },
  {
   "cell_type": "code",
   "execution_count": null,
   "id": "6ccac23e",
   "metadata": {},
   "outputs": [
    {
     "data": {
      "text/plain": [
       "0.8"
      ]
     },
     "execution_count": 42,
     "metadata": {},
     "output_type": "execute_result"
    }
   ],
   "source": [
    "#Division\n",
    "result=num1/num2\n",
    "result"
   ]
  },
  {
   "cell_type": "code",
   "execution_count": 46,
   "id": "46f9059a",
   "metadata": {},
   "outputs": [
    {
     "name": "stdout",
     "output_type": "stream",
     "text": [
      "<class 'float'>\n"
     ]
    }
   ],
   "source": [
    "num3=18.9\n",
    "print(type(num3))"
   ]
  },
  {
   "cell_type": "code",
   "execution_count": 47,
   "id": "a8b31ffa",
   "metadata": {},
   "outputs": [
    {
     "data": {
      "text/plain": [
       "18"
      ]
     },
     "execution_count": 47,
     "metadata": {},
     "output_type": "execute_result"
    }
   ],
   "source": [
    "int(num3) #Float laai integer ma covert example of typecasting "
   ]
  },
  {
   "cell_type": "markdown",
   "id": "44376033",
   "metadata": {},
   "source": [
    "## Part_2\n",
    "### Control Statement\n"
   ]
  },
  {
   "cell_type": "markdown",
   "id": "7965172c",
   "metadata": {},
   "source": [
    "## Pseudocode\n",
    "    -teenage=age>=12 and age < 20\n",
    "    -adult =age >=20 \n",
    "\n"
   ]
  },
  {
   "cell_type": "code",
   "execution_count": 51,
   "id": "15385263",
   "metadata": {},
   "outputs": [
    {
     "name": "stdout",
     "output_type": "stream",
     "text": [
      "This is true \n"
     ]
    }
   ],
   "source": [
    "#Explanation of conditional statement\n",
    "if True:\n",
    "    print(\"This is true \")\n",
    "else:\n",
    "    print(\"This is false\")\n"
   ]
  },
  {
   "cell_type": "code",
   "execution_count": 53,
   "id": "391597ce",
   "metadata": {},
   "outputs": [
    {
     "name": "stdout",
     "output_type": "stream",
     "text": [
      "You are an adult\n"
     ]
    }
   ],
   "source": [
    "'''Write a control statement to check whether the given\n",
    "person is adult or teenager'''\n",
    "\n",
    "age=int(input(\"Enter your age : \"))\n",
    "if age<20:\n",
    "    print(\"You are a teenager \")\n",
    "else:\n",
    "    print(\"You are an adult\")\n",
    "    \n"
   ]
  },
  {
   "cell_type": "code",
   "execution_count": null,
   "id": "4e62e521",
   "metadata": {},
   "outputs": [],
   "source": [
    "# Assignment1 using elif\n",
    "''' Child < 12 \n",
    "    teenage >=12 and < 18\n",
    "    adult >=18 and < 50\n",
    "    old >=50\n",
    "\n",
    "'''"
   ]
  },
  {
   "cell_type": "markdown",
   "id": "9d29304c",
   "metadata": {},
   "source": [
    "### For Loop"
   ]
  },
  {
   "cell_type": "code",
   "execution_count": 56,
   "id": "cf32e53f",
   "metadata": {},
   "outputs": [
    {
     "name": "stdout",
     "output_type": "stream",
     "text": [
      "0\n",
      "3\n",
      "6\n",
      "9\n"
     ]
    }
   ],
   "source": [
    "# print number 0 to 10 \n",
    "# range (start,end,jump)\n",
    "for i in range(0,11,3):\n",
    "    print(i)\n",
    "\n",
    "\n"
   ]
  },
  {
   "cell_type": "code",
   "execution_count": 57,
   "id": "1f18ea70",
   "metadata": {},
   "outputs": [
    {
     "name": "stdout",
     "output_type": "stream",
     "text": [
      "0\n",
      "1\n",
      "2\n",
      "3\n",
      "4\n",
      "5\n",
      "6\n",
      "7\n",
      "8\n",
      "9\n"
     ]
    }
   ],
   "source": [
    "for i in range (10): # Default 0 baata start garchha ani jump 1 le gardai janchha \n",
    "    print (i)"
   ]
  },
  {
   "cell_type": "code",
   "execution_count": 58,
   "id": "1f19eeb2",
   "metadata": {},
   "outputs": [
    {
     "name": "stdout",
     "output_type": "stream",
     "text": [
      "10\n",
      "8\n",
      "6\n",
      "4\n",
      "2\n"
     ]
    }
   ],
   "source": [
    "# Printing in the reverse order\n",
    "for i in range (10,0,-2):\n",
    "    print(i)"
   ]
  },
  {
   "cell_type": "code",
   "execution_count": 1,
   "id": "d81343ea",
   "metadata": {},
   "outputs": [
    {
     "name": "stdout",
     "output_type": "stream",
     "text": [
      "0:even number\n",
      "1:odd number\n",
      "2:even number\n",
      "3:odd number\n",
      "4:even number\n",
      "5:odd number\n",
      "6:even number\n",
      "7:odd number\n",
      "8:even number\n",
      "9:odd number\n"
     ]
    }
   ],
   "source": [
    "# Print even numbers between 0 to 10\n",
    "\"\"\" \n",
    "0:Even number\n",
    "1:odd number\n",
    "\"\"\"\n",
    "\n",
    "for num in range(0,10):\n",
    "    #check if num is even \n",
    "    if num%2==0:\n",
    "        print(f\"{num}:even number\")\n",
    "    else:\n",
    "        print(f\"{num}:odd number\")\n",
    "\n",
    "  \n"
   ]
  },
  {
   "cell_type": "code",
   "execution_count": 60,
   "id": "e7db9c9a",
   "metadata": {},
   "outputs": [
    {
     "name": "stdout",
     "output_type": "stream",
     "text": [
      "0 is divisible by 5\n",
      "5 is divisible by 5\n",
      "10 is divisible by 5\n",
      "15 is divisible by 5\n",
      "20 is divisible by 5\n",
      "25 is divisible by 5\n",
      "30 is divisible by 5\n",
      "35 is divisible by 5\n",
      "40 is divisible by 5\n"
     ]
    }
   ],
   "source": [
    "\n",
    "\"\"\"\n",
    "Write  program to check which number is divisible by 5 \n",
    "between 0 and 30\n",
    "\n",
    "\"\"\"\n",
    "\n",
    "for num in range (0,41):\n",
    "    if num%5==0:\n",
    "        print(f\"{num} is divisible by 5\")"
   ]
  },
  {
   "cell_type": "markdown",
   "id": "52cc9e9b",
   "metadata": {},
   "source": [
    "#assignment 2\n",
    "                                   \n",
    "                                   \n",
    "\"\"\" Make a calculator \n",
    "\n",
    "- get num1,operator and num2 from user input and print result based on operator\n",
    "\n",
    "\"\"\""
   ]
  }
 ],
 "metadata": {
  "kernelspec": {
   "display_name": "mshpe",
   "language": "python",
   "name": "python3"
  },
  "language_info": {
   "codemirror_mode": {
    "name": "ipython",
    "version": 3
   },
   "file_extension": ".py",
   "mimetype": "text/x-python",
   "name": "python",
   "nbconvert_exporter": "python",
   "pygments_lexer": "ipython3",
   "version": "3.13.1"
  }
 },
 "nbformat": 4,
 "nbformat_minor": 5
}
