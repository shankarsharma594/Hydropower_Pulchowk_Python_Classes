{
 "cells": [
  {
   "cell_type": "markdown",
   "id": "da034cf9",
   "metadata": {},
   "source": [
    " ( Part 7) Recap of day 5"
   ]
  },
  {
   "cell_type": "code",
   "execution_count": 1,
   "id": "22431700",
   "metadata": {},
   "outputs": [
    {
     "data": {
      "text/plain": [
       "True"
      ]
     },
     "execution_count": 1,
     "metadata": {},
     "output_type": "execute_result"
    }
   ],
   "source": [
    "# Day 5 Recap\n",
    "# Explanation of not \n",
    "name=None\n",
    "not name  #Not acts as a logic gate \n",
    "\n"
   ]
  },
  {
   "cell_type": "code",
   "execution_count": 2,
   "id": "a0eb9d8f",
   "metadata": {},
   "outputs": [
    {
     "data": {
      "text/plain": [
       "' #Logic gates\\nTrue or True = True \\nTrue or False = True\\nFalse or True = True \\nFalse or False = False \\n\\n# And Gate\\nTrue and True = True \\nTrue and False= False \\nFalse and True = False \\nFalse and False = False \\n'"
      ]
     },
     "execution_count": 2,
     "metadata": {},
     "output_type": "execute_result"
    }
   ],
   "source": [
    "\"\"\" #Logic gates\n",
    "True or True = True \n",
    "True or False = True\n",
    "False or True = True \n",
    "False or False = False \n",
    "\n",
    "# And Gate\n",
    "True and True = True \n",
    "True and False= False \n",
    "False and True = False \n",
    "False and False = False \n",
    "\"\"\"\n",
    "\n"
   ]
  },
  {
   "cell_type": "code",
   "execution_count": 8,
   "id": "74b179a2",
   "metadata": {},
   "outputs": [
    {
     "data": {
      "text/plain": [
       "'Welcome Hari to python and data science class.'"
      ]
     },
     "execution_count": 8,
     "metadata": {},
     "output_type": "execute_result"
    }
   ],
   "source": [
    "# python module \n",
    "# from Calculator.greetings import greet\n",
    "from Calculator.greetings import *    # ( Dherai Function 1utai module ma chha vane yesari ni garna sakinchha)\n",
    "name=\"Hari\"\n",
    "greet(name)\n"
   ]
  },
  {
   "cell_type": "code",
   "execution_count": 10,
   "id": "69c61d95",
   "metadata": {},
   "outputs": [
    {
     "name": "stdout",
     "output_type": "stream",
     "text": [
      "You are welcome to the course:Shyam\n"
     ]
    }
   ],
   "source": [
    "from Calculator.greetings import *\n",
    "welcome_msg(\"Shyam\")  \n",
    "\n",
    "\n",
    "# problem:- 1uta module maa multiple function chha vane kasari garne \n",
    "# vanera solve garnu paryo\n",
    "\n",
    "\n"
   ]
  },
  {
   "cell_type": "code",
   "execution_count": 5,
   "id": "e32a3f4a",
   "metadata": {},
   "outputs": [
    {
     "data": {
      "text/plain": [
       "4.0"
      ]
     },
     "execution_count": 5,
     "metadata": {},
     "output_type": "execute_result"
    }
   ],
   "source": [
    "# explanation\n",
    "\n",
    "import math \n",
    "math.sqrt(16)\n",
    "\n",
    "# Alternatively \n",
    "from math import sqrt\n",
    "sqrt(16)\n"
   ]
  },
  {
   "cell_type": "code",
   "execution_count": 6,
   "id": "d9983b7f",
   "metadata": {},
   "outputs": [
    {
     "data": {
      "text/plain": [
       "'\\n1utai folder ma different file chha vane module banayera garna sakinchh\\n\\ntara different folder ma files haru chha vane package banayera garnu parchha \\n\\n\\n33:00min\\n\\n'"
      ]
     },
     "execution_count": 6,
     "metadata": {},
     "output_type": "execute_result"
    }
   ],
   "source": [
    "\"\"\"\n",
    "1utai folder ma different file chha vane module banayera garna sakinchh\n",
    "\n",
    "tara different folder ma files haru chha vane package banayera garnu parchha \n",
    "\n",
    "\n",
    "33:00min\n",
    "\n",
    "\"\"\""
   ]
  },
  {
   "cell_type": "markdown",
   "id": "b2588507",
   "metadata": {},
   "source": [
    "## Regex"
   ]
  },
  {
   "cell_type": "code",
   "execution_count": 7,
   "id": "c76e6f7f",
   "metadata": {},
   "outputs": [
    {
     "data": {
      "text/plain": [
       "'\\nKati bela use garne jaba text validation garnu paryo \\nGiven email miliraako chha ki xaina thaha paunu paryo \\n\\n\\n'"
      ]
     },
     "execution_count": 7,
     "metadata": {},
     "output_type": "execute_result"
    }
   ],
   "source": [
    "\"\"\"\n",
    "Kati bela use garne jaba text validation garnu paryo \n",
    "Given email miliraako chha ki xaina thaha paunu paryo \n",
    "\n",
    "\n",
    "\"\"\""
   ]
  },
  {
   "cell_type": "code",
   "execution_count": 16,
   "id": "4d033703",
   "metadata": {},
   "outputs": [
    {
     "name": "stdout",
     "output_type": "stream",
     "text": [
      "['rainfall']\n"
     ]
    }
   ],
   "source": [
    "# Example (Jastai 1uta text baata kei spicific nikaalnu paryo vane)\n",
    "import re \n",
    "txt=\"The rain in spain kathmandu metrology 706 rainfall flood \"\n",
    "x=re.findall(\"rainfall\",txt)\n",
    "print(x)"
   ]
  },
  {
   "cell_type": "code",
   "execution_count": 18,
   "id": "d301a69f",
   "metadata": {},
   "outputs": [
    {
     "name": "stdout",
     "output_type": "stream",
     "text": [
      "['john@example.com', 'Test245+@gmtest.np', 'mayashankar@gmail.com']\n"
     ]
    }
   ],
   "source": [
    "# Extract email from the given text\n",
    "txt1=\"My email address is john@example.com and Test245+@gmtest.np mayashankar@gmail.com\"\n",
    "x1= re.findall(r'\\b[A-Za-z0-9._%+-]+@[A-Za-z0-9.-]+\\.[A-Za-z]{2,}\\b', txt1)        #Text extract garna help garxa\n",
    "print(x1)"
   ]
  },
  {
   "cell_type": "code",
   "execution_count": 10,
   "id": "0c64f2f3",
   "metadata": {},
   "outputs": [
    {
     "data": {
      "text/plain": [
       "' \\nKati khera use hunchha vane jaba text analysis garnu paryo \\ncomment haru maa \\nlots of comment huna paayo \\n\\n\\nhate speech hataaunu paryo \\n\\nemail extract garna automation garnu paryo \\n\\npattern extract garda \\n\\n'"
      ]
     },
     "execution_count": 10,
     "metadata": {},
     "output_type": "execute_result"
    }
   ],
   "source": [
    "\"\"\" \n",
    "Kati khera use hunchha vane jaba text analysis garnu paryo \n",
    "comment haru maa \n",
    "lots of comment huna paayo \n",
    "\n",
    "\n",
    "hate speech hataaunu paryo \n",
    "\n",
    "email extract garna automation garnu paryo \n",
    "\n",
    "pattern extract garda \n",
    "\n",
    "\"\"\""
   ]
  },
  {
   "cell_type": "markdown",
   "id": "5277fb97",
   "metadata": {},
   "source": [
    "## File Handling"
   ]
  },
  {
   "cell_type": "code",
   "execution_count": 19,
   "id": "8218eeae",
   "metadata": {},
   "outputs": [
    {
     "name": "stdout",
     "output_type": "stream",
     "text": [
      "THis is the example of file handling.\n"
     ]
    },
    {
     "name": "stderr",
     "output_type": "stream",
     "text": [
      "<>:5: SyntaxWarning: invalid escape sequence '\\e'\n",
      "<>:5: SyntaxWarning: invalid escape sequence '\\e'\n",
      "C:\\Users\\Bina computer jnk\\AppData\\Local\\Temp\\ipykernel_20212\\1771855204.py:5: SyntaxWarning: invalid escape sequence '\\e'\n",
      "  filepath = \"files\\example.txt\"\n"
     ]
    }
   ],
   "source": [
    "# files vanne folder banaune\n",
    "# files folder   vitra example.txt vanne 1uta file banaune\n",
    "\n",
    "# Aba tyo file laai read garnu paryo \n",
    "filepath = \"files\\example.txt\"\n",
    "f = open( filepath,\"r\")\n",
    "print(f.read())\n",
    "f.close()           #File jaile ni open garera close garnu parchha natra file memory ma baschha ani memory consume hunchha        \n",
    "\n",
    "# Warning laai check garne ani resolve garnne"
   ]
  },
  {
   "cell_type": "code",
   "execution_count": 20,
   "id": "387a0d49",
   "metadata": {},
   "outputs": [
    {
     "name": "stdout",
     "output_type": "stream",
     "text": [
      "f:\\Programming\\python_training\\PYTHON_BASICS\n"
     ]
    }
   ],
   "source": [
    "# Current path kaha bata lyaune  (current directory print garna)\n",
    "import os\n",
    "print(os.getcwd())"
   ]
  },
  {
   "cell_type": "code",
   "execution_count": 23,
   "id": "e9355524",
   "metadata": {},
   "outputs": [
    {
     "name": "stdout",
     "output_type": "stream",
     "text": [
      "THis is the example of file handling.\n"
     ]
    },
    {
     "name": "stderr",
     "output_type": "stream",
     "text": [
      "<>:3: SyntaxWarning: invalid escape sequence '\\e'\n",
      "<>:3: SyntaxWarning: invalid escape sequence '\\e'\n",
      "C:\\Users\\Bina computer jnk\\AppData\\Local\\Temp\\ipykernel_20212\\3023212665.py:3: SyntaxWarning: invalid escape sequence '\\e'\n",
      "  filepath = \"files\\example.txt\"  # yaha janerai wrongpath halaera heram\n"
     ]
    },
    {
     "data": {
      "text/plain": [
       "' \\nAlternatively ifkun error aauchha vane thaha chhaina the \\n\\nexcept Exception:\\n    print(\"File not found\")\\n\\n\\n'"
      ]
     },
     "execution_count": 23,
     "metadata": {},
     "output_type": "execute_result"
    }
   ],
   "source": [
    "# Error handling lagayer if file nai vetena vane \n",
    "\n",
    "filepath = \"files\\example.txt\"  # yaha janerai wrongpath halaera heram\n",
    "try:\n",
    "    f = open( filepath,\"r\")\n",
    "    print(f.read())\n",
    "except FileNotFoundError:\n",
    "    print(\"File not found\")\n",
    "\n",
    "\"\"\" \n",
    "Alternatively ifkun error aauchha vane thaha chhaina the \n",
    "\n",
    "except Exception:\n",
    "    print(\"File not found\")\n",
    "\n",
    "\n",
    "\"\"\"\n"
   ]
  },
  {
   "cell_type": "code",
   "execution_count": 24,
   "id": "54918230",
   "metadata": {},
   "outputs": [
    {
     "name": "stdout",
     "output_type": "stream",
     "text": [
      "THis is the example of file handling.\n"
     ]
    }
   ],
   "source": [
    "# Alternatively file laai yesari ni open garna sakinchha \n",
    "\n",
    "with open(filepath,\"r\") as f:\n",
    "    content=f.read()\n",
    "    print(content)\n",
    "\n",
    "# yo case maa file laai close garnu parena "
   ]
  },
  {
   "cell_type": "code",
   "execution_count": 26,
   "id": "a51fb629",
   "metadata": {},
   "outputs": [
    {
     "name": "stderr",
     "output_type": "stream",
     "text": [
      "<>:4: SyntaxWarning: invalid escape sequence '\\e'\n",
      "<>:4: SyntaxWarning: invalid escape sequence '\\e'\n",
      "C:\\Users\\Bina computer jnk\\AppData\\Local\\Temp\\ipykernel_20212\\1117399323.py:4: SyntaxWarning: invalid escape sequence '\\e'\n",
      "  filepath=\"files\\example1.txt\"  # ( example1.txt ko new file banaaidinchha )\n"
     ]
    }
   ],
   "source": [
    "# Writing the file \n",
    "# filepath=\"files\\example.txt\"\n",
    "\n",
    "filepath=\"files\\example1.txt\"  # ( example1.txt ko new file banaaidinchha )\n",
    "\n",
    "try:\n",
    "    with open(filepath,\"w\") as f:\n",
    "        f.write(\"This is the example of new file \")   # Puraano sabaitext laai hatayera yaha vaako kura file vitra write garchha \n",
    "\n",
    "except FileNotFoundError:\n",
    "    print(\"File not found.\")\n",
    "\n",
    "\n",
    "\n",
    "\n"
   ]
  },
  {
   "cell_type": "code",
   "execution_count": 27,
   "id": "0240b2f7",
   "metadata": {},
   "outputs": [
    {
     "name": "stderr",
     "output_type": "stream",
     "text": [
      "<>:3: SyntaxWarning: invalid escape sequence '\\e'\n",
      "<>:3: SyntaxWarning: invalid escape sequence '\\e'\n",
      "C:\\Users\\Bina computer jnk\\AppData\\Local\\Temp\\ipykernel_20212\\28445001.py:3: SyntaxWarning: invalid escape sequence '\\e'\n",
      "  filepath=\"files\\example.txt\"\n"
     ]
    }
   ],
   "source": [
    "#append to file      (Puraano text maa na hataayikanhaalnu paryo vane append huncha)\n",
    "\n",
    "filepath=\"files\\example.txt\"\n",
    "\n",
    "try:\n",
    "    with open(filepath,\"a\") as f:\n",
    "        f.write(\"\\n This is an appended text\")    #Pre-existing file maa text laai append gardincha if \\n use gardai gayo vane \n",
    "\n",
    "\n",
    "except FileNotFoundError:\n",
    "    print(\"File not found. \")"
   ]
  },
  {
   "cell_type": "code",
   "execution_count": 17,
   "id": "e870435e",
   "metadata": {},
   "outputs": [],
   "source": [
    "# Yestai text files,excelfiles,json files Junsukai files laai handle garna sakinchha\n"
   ]
  },
  {
   "cell_type": "code",
   "execution_count": 18,
   "id": "1c6a1b9c",
   "metadata": {},
   "outputs": [
    {
     "name": "stderr",
     "output_type": "stream",
     "text": [
      "<>:9: SyntaxWarning: invalid escape sequence '\\e'\n",
      "<>:9: SyntaxWarning: invalid escape sequence '\\e'\n",
      "C:\\Users\\Bina computer jnk\\AppData\\Local\\Temp\\ipykernel_11804\\2675811270.py:9: SyntaxWarning: invalid escape sequence '\\e'\n",
      "  filepath=\"files\\example1.json \"\n"
     ]
    }
   ],
   "source": [
    "#wrinting into the Json files \n",
    "\n",
    "student_info = {\n",
    "    \"name\":\"Shankar_Sharma\",\n",
    "    \"age\":25,\n",
    "    \"grade\":9.5\n",
    "}                                                  \n",
    "\n",
    "filepath=\"files\\example1.json \"\n",
    "with open(filepath,\"w\") as f:\n",
    "    f.write(str(student_info))                # Dictionary laai string maa laana typecasting garnuparyo"
   ]
  },
  {
   "cell_type": "code",
   "execution_count": 37,
   "id": "28ba7751",
   "metadata": {},
   "outputs": [
    {
     "name": "stdout",
     "output_type": "stream",
     "text": [
      "original:Hello,this is a new file.\n",
      " This is an appended text\n",
      "After using regex :Hello,this is a new file.\n",
      " This is an appended text\n"
     ]
    },
    {
     "name": "stderr",
     "output_type": "stream",
     "text": [
      "<>:5: SyntaxWarning: invalid escape sequence '\\e'\n",
      "<>:5: SyntaxWarning: invalid escape sequence '\\e'\n",
      "C:\\Users\\Bina computer jnk\\AppData\\Local\\Temp\\ipykernel_17136\\298551570.py:5: SyntaxWarning: invalid escape sequence '\\e'\n",
      "  filepath=\"files\\example.txt\"\n"
     ]
    }
   ],
   "source": [
    "# Regex use garera file ko kunai particular format laai extract garne \n",
    "# read from file \n",
    "\n",
    "import re\n",
    "filepath=\"files\\example.txt\"\n",
    "try:\n",
    "   with open(filepath,\"r\") as f:\n",
    "       content=f.read()\n",
    "       print(f\"original:{content}\")\n",
    "       \n",
    "       #find all email address\n",
    "       after_content=content.replace(\"test@exmple.com \",\"mshpe@gmail.com\")       #email laai khojera tyaha baata replace gardinchha  \n",
    "\n",
    "       print(f\"After using regex :{after_content}\")\n",
    "\n",
    "\n",
    "\n",
    "except FileNotFoundError:\n",
    "    print(\"File not found.\")\n",
    "    \n"
   ]
  }
 ],
 "metadata": {
  "kernelspec": {
   "display_name": "mshpe",
   "language": "python",
   "name": "python3"
  },
  "language_info": {
   "codemirror_mode": {
    "name": "ipython",
    "version": 3
   },
   "file_extension": ".py",
   "mimetype": "text/x-python",
   "name": "python",
   "nbconvert_exporter": "python",
   "pygments_lexer": "ipython3",
   "version": "3.13.1"
  }
 },
 "nbformat": 4,
 "nbformat_minor": 5
}
