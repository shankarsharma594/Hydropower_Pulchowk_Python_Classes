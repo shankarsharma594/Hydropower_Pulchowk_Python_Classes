{
 "cells": [
  {
   "cell_type": "markdown",
   "id": "022aa58c",
   "metadata": {},
   "source": [
    "### Part 5"
   ]
  },
  {
   "cell_type": "code",
   "execution_count": 2,
   "id": "9c697eba",
   "metadata": {},
   "outputs": [
    {
     "name": "stdout",
     "output_type": "stream",
     "text": [
      "welcome to USA\n"
     ]
    }
   ],
   "source": [
    "# Part 4 Recap \n",
    "# Functions \n",
    "def greet (country=\"Nepal\"):  #Default argument\n",
    "    print(f\"welcome to {country}\")\n",
    "\n",
    "# greet()    # Country na deko case ma India \n",
    "# country=\"Dubai\"\n",
    "# greet(country)\n",
    "greet(\"USA\")\n",
    "\n",
    " "
   ]
  },
  {
   "cell_type": "code",
   "execution_count": 3,
   "id": "7e82cef1",
   "metadata": {},
   "outputs": [
    {
     "data": {
      "text/plain": [
       "False"
      ]
     },
     "execution_count": 3,
     "metadata": {},
     "output_type": "execute_result"
    }
   ],
   "source": [
    "#Example of return statement \n",
    "\n",
    "# def is_even(num):\n",
    "#     return num % 2==0\n",
    "\n",
    "# (alternatively)\n",
    "def is_even(num):\n",
    "    if num % 2==0:\n",
    "        return True\n",
    "    else:\n",
    "        return False\n",
    "\n",
    "\n",
    "\n",
    "\n",
    "\n",
    "num=11\n",
    "is_even(num)"
   ]
  },
  {
   "cell_type": "code",
   "execution_count": 4,
   "id": "4bb410d7",
   "metadata": {},
   "outputs": [
    {
     "data": {
      "text/plain": [
       "17"
      ]
     },
     "execution_count": 4,
     "metadata": {},
     "output_type": "execute_result"
    }
   ],
   "source": [
    "def add_two_num(num1,num2,num3): # 2uita argument aauchha vane thaha xa\n",
    "    return num1+num2+num3\n",
    "\n",
    "# Jaba Arguments katiwota aauchha vanne thaha hudaina tyocase maa args use garne \n",
    "\n",
    "# add_two_num(10,6)\n",
    "add_two_num(10,3,4) #yesle error dinchha"
   ]
  },
  {
   "cell_type": "code",
   "execution_count": 5,
   "id": "50317a2e",
   "metadata": {},
   "outputs": [
    {
     "data": {
      "text/plain": [
       "44"
      ]
     },
     "execution_count": 5,
     "metadata": {},
     "output_type": "execute_result"
    }
   ],
   "source": [
    "# args and kwargs \n",
    "\n",
    "def add_numbers(*args):\n",
    "    total=0\n",
    "    for num in args:\n",
    "        total+=num           #total=total+num\n",
    "    \n",
    "    return total \n",
    "\n",
    "add_numbers(1,2,5,6,8,9,0,1,4,5,3)  #Argumentsjati pani pass garna payao\n"
   ]
  },
  {
   "cell_type": "code",
   "execution_count": 6,
   "id": "fd2c8e93",
   "metadata": {},
   "outputs": [
    {
     "data": {
      "text/plain": [
       "3958"
      ]
     },
     "execution_count": 6,
     "metadata": {},
     "output_type": "execute_result"
    }
   ],
   "source": [
    "# *kwargs garyo vane key,value haalnu parxa argument maa\n",
    "\n",
    "def add_numbers (**kwargs):\n",
    "    total=0\n",
    "    for key, value in kwargs.items():\n",
    "        total+=value\n",
    "        # print(f\"key:{key},value:{value},total:{total}\")\n",
    "    return total\n",
    "\n",
    "nums={\"Koshi\":1478,\"Trishuli\":1390,\"Gandaki\":1090}\n",
    "add_numbers(**nums)"
   ]
  },
  {
   "cell_type": "markdown",
   "id": "32d5ad5b",
   "metadata": {},
   "source": [
    "####  different between *args and **kwargs"
   ]
  },
  {
   "cell_type": "code",
   "execution_count": 7,
   "id": "773ae6e4",
   "metadata": {},
   "outputs": [],
   "source": [
    "# Default arguments\n",
    "\n",
    "# def student_info (name,age,grade=3.4,is_passed=True):        #(mildaina yeari arguments right to left hunuparchha jaile ni )\n",
    "#     print(f\"Name:{name},Age:{age},Grade:{grade},passed:{is_passed}\")\n",
    "\n",
    "\n",
    "\n",
    "# def student_info (name,age=4,grade=3.4,is_passed):        (mildaina yeari arguments right to left hunuparchha jaile ni )\n",
    "#      print(f\"Name:{name},Age:{age},Grade:{grade},passed:{is_passed}\")\n",
    "\n",
    "\n",
    "def student_info (name,age=4,grade=3.4,is_passed=True):  # Yeasri milchha )\n",
    "     print(f\"Name:{name},Age:{age},Grade:{grade},passed:{is_passed}\")\n"
   ]
  },
  {
   "cell_type": "code",
   "execution_count": 8,
   "id": "7e435cee",
   "metadata": {},
   "outputs": [
    {
     "name": "stdout",
     "output_type": "stream",
     "text": [
      "Name:ram,Age:34,Grade:4.0,passed:True\n",
      "Name:ram,Age:34,Grade:3.4,passed:True\n"
     ]
    }
   ],
   "source": [
    "student_info(name=\"ram\",age=34,grade=4.0)\n",
    "# student_info(name=\"ram\",34) #( mildaina jaile ni argument right to left nai hunu parchha )\n",
    "student_info(\"ram\",age=34)    #(milchha)\n"
   ]
  },
  {
   "cell_type": "code",
   "execution_count": 9,
   "id": "0b86083e",
   "metadata": {},
   "outputs": [
    {
     "name": "stdout",
     "output_type": "stream",
     "text": [
      "Name:ram,Age:34,Grade:2.3,passed:False\n"
     ]
    },
    {
     "data": {
      "text/plain": [
       "' Argument ko order k chha thahaxaina vane keyword sahit dine '"
      ]
     },
     "execution_count": 9,
     "metadata": {},
     "output_type": "execute_result"
    }
   ],
   "source": [
    "# student_info(\"ram\",35,3.2,False)\n",
    "\n",
    "#  #name=ram,age=3.1,grade=35 so mistake hunxa\n",
    "\n",
    "student_info(name=\"ram\",grade=2.3,age=34,is_passed=False )  #(yesari diyam vane error hudaina junsukai order maa argument dina sakinxa )\n",
    "\n",
    "\n",
    "\"\"\" Argument ko order k chha thahaxaina vane keyword sahit dine \"\"\"\n"
   ]
  },
  {
   "cell_type": "code",
   "execution_count": 10,
   "id": "7e452902",
   "metadata": {},
   "outputs": [],
   "source": [
    "# Write a function to check weather a given student is either passed or failed \n",
    "\n",
    "# student={name,department,address,grade}\n",
    "# grade >3 -> passed else failed \n",
    "#output format:\n",
    "#name-> passed or failed \n",
    "\n",
    "def check_passed(**student_info):\n",
    "    grade=student_info.get(\"grade\",0.0)\n",
    "    name=student_info.get(\"name\",None)\n",
    "    if not name:\n",
    "        print(\"Name is required \")\n",
    "        return None\n",
    "    \n",
    "    if grade>3.0:\n",
    "        print(f\"{name} is passed with grade '{grade}'.\")\n",
    "\n",
    "    else:\n",
    "        print(f\"{name} is failed with grade '{grade}'.\")\n",
    "\n",
    "    \n",
    "\n",
    "\n",
    "\n",
    "    \n",
    "\n"
   ]
  },
  {
   "cell_type": "code",
   "execution_count": 11,
   "id": "717012b6",
   "metadata": {},
   "outputs": [
    {
     "name": "stdout",
     "output_type": "stream",
     "text": [
      "ram is failed with grade '2.8'.\n"
     ]
    }
   ],
   "source": [
    "#Testing\n",
    "# student1={\"grade\":2.0}\n",
    "# check_passed(**student1)\n",
    "\n",
    "student2={\"name\":\"ram\",\"grade\":2.8}\n",
    "check_passed(**student2)"
   ]
  },
  {
   "cell_type": "code",
   "execution_count": 12,
   "id": "9f5273f4",
   "metadata": {},
   "outputs": [
    {
     "data": {
      "text/plain": [
       "'\\ndef check_passed(**student_info):\\n    grade=student_info.get(\"grade\",0.0)\\n    name=student_info[\"name\"]   # maathi ko same code maa get hataayera maatra name halyam vane keyerror faalchha\\n    if not name:\\n        print(\"Name is required \")\\n        return None\\n\\n    if grade>3.0:\\n        print(f\"{name} is passed with grade \\'{grade}\\'.\")\\n\\n    else:\\n        print(f\"{name} is failed with grade \\'{grade}\\'.\")\\n\\n\\n\\nstudent1={\"grade\":2.0}\\ncheck_passed(**student1)\\n\\nstudent2={\"name\":\"ram\"}\\ncheck_passed(**student2) '"
      ]
     },
     "execution_count": 12,
     "metadata": {},
     "output_type": "execute_result"
    }
   ],
   "source": [
    "\"\"\"\n",
    "def check_passed(**student_info):\n",
    "    grade=student_info.get(\"grade\",0.0)\n",
    "    name=student_info[\"name\"]   # maathi ko same code maa get hataayera maatra name halyam vane keyerror faalchha\n",
    "    if not name:\n",
    "        print(\"Name is required \")\n",
    "        return None\n",
    "    \n",
    "    if grade>3.0:\n",
    "        print(f\"{name} is passed with grade '{grade}'.\")\n",
    "\n",
    "    else:\n",
    "        print(f\"{name} is failed with grade '{grade}'.\")\n",
    "\n",
    "    \n",
    "\n",
    "student1={\"grade\":2.0}\n",
    "check_passed(**student1)\n",
    "\n",
    "student2={\"name\":\"ram\"}\n",
    "check_passed(**student2) \"\"\""
   ]
  },
  {
   "cell_type": "code",
   "execution_count": 13,
   "id": "7de899da",
   "metadata": {},
   "outputs": [],
   "source": [
    "# List pass garne \n",
    "def check_highest_marks(marks):\n",
    "    print(marks)\n",
    "    return max(marks)\n",
    "\n",
    "\n",
    "\n"
   ]
  },
  {
   "cell_type": "code",
   "execution_count": 14,
   "id": "44761af3",
   "metadata": {},
   "outputs": [
    {
     "name": "stdout",
     "output_type": "stream",
     "text": [
      "[10, 20, 30, 40, 50]\n"
     ]
    },
    {
     "data": {
      "text/plain": [
       "50"
      ]
     },
     "execution_count": 14,
     "metadata": {},
     "output_type": "execute_result"
    }
   ],
   "source": [
    "marks=[10,20,30,40,50]\n",
    "check_highest_marks(marks)"
   ]
  },
  {
   "cell_type": "code",
   "execution_count": 15,
   "id": "35a4b4ab",
   "metadata": {},
   "outputs": [
    {
     "name": "stdout",
     "output_type": "stream",
     "text": [
      "[10, 20, 30, 40, 50]\n"
     ]
    },
    {
     "data": {
      "text/plain": [
       "50"
      ]
     },
     "execution_count": 15,
     "metadata": {},
     "output_type": "execute_result"
    }
   ],
   "source": [
    "# If yo code arko modulema use garnu paryo vane arguments ko type thah hunna tyo casema yesari garne \n",
    "\n",
    "\n",
    "def check_highest_marks(marks:list):    # Yesari arguments ko type laai halnasakinchhha \n",
    "    print(marks)\n",
    "    return max(marks)\n",
    "\n",
    "\n",
    "marks=[10,20,30,40,50]\n",
    "check_highest_marks(marks)\n"
   ]
  },
  {
   "cell_type": "code",
   "execution_count": 16,
   "id": "2d4455b9",
   "metadata": {},
   "outputs": [],
   "source": [
    "# def student_info (name:str,age:int,grade:float=3.4,is_passed:bool=True)->None:"
   ]
  },
  {
   "cell_type": "markdown",
   "id": "41d23e1b",
   "metadata": {},
   "source": [
    "Error Handling"
   ]
  },
  {
   "cell_type": "code",
   "execution_count": 49,
   "id": "e012d0b9",
   "metadata": {},
   "outputs": [],
   "source": [
    "#Example of error handling ( keyerror faleko laai handle garchha)\n",
    "\n",
    "def check_passed_with_error_handling(**student_info):\n",
    "    try:\n",
    "        grade=student_info.get(\"grade\",0.0)\n",
    "        name=student_info[\"name\"]\n",
    "        if not name:\n",
    "            print(\"Name is required \")\n",
    "            return None\n",
    "        \n",
    "        if grade>3.0:\n",
    "            print(f\"{name} is passed with grade '{grade}'.\")\n",
    "\n",
    "        else:\n",
    "            print(f\"{name} is failed with grade '{grade}'.\")\n",
    "\n",
    "    except KeyError as ke:\n",
    "        print(f\"Error:Missing required key in student info:{str(ke)}\")\n",
    "        return None\n",
    "    \n",
    "    except Exception as e:\n",
    "        print(f\"An error occured :{str(e)}\")\n",
    "        return None\n",
    "    "
   ]
  },
  {
   "cell_type": "code",
   "execution_count": 46,
   "id": "6b35ce72",
   "metadata": {},
   "outputs": [
    {
     "name": "stdout",
     "output_type": "stream",
     "text": [
      "An error occured :'name'\n"
     ]
    }
   ],
   "source": [
    "# Maathi kai code xa tara yesmaa name diyena vane error aauxa\n",
    "\n",
    "def check_passed(**student_info):\n",
    "    grade=student_info.get(\"grade\",3.1)\n",
    "    name=student_info[\"name\"]\n",
    "    if not name:\n",
    "        print(\"Name is required \")\n",
    "        return None\n",
    "    \n",
    "    if grade>3.0:\n",
    "        print(f\"{name} is passed with grade '{grade}'.\")\n",
    "\n",
    "    else:\n",
    "        print(f\"{name} is failed with grade '{grade}'.\")\n",
    "\n",
    "    \n",
    "\n",
    "student1={\"grade\":2.0}\n",
    "check_passed_with_error_handling(**student1)                       # check_passed Key error faalchha ani check_passed_with_errorhandling ma faldaina\n",
    "\n",
    "# student2={\"name\":\"ram\"}\n",
    "# check_passed(**student2)"
   ]
  },
  {
   "cell_type": "code",
   "execution_count": 50,
   "id": "4b12a8fd",
   "metadata": {},
   "outputs": [
    {
     "name": "stdout",
     "output_type": "stream",
     "text": [
      "Error:Missing required key in student info:'name'\n"
     ]
    }
   ],
   "source": [
    "# #running above code to viusalize keyerror\n",
    "student3={\"grade\":3.4,\"department\":\"Computer Science\"}\n",
    "check_passed_with_error_handling(**student3)                                  #Check_passed function maatra use garyam vane keyerror faalcha if check_passed_with_error_handling then faldaina"
   ]
  },
  {
   "cell_type": "code",
   "execution_count": 34,
   "id": "8b8120ae",
   "metadata": {},
   "outputs": [
    {
     "name": "stdout",
     "output_type": "stream",
     "text": [
      "Error:Missing required key in student info:'name'\n"
     ]
    }
   ],
   "source": [
    "# Example to show how errorhandling works \n",
    "check_passed_with_error_handling(**student1)\n",
    "\n",
    "# Error handling le server laai crash gardaina,jhyappai kunai programme band hunxa tyesto laai resolve garxa "
   ]
  },
  {
   "cell_type": "markdown",
   "id": "dd8962c3",
   "metadata": {},
   "source": [
    "try:\n",
    "    try this block\n",
    "except:\n",
    "    except do this \n",
    "finally:\n",
    "    finally do something\n",
    "\n"
   ]
  }
 ],
 "metadata": {
  "kernelspec": {
   "display_name": "mshpe",
   "language": "python",
   "name": "python3"
  },
  "language_info": {
   "codemirror_mode": {
    "name": "ipython",
    "version": 3
   },
   "file_extension": ".py",
   "mimetype": "text/x-python",
   "name": "python",
   "nbconvert_exporter": "python",
   "pygments_lexer": "ipython3",
   "version": "3.13.1"
  }
 },
 "nbformat": 4,
 "nbformat_minor": 5
}
