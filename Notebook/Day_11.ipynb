{
 "cells": [
  {
   "cell_type": "markdown",
   "id": "5ca97ccc",
   "metadata": {},
   "source": [
    "#### Revisions of the class and some assignment questions"
   ]
  },
  {
   "cell_type": "code",
   "execution_count": 7,
   "id": "a99827a5",
   "metadata": {},
   "outputs": [],
   "source": [
    "#Bank Account class\n",
    "\n",
    "class BankAcoount:\n",
    "    def __init__ (self,balance:float,account_name:str,account_number:str):\n",
    "        self.balance=balance\n",
    "        self.account_name=account_name\n",
    "        self.account_number=account_number\n",
    "\n",
    "    def deposit (self,amount):\n",
    "        if amount<0:\n",
    "            raise ValueError (\"amount must be positive\")\n",
    "        if amount > 100000:\n",
    "            raise ValueError (\"Maximum Deposit amount exceeded\")\n",
    "\n",
    "        self.balance+=amount\n",
    "    \n",
    "\n",
    "    def withdraw(self,amount):\n",
    "        if amount<0:\n",
    "            raise ValueError(\"amount must be positive\")     #(raise garnu ani return garnu1utai ho ),(Yo statement maa print lagaayer check garam)\n",
    "\n",
    "        if amount>self.balance:\n",
    "            raise ValueError(\"Insufficient Balane\")\n",
    "\n",
    "        if amount % 100!=0:\n",
    "            raise ValueError (\"withdrawl amount must be multiple of 500\")\n",
    "\n",
    "        if amount>50000:\n",
    "            raise ValueError (\"maximum withdrawl amount exceeded\")\n",
    "        \n",
    "        self.balance-=amount\n",
    "\n",
    "    def check_balance(self):\n",
    "        return self.balance\n"
   ]
  },
  {
   "cell_type": "code",
   "execution_count": 8,
   "id": "0ea0b635",
   "metadata": {},
   "outputs": [
    {
     "name": "stdout",
     "output_type": "stream",
     "text": [
      "Current balance is 100500\n",
      "Current balance is 50500\n"
     ]
    }
   ],
   "source": [
    "# Testing the code\n",
    "try:\n",
    "    account1=BankAcoount(balance=100000,account_name=\"test account\",account_number=\"1234567\")\n",
    "    account1.deposit(500)\n",
    "    print(f\"Current balance is {account1.check_balance()}\")\n",
    "    account1.withdraw(50000)\n",
    "    print(f\"Current balance is {account1.check_balance()}\")\n",
    "\n",
    "\n",
    "except Exception as e:\n",
    "    print(str(e))\n"
   ]
  },
  {
   "cell_type": "markdown",
   "id": "cc491cf4",
   "metadata": {},
   "source": [
    "#### Creating a Password generator"
   ]
  },
  {
   "cell_type": "code",
   "execution_count": 13,
   "id": "130588f8",
   "metadata": {},
   "outputs": [],
   "source": [
    "# random password generator\n",
    "\n",
    "import random\n",
    "import string \n",
    "\n",
    "def generate_password (length=10):\n",
    "    letters_and_digits=string.ascii_letters+string.digits\n",
    "    password=\"\".join(random.choice(letters_and_digits) for i in range (length) )\n",
    "    return password"
   ]
  },
  {
   "cell_type": "code",
   "execution_count": 14,
   "id": "af7a815f",
   "metadata": {},
   "outputs": [
    {
     "data": {
      "text/plain": [
       "'svJkKTjdG8'"
      ]
     },
     "execution_count": 14,
     "metadata": {},
     "output_type": "execute_result"
    }
   ],
   "source": [
    "# Testing the code\n",
    "generate_password() "
   ]
  },
  {
   "cell_type": "code",
   "execution_count": null,
   "id": "6ac42f5d",
   "metadata": {},
   "outputs": [
    {
     "data": {
      "text/plain": [
       "' \\nPart 16 (Recap)\\n\\nCreate a Python programme using inheritance where :\\nDefine a base class Employeewith:\\n\\nAttributes:name,salary\\nMethod:display_info() to print employee details \\nDefine a derived class Manager that inherits from Employee:\\n\\nAdditional attribute department \\nOverride display_info() to include the department name \\nDerive another derived class Developer that inherits from Employee:\\n\\nAdditional attribute : programming_language \\nOverride display_info() to include the programming language \\nCreate objects for Manager and Developer,then call display_info() for both\\n\\n'"
      ]
     },
     "execution_count": 1,
     "metadata": {},
     "output_type": "execute_result"
    }
   ],
   "source": [
    "\"\"\" \n",
    "Part 16 (Recap)\n",
    "\n",
    "Create a Python programme using inheritance where :\n",
    "Define a base class Employeewith:\n",
    "\n",
    "Attributes:name,salary\n",
    "Method:display_info() to print employee details \n",
    "Define a derived class Manager that inherits from Employee:\n",
    "\n",
    "Additional attribute department \n",
    "Override display_info() to include the department name \n",
    "Derive another derived class Developer that inherits from Employee:\n",
    "\n",
    "Additional attribute : programming_language \n",
    "Override display_info() to include the programming language \n",
    "Create objects for Manager and Developer,then call display_info() for both\n",
    "\n",
    "\"\"\"\n",
    "\n",
    "\n",
    "\n",
    "\"\"\" \n",
    "Object oriented programming ko ramro revision and concept in\n",
    "part 16 suru ko 25 min herne majja lepractice garne \n",
    "\n",
    "\n",
    "\"\"\""
   ]
  },
  {
   "cell_type": "code",
   "execution_count": null,
   "id": "3e6d7173",
   "metadata": {},
   "outputs": [],
   "source": [
    "\"\"\"\" \n",
    "Part 17 26:00 min baata suru hunchha again concept of \n",
    "abstraction and polymorphism \n",
    "\n",
    "\n",
    "\n",
    "\"\"\""
   ]
  },
  {
   "cell_type": "code",
   "execution_count": null,
   "id": "1044d15d",
   "metadata": {},
   "outputs": [],
   "source": [
    "\"\"\" write a function to get the list from user and \n",
    "return two different list that is odd and even\n",
    "\n",
    "\"\"\""
   ]
  },
  {
   "cell_type": "code",
   "execution_count": 3,
   "id": "7fc477fb",
   "metadata": {},
   "outputs": [],
   "source": [
    "# Part 18 (Data Science Revision)\n",
    "#Implement a program to find the most frequent element in a list\n",
    "\n",
    "def find_most_frquent(numbers):\n",
    "    #Create a dictionary to store the count of each number\n",
    "    count_dict={}\n",
    "\n",
    "    # Iterate through the list and update the count in dictionary\n",
    "\n",
    "    for num in numbers:\n",
    "        if num in count_dict:\n",
    "            count_dict[num]+=1\n",
    "        else:\n",
    "            count_dict[num]=1\n",
    "\n",
    "    # Find the maximum count and the corresponding number\n",
    "    max_count=max(count_dict.values())\n",
    "    most_frequent_num=[num for num , count in count_dict.items() if count==max_count]\n",
    "\n",
    "    return most_frequent_num"
   ]
  },
  {
   "cell_type": "code",
   "execution_count": 5,
   "id": "73fa4b0a",
   "metadata": {},
   "outputs": [],
   "source": [
    "# Alternative numbers \n",
    "def find_most_frequent1(numbers):\n",
    "    if len(numbers)==0:\n",
    "        return None\n",
    "    \n",
    "    count_dict={}\n",
    "    for num in numbers :\n",
    "        if num in count_dict:\n",
    "            count_dict[num]+=1\n",
    "\n",
    "        else:\n",
    "            count_dict[num]=1\n",
    "\n",
    "    max_count =max(count_dict.values())\n",
    "    for num in count_dict:\n",
    "        if count_dict[num]==max_count:\n",
    "            return num\n",
    "        \n",
    "    return None"
   ]
  },
  {
   "cell_type": "code",
   "execution_count": 4,
   "id": "363b9ac6",
   "metadata": {},
   "outputs": [
    {
     "data": {
      "text/plain": [
       "[1]"
      ]
     },
     "execution_count": 4,
     "metadata": {},
     "output_type": "execute_result"
    }
   ],
   "source": [
    "# Testing the code \n",
    "numbers=[1,2,3,4,5,6,1,2,1,2,1,1]\n",
    "find_most_frquent(numbers)"
   ]
  },
  {
   "cell_type": "code",
   "execution_count": 6,
   "id": "89b5e551",
   "metadata": {},
   "outputs": [
    {
     "name": "stdout",
     "output_type": "stream",
     "text": [
      "1 1\n",
      "1 2\n",
      "1 3\n",
      "1 7\n",
      "2 1\n",
      "2 2\n",
      "2 3\n",
      "3 1\n",
      "3 2\n",
      "7 1\n"
     ]
    },
    {
     "data": {
      "text/plain": [
       "[1, 2, 3, 7, 9]"
      ]
     },
     "execution_count": 6,
     "metadata": {},
     "output_type": "execute_result"
    }
   ],
   "source": [
    "#sort numbers without using builtin function \n",
    "def number_sort(numbers):\n",
    "    n=len(numbers)\n",
    "    for i in range(n):\n",
    "        for j in range (0,n-i-1):\n",
    "            print(numbers[i],numbers[j])\n",
    "            if numbers[j]>numbers[j+1]:\n",
    "                numbers[j],numbers[j+1]=numbers[j+1],numbers[j]\n",
    "\n",
    "    return numbers \n",
    "\n",
    "numbers=[1,2,3,7,9]\n",
    "number_sort(numbers)"
   ]
  }
 ],
 "metadata": {
  "kernelspec": {
   "display_name": "mshpe",
   "language": "python",
   "name": "python3"
  },
  "language_info": {
   "codemirror_mode": {
    "name": "ipython",
    "version": 3
   },
   "file_extension": ".py",
   "mimetype": "text/x-python",
   "name": "python",
   "nbconvert_exporter": "python",
   "pygments_lexer": "ipython3",
   "version": "3.13.1"
  }
 },
 "nbformat": 4,
 "nbformat_minor": 5
}
