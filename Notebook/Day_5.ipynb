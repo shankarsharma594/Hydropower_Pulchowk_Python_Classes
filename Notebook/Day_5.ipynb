{
 "cells": [
  {
   "cell_type": "markdown",
   "id": "ed82ce29",
   "metadata": {},
   "source": [
    "Part:6"
   ]
  },
  {
   "cell_type": "markdown",
   "id": "96d1f5fa",
   "metadata": {},
   "source": [
    "### Assignment ( Revision Function )\n",
    "*Count the Frequency Of Characters*\n",
    "\n",
    "Write a function char_frequency(string) that takes a string as input and returns a dictionary with each character as the key and its frequency as the value .\n",
    "\n",
    "Requirements:\n",
    "    \n",
    "    -Ignore spaces and treat uppercase and lowercase letters as the same \n"
   ]
  },
  {
   "cell_type": "code",
   "execution_count": 14,
   "id": "ecf893b9",
   "metadata": {},
   "outputs": [],
   "source": [
    "#Solution of above stated assignment\n",
    "def char_frequency(words):\n",
    "    print(len(words))\n",
    "    \n",
    "    if len(words)==0:\n",
    "        return{}\n",
    "\n",
    "    frequency={}             # Empty dictionary create vayo \n",
    "    for char in words:\n",
    "        char=char.lower()    #Sabai word laai lower maa oncert garne kaam garcha\n",
    "        if char.isalpha():    # isalphale alphabetical letter ho ki naai vanera check garxa\n",
    "            if char in frequency:\n",
    "                frequency[char]+=1\n",
    "            else:\n",
    "                frequency[char]=1\n",
    "    return frequency\n",
    "\n",
    "\n",
    "\n"
   ]
  },
  {
   "cell_type": "code",
   "execution_count": 15,
   "id": "c9475aa6",
   "metadata": {},
   "outputs": [
    {
     "name": "stdout",
     "output_type": "stream",
     "text": [
      "26\n"
     ]
    },
    {
     "data": {
      "text/plain": [
       "{'h': 2,\n",
       " 'e': 5,\n",
       " 'l': 2,\n",
       " 'o': 3,\n",
       " 'y': 1,\n",
       " 'd': 1,\n",
       " 'r': 3,\n",
       " 'p': 1,\n",
       " 'w': 1,\n",
       " 'n': 2,\n",
       " 'g': 1,\n",
       " 'i': 1,\n",
       " 's': 1}"
      ]
     },
     "execution_count": 15,
     "metadata": {},
     "output_type": "execute_result"
    }
   ],
   "source": [
    "# Passing the word char in the above function\n",
    "words=\"Hello Hydropower Engineers\"\n",
    "char_frequency(words)"
   ]
  },
  {
   "cell_type": "code",
   "execution_count": 16,
   "id": "6f29143b",
   "metadata": {},
   "outputs": [
    {
     "name": "stdout",
     "output_type": "stream",
     "text": [
      "HELLO\n"
     ]
    },
    {
     "data": {
      "text/plain": [
       "'\\n#Sabai Capital maa lagnu paryo vane \\n    words=\"hello\"\\n    words.upper()\\n\\n\\n#Starting(1st) letter laai maatra lagnu paryo vane \\n    words=\"hello\"\\n    words.capitalize()\\n\\n'"
      ]
     },
     "execution_count": 16,
     "metadata": {},
     "output_type": "execute_result"
    }
   ],
   "source": [
    "# Explanation Sabai lowercase maa laaunu paryo vane \n",
    "words=\"hello\"\n",
    "x=words.upper()\n",
    "print(words.upper()) \n",
    "\n",
    "\"\"\"\n",
    "#Sabai Capital maa lagnu paryo vane \n",
    "    words=\"hello\"\n",
    "    words.upper()\n",
    "\n",
    "\n",
    "#Starting(1st) letter laai maatra lagnu paryo vane \n",
    "    words=\"hello\"\n",
    "    words.capitalize()\n",
    "\n",
    "\"\"\"\n",
    "\n",
    "\n"
   ]
  },
  {
   "cell_type": "code",
   "execution_count": 17,
   "id": "79f9086b",
   "metadata": {},
   "outputs": [
    {
     "data": {
      "text/plain": [
       "{'hello': 'world'}"
      ]
     },
     "execution_count": 17,
     "metadata": {},
     "output_type": "execute_result"
    }
   ],
   "source": [
    "# Kunai particular dictionary maa key raw value assigngarnu paryo vane \n",
    "test_dict={}\n",
    "test_dict[\"hello\"]=\"world\"\n",
    "test_dict\n"
   ]
  },
  {
   "cell_type": "code",
   "execution_count": 18,
   "id": "5de3fdfb",
   "metadata": {},
   "outputs": [
    {
     "data": {
      "text/plain": [
       "'\\n# memory space kati khayo sabai check garna sakinchha  \\n\\nimport sys\\n\\nx = 10457.7868887\\nprint(sys.getsizeof(x), \"bytes\")\\n\\nlst = [1, 2, 3, 4, 5]\\nprint(sys.getsizeof(lst), \"bytes\")\\n\\n\\n'"
      ]
     },
     "execution_count": 18,
     "metadata": {},
     "output_type": "execute_result"
    }
   ],
   "source": [
    "# Yo programme le runtime kati liyo\n",
    "\n",
    "\"\"\"\n",
    "\n",
    "import timeit\n",
    "execution_time = timeit.timeit(\"sum(range(1000000))\", number=1)\n",
    "print(f\"Runtime: {execution_time:.5f} seconds\")\n",
    "\"\"\"\n",
    "\n",
    "\"\"\"\n",
    "# memory space kati khayo sabai check garna sakinchha  \n",
    "\n",
    "import sys\n",
    "\n",
    "x = 10457.7868887\n",
    "print(sys.getsizeof(x), \"bytes\")\n",
    "\n",
    "lst = [1, 2, 3, 4, 5]\n",
    "print(sys.getsizeof(lst), \"bytes\")\n",
    "\n",
    "\n",
    "\"\"\"\n",
    "\n",
    "\n",
    "# https://docs.python.org/3.13/library/stdtypes.html#str.isalpha   ( documentation haru padhna man lagyo vaneyo link use garnuhola )"
   ]
  },
  {
   "cell_type": "markdown",
   "id": "4ae84373",
   "metadata": {},
   "source": [
    "#### Assignement 2 :\n",
    "Reverse a sentence\n",
    "\n",
    "Write a function reverse_sentence(sentence) that takes a sentence as input and returns the sentence with the words reversed,but the order of characters in each \n",
    "word preserved\n"
   ]
  },
  {
   "cell_type": "code",
   "execution_count": 19,
   "id": "e812e85e",
   "metadata": {},
   "outputs": [
    {
     "data": {
      "text/plain": [
       "'\\nsentence=\"I am planning to apply for job.\"\\noutput_format=\"job. for apply to planning am I\"     \\n\\n# Here the order of character is preserved\\n\\n'"
      ]
     },
     "execution_count": 19,
     "metadata": {},
     "output_type": "execute_result"
    }
   ],
   "source": [
    "\"\"\"\n",
    "sentence=\"I am planning to apply for job.\"\n",
    "output_format=\"job. for apply to planning am I\"     \n",
    "\n",
    "# Here the order of character is preserved\n",
    "\n",
    "\"\"\""
   ]
  },
  {
   "cell_type": "code",
   "execution_count": 20,
   "id": "581d475a",
   "metadata": {},
   "outputs": [
    {
     "data": {
      "text/plain": [
       "['I', 'am', 'planning', 'to', 'apply', 'for', 'job.']"
      ]
     },
     "execution_count": 20,
     "metadata": {},
     "output_type": "execute_result"
    }
   ],
   "source": [
    "sentence=\"I am planning to apply for job.\"\n",
    "len(sentence)           #character level maa lenght check garchha (whitespace ni count garchha)\n",
    "\n",
    "result=sentence.split(\" \")      # Inverted comma vitra j hunccha tyesko basismaa split garchha\n",
    "\n",
    "\n",
    "result\n"
   ]
  },
  {
   "cell_type": "code",
   "execution_count": 21,
   "id": "9f6db375",
   "metadata": {},
   "outputs": [
    {
     "data": {
      "text/plain": [
       "[7, 6, 5, 3, 1]"
      ]
     },
     "execution_count": 21,
     "metadata": {},
     "output_type": "execute_result"
    }
   ],
   "source": [
    "## Reverse garna haamile 2nd class tirai padhisakya chham \n",
    "nums=[1,3,5,6,7]        #list(start:end:step)\n",
    "nums[::-1]"
   ]
  },
  {
   "cell_type": "code",
   "execution_count": 22,
   "id": "0ca17772",
   "metadata": {},
   "outputs": [
    {
     "data": {
      "text/plain": [
       "[7, 6, 5, 3, 1]"
      ]
     },
     "execution_count": 22,
     "metadata": {},
     "output_type": "execute_result"
    }
   ],
   "source": [
    "# alternatively yeasri ni reverse garna sakinchha \n",
    "nums.reverse()\n",
    "nums"
   ]
  },
  {
   "cell_type": "code",
   "execution_count": 23,
   "id": "9d804471",
   "metadata": {},
   "outputs": [
    {
     "data": {
      "text/plain": [
       "['job.', 'for', 'apply', 'to', 'planning', 'am', 'I']"
      ]
     },
     "execution_count": 23,
     "metadata": {},
     "output_type": "execute_result"
    }
   ],
   "source": [
    "#Maathi ko code sentence wala laai aba yesari garne \n",
    "result.reverse()\n",
    "result"
   ]
  },
  {
   "cell_type": "code",
   "execution_count": 24,
   "id": "6406c703",
   "metadata": {},
   "outputs": [
    {
     "data": {
      "text/plain": [
       "'job. for apply to planning am I'"
      ]
     },
     "execution_count": 24,
     "metadata": {},
     "output_type": "execute_result"
    }
   ],
   "source": [
    "# Yo format baata aba fari sentence maa convert garnu paryo\n",
    "\" \".join(result)\n"
   ]
  },
  {
   "cell_type": "code",
   "execution_count": 25,
   "id": "d1040ed8",
   "metadata": {},
   "outputs": [],
   "source": [
    "def reverse_sentence_1(sentence):\n",
    "    if len(sentence)==0:\n",
    "        return\"\"\n",
    "    \n",
    "    words=sentence.split(\" \")\n",
    "    reversed_words=words[::-1]\n",
    "\n",
    "    result= \" \".join(reversed_words)\n",
    "    return result"
   ]
  },
  {
   "cell_type": "code",
   "execution_count": 26,
   "id": "d6fcbf41",
   "metadata": {},
   "outputs": [],
   "source": [
    "# Same Kura laai Function baata garnu paryo vane kasari garne \n",
    "\n",
    "def reverse_sentence_2(sentence):\n",
    "    if len(sentence)==0:\n",
    "        return\"\"\n",
    "    \n",
    "    words=sentence.split(\" \")\n",
    "    reversed_words=\" \".join([word for word in sentence.split()[::-1]])\n",
    "    return reversed_words\n",
    "\n",
    "\n"
   ]
  },
  {
   "cell_type": "code",
   "execution_count": 27,
   "id": "c1b29036",
   "metadata": {},
   "outputs": [],
   "source": [
    "# Using .reverse() but without assigning\n",
    "def reverse_sentence_3(sentence):\n",
    "    if len(sentence)==0:\n",
    "        return\"\"\n",
    "    \n",
    "    words=sentence.split(\" \")  \n",
    "    words.reverse()     \n",
    "    result= \" \".join(words)\n",
    "    return result"
   ]
  },
  {
   "cell_type": "code",
   "execution_count": 28,
   "id": "863fe1f0",
   "metadata": {},
   "outputs": [
    {
     "data": {
      "text/plain": [
       "' Engineers Hydropower all are We '"
      ]
     },
     "execution_count": 28,
     "metadata": {},
     "output_type": "execute_result"
    }
   ],
   "source": [
    "sentence=\" We are all Hydropower Engineers \"\n",
    "\n",
    "reverse_sentence_3(sentence)"
   ]
  },
  {
   "cell_type": "code",
   "execution_count": 29,
   "id": "b9205c4c",
   "metadata": {},
   "outputs": [
    {
     "data": {
      "text/plain": [
       "'1-3-5-6'"
      ]
     },
     "execution_count": 29,
     "metadata": {},
     "output_type": "execute_result"
    }
   ],
   "source": [
    "# Explanation of some rules\n",
    "\n",
    "nums=[\"1\",\"3\",\"5\",\"6\"]\n",
    "nums=\"-\".join(nums)    #Formatting ko example ho yesari formatting garna sakinchha \n",
    "nums"
   ]
  },
  {
   "cell_type": "markdown",
   "id": "da4fe582",
   "metadata": {},
   "source": [
    "### ERROR HANDLING CONTINUED"
   ]
  },
  {
   "cell_type": "code",
   "execution_count": 30,
   "id": "30a27ad4",
   "metadata": {},
   "outputs": [
    {
     "ename": "KeyError",
     "evalue": "'milage'",
     "output_type": "error",
     "traceback": [
      "\u001b[31m---------------------------------------------------------------------------\u001b[39m",
      "\u001b[31mKeyError\u001b[39m                                  Traceback (most recent call last)",
      "\u001b[36mCell\u001b[39m\u001b[36m \u001b[39m\u001b[32mIn[30]\u001b[39m\u001b[32m, line 3\u001b[39m\n\u001b[32m      1\u001b[39m \u001b[38;5;66;03m#Example of keyerror\u001b[39;00m\n\u001b[32m      2\u001b[39m car = {\u001b[33m\"\u001b[39m\u001b[33mname\u001b[39m\u001b[33m\"\u001b[39m:\u001b[33m\"\u001b[39m\u001b[33mtesla\u001b[39m\u001b[33m\"\u001b[39m,\u001b[33m\"\u001b[39m\u001b[33mprice\u001b[39m\u001b[33m\"\u001b[39m:\u001b[33m\"\u001b[39m\u001b[33m50k\u001b[39m\u001b[33m\"\u001b[39m,\u001b[33m\"\u001b[39m\u001b[33mmodel\u001b[39m\u001b[33m\"\u001b[39m:\u001b[33m\"\u001b[39m\u001b[33m2024\u001b[39m\u001b[33m\"\u001b[39m}\n\u001b[32m----> \u001b[39m\u001b[32m3\u001b[39m \u001b[43mcar\u001b[49m\u001b[43m[\u001b[49m\u001b[33;43m\"\u001b[39;49m\u001b[33;43mmilage\u001b[39;49m\u001b[33;43m\"\u001b[39;49m\u001b[43m]\u001b[49m        \u001b[38;5;66;03m#yesle k garxa taw key error faalcha\u001b[39;00m\n",
      "\u001b[31mKeyError\u001b[39m: 'milage'"
     ]
    }
   ],
   "source": [
    "#Example of keyerror\n",
    "car = {\"name\":\"tesla\",\"price\":\"50k\",\"model\":\"2024\"}\n",
    "car[\"milage\"]        #yesle k garxa taw key error faalcha"
   ]
  },
  {
   "cell_type": "code",
   "execution_count": 2,
   "id": "43387e4c",
   "metadata": {},
   "outputs": [
    {
     "ename": "ZeroDivisionError",
     "evalue": "division by zero",
     "output_type": "error",
     "traceback": [
      "\u001b[31m---------------------------------------------------------------------------\u001b[39m",
      "\u001b[31mZeroDivisionError\u001b[39m                         Traceback (most recent call last)",
      "\u001b[36mCell\u001b[39m\u001b[36m \u001b[39m\u001b[32mIn[2]\u001b[39m\u001b[32m, line 6\u001b[39m\n\u001b[32m      3\u001b[39m \u001b[38;5;28;01mdef\u001b[39;00m\u001b[38;5;250m \u001b[39m\u001b[34mdivide\u001b[39m (a,b):\n\u001b[32m      4\u001b[39m     \u001b[38;5;28;01mreturn\u001b[39;00m a/b\n\u001b[32m----> \u001b[39m\u001b[32m6\u001b[39m \u001b[43mdivide\u001b[49m\u001b[43m(\u001b[49m\u001b[32;43m10\u001b[39;49m\u001b[43m,\u001b[49m\u001b[32;43m0\u001b[39;49m\u001b[43m)\u001b[49m \n",
      "\u001b[36mCell\u001b[39m\u001b[36m \u001b[39m\u001b[32mIn[2]\u001b[39m\u001b[32m, line 4\u001b[39m, in \u001b[36mdivide\u001b[39m\u001b[34m(a, b)\u001b[39m\n\u001b[32m      3\u001b[39m \u001b[38;5;28;01mdef\u001b[39;00m\u001b[38;5;250m \u001b[39m\u001b[34mdivide\u001b[39m (a,b):\n\u001b[32m----> \u001b[39m\u001b[32m4\u001b[39m     \u001b[38;5;28;01mreturn\u001b[39;00m \u001b[43ma\u001b[49m\u001b[43m/\u001b[49m\u001b[43mb\u001b[49m\n",
      "\u001b[31mZeroDivisionError\u001b[39m: division by zero"
     ]
    }
   ],
   "source": [
    "#example of divisionerror\n",
    "\n",
    "def divide (a,b):\n",
    "    return a/b\n",
    "\n",
    "divide(10,0) \n"
   ]
  },
  {
   "cell_type": "code",
   "execution_count": 4,
   "id": "d666bce4",
   "metadata": {},
   "outputs": [
    {
     "ename": "ValueError",
     "evalue": "math domain error",
     "output_type": "error",
     "traceback": [
      "\u001b[31m---------------------------------------------------------------------------\u001b[39m",
      "\u001b[31mValueError\u001b[39m                                Traceback (most recent call last)",
      "\u001b[36mCell\u001b[39m\u001b[36m \u001b[39m\u001b[32mIn[4]\u001b[39m\u001b[32m, line 4\u001b[39m\n\u001b[32m      1\u001b[39m \u001b[38;5;66;03m# example valueError\u001b[39;00m\n\u001b[32m      3\u001b[39m \u001b[38;5;28;01mimport\u001b[39;00m\u001b[38;5;250m \u001b[39m\u001b[34;01mmath\u001b[39;00m               \u001b[38;5;66;03m# mat vaneko pthon module ya package vayo ,, Pahilai kasaile lekera rakhdeko chha \u001b[39;00m\n\u001b[32m----> \u001b[39m\u001b[32m4\u001b[39m \u001b[43mmath\u001b[49m\u001b[43m.\u001b[49m\u001b[43msqrt\u001b[49m\u001b[43m(\u001b[49m\u001b[43m-\u001b[49m\u001b[32;43m2\u001b[39;49m\u001b[43m)\u001b[49m\n",
      "\u001b[31mValueError\u001b[39m: math domain error"
     ]
    }
   ],
   "source": [
    "# example valueError\n",
    "\n",
    "import math               # mat vaneko pthon module ya package vayo ,, Pahilai kasaile lekera rakhdeko chha \n",
    "math.sqrt(-2)\n"
   ]
  },
  {
   "cell_type": "code",
   "execution_count": null,
   "id": "6f20293d",
   "metadata": {},
   "outputs": [],
   "source": [
    "# Defining a function for error handling\n",
    "def car_info(car):\n",
    "    try:\n",
    "        name=car[\"name\"]\n",
    "        milage=car[\"milage\"]\n",
    "        color=car[\"color\"]\n",
    "        print(f\"name:{name},milage:{milage}.\")\n",
    "\n",
    "    except KeyError:   #except ValueError:\n",
    "        print(\"Error:  'color' key not found.\")\n",
    "        return None\n",
    "    \n",
    "    except Exception as e:               #Kunai ma na aako error chha vane exception wala code run hunchha \n",
    "        print(f\"An error occured:{str(e)}\")   \n",
    "        return None\n",
    "\n",
    "    finally:\n",
    "        print(\"Successfully running\")\n",
    "\n"
   ]
  },
  {
   "cell_type": "code",
   "execution_count": null,
   "id": "a1ba5886",
   "metadata": {},
   "outputs": [
    {
     "name": "stdout",
     "output_type": "stream",
     "text": [
      "Error:  'color' key not found.\n",
      "Successfully running\n"
     ]
    }
   ],
   "source": [
    "car = {\"name\":\"tesla\",\"price\":\"50k\",\"model\":\"2024\",\"milage\":\"20km/l\"}\n",
    "car_info(car)\n",
    "\n",
    "### Error Handling  generally debugging haru ko laagi use hune garchha "
   ]
  },
  {
   "cell_type": "code",
   "execution_count": 12,
   "id": "cac552e8",
   "metadata": {},
   "outputs": [],
   "source": [
    "#Error Handling for the value error (Square_root ko case maa)\n",
    "def square_root(num):\n",
    "    import math\n",
    "    try:\n",
    "        result=math.sqrt(num)\n",
    "        print(result)\n",
    "\n",
    "    # except ValueError:\n",
    "    #     print(\"The root of negative number is imaginary\")\n",
    "    #     return None\n",
    "\n",
    "    except Exception as e:               #Kunai ma na aako error chha vane exception wala code run hunchha \n",
    "        print(f\"An error occured:{str(e)}\")   \n",
    "        return None\n",
    "    \n"
   ]
  },
  {
   "cell_type": "code",
   "execution_count": 13,
   "id": "e701f8fd",
   "metadata": {},
   "outputs": [
    {
     "name": "stdout",
     "output_type": "stream",
     "text": [
      "An error occured:math domain error\n"
     ]
    }
   ],
   "source": [
    "#Testing \n",
    "square_root(-1)"
   ]
  },
  {
   "cell_type": "code",
   "execution_count": 14,
   "id": "123bf8e6",
   "metadata": {},
   "outputs": [],
   "source": [
    "def divide_using_error_handling(num1,num2):\n",
    "    try:\n",
    "        result=num1/num2\n",
    "        print(result)\n",
    "    \n",
    "    except ZeroDivisionError:\n",
    "        print(f\"Dividing {num1} by {num2} results into invalid result\")\n",
    "\n",
    "    except Exception as e:               \n",
    "        print(f\"An error occured:{str(e)}\")   \n",
    "        return None\n",
    "    \n",
    "\n"
   ]
  },
  {
   "cell_type": "code",
   "execution_count": 16,
   "id": "d520b07e",
   "metadata": {},
   "outputs": [
    {
     "name": "stdout",
     "output_type": "stream",
     "text": [
      "Dividing 3 by 0 results into invalid result\n"
     ]
    }
   ],
   "source": [
    "#Testing\n",
    "divide_using_error_handling(3,0)"
   ]
  },
  {
   "cell_type": "markdown",
   "id": "938fbaf2",
   "metadata": {},
   "source": [
    "### Python Regex"
   ]
  },
  {
   "cell_type": "code",
   "execution_count": 53,
   "id": "f52b21f2",
   "metadata": {},
   "outputs": [],
   "source": [
    "# Calculator vanne 1uta folder banaune \n",
    "import re"
   ]
  },
  {
   "cell_type": "code",
   "execution_count": 17,
   "id": "821341bc",
   "metadata": {},
   "outputs": [
    {
     "data": {
      "text/plain": [
       "20"
      ]
     },
     "execution_count": 17,
     "metadata": {},
     "output_type": "execute_result"
    }
   ],
   "source": [
    "from Calculator.calculator import subtraction   #Concept of module\n",
    "subtraction(num1=23,num2=3)\n"
   ]
  },
  {
   "cell_type": "code",
   "execution_count": 18,
   "id": "a90ebaee",
   "metadata": {},
   "outputs": [
    {
     "data": {
      "text/plain": [
       "21"
      ]
     },
     "execution_count": 18,
     "metadata": {},
     "output_type": "execute_result"
    }
   ],
   "source": [
    "# Alternative method ( more than one function chha vane yesari garne )\n",
    "from Calculator import calculator as calc \n",
    "calc.multiplication(num1=7,num2=3)"
   ]
  },
  {
   "cell_type": "code",
   "execution_count": 19,
   "id": "2007b49f",
   "metadata": {},
   "outputs": [
    {
     "data": {
      "text/plain": [
       "1"
      ]
     },
     "execution_count": 19,
     "metadata": {},
     "output_type": "execute_result"
    }
   ],
   "source": [
    "# #Subtraction laai acess garne aba \n",
    "from Calculator import calculator as calc \n",
    "calc.subtraction(num1=79,num2=78)              \n"
   ]
  },
  {
   "cell_type": "code",
   "execution_count": 20,
   "id": "2fa9eb43",
   "metadata": {},
   "outputs": [
    {
     "name": "stdout",
     "output_type": "stream",
     "text": [
      "Addition:28,Subtraction:8,Multiplication:45\n"
     ]
    }
   ],
   "source": [
    "from Calculator.calculator import addition, subtraction,multiplication  #Concept of module\n",
    "add_result=addition(num1=23,num2=5)\n",
    "sub_result=subtraction(num1=15,num2=7)\n",
    "mult_result=multiplication(9,5)\n",
    "print(f\"Addition:{add_result},Subtraction:{sub_result},Multiplication:{mult_result}\")\n",
    "\n"
   ]
  }
 ],
 "metadata": {
  "kernelspec": {
   "display_name": "mshpe",
   "language": "python",
   "name": "python3"
  },
  "language_info": {
   "codemirror_mode": {
    "name": "ipython",
    "version": 3
   },
   "file_extension": ".py",
   "mimetype": "text/x-python",
   "name": "python",
   "nbconvert_exporter": "python",
   "pygments_lexer": "ipython3",
   "version": "3.13.1"
  }
 },
 "nbformat": 4,
 "nbformat_minor": 5
}
