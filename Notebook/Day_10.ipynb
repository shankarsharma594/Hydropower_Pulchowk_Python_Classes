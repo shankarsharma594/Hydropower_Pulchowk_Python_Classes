{
 "cells": [
  {
   "cell_type": "markdown",
   "id": "eb449ead",
   "metadata": {},
   "source": [
    "Part 14"
   ]
  },
  {
   "cell_type": "code",
   "execution_count": 1,
   "id": "f675ba1a",
   "metadata": {},
   "outputs": [],
   "source": [
    "# Make a class rectangular and method to display its area \n",
    "class Rectangle:\n",
    "    def __init__(self, length: float, width: float):\n",
    "        \"\"\"\n",
    "        Initialize Rectangle object\n",
    "        :param length: Length of rectangle\n",
    "        :param width: Width of rectangle\n",
    "        \"\"\"\n",
    "        self.length = length\n",
    "        self.width = width\n",
    "\n",
    "    def area(self) -> float:\n",
    "        \"\"\"\n",
    "        Calculate the area of the rectangle\n",
    "        :return: Area (length * width)\n",
    "        \"\"\"\n",
    "        return self.length * self.width\n",
    "\n",
    "    def display_area(self):\n",
    "        \"\"\"\n",
    "        Print the area of the rectangle\n",
    "        \"\"\"\n",
    "        print(f\" Rectangle Area: {self.area()} square units\")\n",
    "\n",
    "\n",
    "\n",
    "\n",
    "  \n"
   ]
  },
  {
   "cell_type": "code",
   "execution_count": 2,
   "id": "8e9ca856",
   "metadata": {},
   "outputs": [
    {
     "name": "stdout",
     "output_type": "stream",
     "text": [
      " Rectangle Area: 50 square units\n",
      " Rectangle Area: 24.0 square units\n"
     ]
    }
   ],
   "source": [
    "#Testing the code\n",
    "rect1 = Rectangle(10, 5)   # Create an instance\n",
    "rect1.display_area()\n",
    "\n",
    "rect2 = Rectangle(7.5, 3.2)\n",
    "rect2.display_area()"
   ]
  },
  {
   "cell_type": "markdown",
   "id": "3c290ba7",
   "metadata": {},
   "source": [
    "##### Encapsulation\n",
    "    -Encapsulation is achieved by using private and protected attribute methods \n",
    "    -Pivate members . Use a double underscore __prefix . These are not acessible outside the class \n",
    "    -Protected members : Use a single underscore _prefix . These are acessible but should not be modified directly ."
   ]
  },
  {
   "cell_type": "code",
   "execution_count": null,
   "id": "739cc8d3",
   "metadata": {},
   "outputs": [],
   "source": [
    "\"\"\" \n",
    "Encapsulation means wrapping data (variables/attributes) and methods (functions) into a single unit (class) and controlling access to that data.\n",
    "It allows you to hide implementation details and provide controlled access using getters and setters.\n",
    "\n",
    "In Python:\n",
    "\n",
    "Attributes starting with __ (double underscore) become private (cannot be accessed directly from outside the class).\n",
    "\n",
    "We then create methods to access (getter) or modify (setter) these attributes safely.\n",
    "\n",
    "\"\"\""
   ]
  },
  {
   "cell_type": "code",
   "execution_count": 4,
   "id": "a52ec69b",
   "metadata": {},
   "outputs": [],
   "source": [
    "class BankAccount:\n",
    "    def __init__(self, balance):\n",
    "        self.__balance = balance   # private attribute (hidden) ,, #__balance → private attribute, cannot be accessed directly (e.g., account.__balance will give error).\n",
    "\n",
    "    # Getter method (read balance safely)\n",
    "    def get_balance(self):               #get_balance() → getter method to read the balance.\n",
    "        return self.__balance\n",
    "\n",
    "    # Setter method (deposit money safely)\n",
    "    def deposit(self, amount):                          #deposit() & withdraw() → setter methods to update balance safely (with conditions).\n",
    "        if amount > 0:\n",
    "            self.__balance += amount\n",
    "        else:\n",
    "            print(\"Invalid deposit amount\")\n",
    "\n",
    "    # Setter method (withdraw money safely)\n",
    "    def withdraw(self, amount):\n",
    "        if 0 < amount <= self.__balance:\n",
    "            self.__balance -= amount\n",
    "        else:\n",
    "            print(\"Insufficient funds or invalid amount\")"
   ]
  },
  {
   "cell_type": "code",
   "execution_count": 6,
   "id": "39908c1a",
   "metadata": {},
   "outputs": [
    {
     "name": "stdout",
     "output_type": "stream",
     "text": [
      "Initial Balance: 1000\n",
      "After Deposit: 1500\n",
      "After Withdrawal: 1200\n",
      "Insufficient funds or invalid amount\n"
     ]
    }
   ],
   "source": [
    "# Example usage\n",
    "account_praneez = BankAccount(1000)\n",
    "print(\"Initial Balance:\", account_praneez.get_balance())\n",
    "\n",
    "account_praneez.deposit(500)\n",
    "print(\"After Deposit:\", account_praneez.get_balance())\n",
    "\n",
    "account_praneez.withdraw(300)\n",
    "print(\"After Withdrawal:\", account_praneez.get_balance())\n",
    "\n",
    "account_praneez.withdraw(2000)  # Invalid case"
   ]
  },
  {
   "cell_type": "code",
   "execution_count": 7,
   "id": "9b675d3c",
   "metadata": {},
   "outputs": [],
   "source": [
    "# Example of project_management\n",
    "class ConstructionProject:\n",
    "    def __init__(self, name, budget, deadline):\n",
    "        self.name = name\n",
    "        self.__budget = budget       # private attribute\n",
    "        self.__progress = 0          # percentage (0–100), private\n",
    "        self.deadline = deadline\n",
    "\n",
    "    # Getter method for progress\n",
    "    def get_progress(self):\n",
    "        return f\"{self.__progress}% completed\"\n",
    "\n",
    "    # Setter method to update progress\n",
    "    def update_progress(self, work_done):\n",
    "        if 0 <= work_done + self.__progress <= 100:\n",
    "            self.__progress += work_done\n",
    "        else:\n",
    "            print(\"Invalid progress update!\")\n",
    "\n",
    "    # Getter method for budget\n",
    "    def get_budget(self):\n",
    "        return f\"Remaining Budget: ${self.__budget}\"\n",
    "\n",
    "    # Setter method for spending\n",
    "    def spend(self, amount):\n",
    "        if 0 < amount <= self.__budget:\n",
    "            self.__budget -= amount\n",
    "        else:\n",
    "            print(\"Not enough budget or invalid amount\")\n",
    "\n",
    "    # Report method\n",
    "    def project_report(self):\n",
    "        return (f\"Project: {self.name}\\n\"\n",
    "                f\"Progress: {self.__progress}%\\n\"\n",
    "                f\"Budget Remaining: ${self.__budget}\\n\"\n",
    "                f\"Deadline: {self.deadline}\")\n",
    "\n",
    "\n"
   ]
  },
  {
   "cell_type": "code",
   "execution_count": 8,
   "id": "773c57c5",
   "metadata": {},
   "outputs": [
    {
     "name": "stdout",
     "output_type": "stream",
     "text": [
      "Project: Run Of River Hydropower\n",
      "Progress: 0%\n",
      "Budget Remaining: $500000\n",
      "Deadline: 2026-12-31\n",
      "\n",
      "After update:\n",
      "Project: Run Of River Hydropower\n",
      "Progress: 30%\n",
      "Budget Remaining: $380000\n",
      "Deadline: 2026-12-31\n",
      "Not enough budget or invalid amount\n",
      "Invalid progress update!\n"
     ]
    }
   ],
   "source": [
    "# Example usage\n",
    "project = ConstructionProject(\"Run Of River Hydropower\", 500000, \"2026-12-31\")\n",
    "\n",
    "print(project.project_report())\n",
    "\n",
    "project.update_progress(30)   # update work done\n",
    "project.spend(120000)         # spend money\n",
    "print(\"\\nAfter update:\")\n",
    "print(project.project_report())\n",
    "\n",
    "project.spend(600000)  # invalid case\n",
    "project.update_progress(90)  # invalid case (over 100%)"
   ]
  },
  {
   "cell_type": "code",
   "execution_count": null,
   "id": "c8fb6a16",
   "metadata": {},
   "outputs": [],
   "source": [
    "\"\"\"  \n",
    "Notes : Double underscore use garera attributes maatra haina \n",
    "methods laai pani private ma rakhna milchha\n",
    "\n",
    "\"\"\""
   ]
  },
  {
   "cell_type": "markdown",
   "id": "146b4828",
   "metadata": {},
   "source": [
    "##### Inheritance \n",
    "\n",
    "    - Inheritance allows a class (child class ) to inherit attributes and methods from another class parent class"
   ]
  },
  {
   "cell_type": "code",
   "execution_count": 10,
   "id": "0cf00953",
   "metadata": {},
   "outputs": [],
   "source": [
    "# Example of inheritance\n",
    "class Vehicle:\n",
    "    def __init__(self,brand,fuel_type):\n",
    "        self.brand=brand     #Parent class attribute\n",
    "        self.fuel_type=fuel_type       #Parent class attribute\n",
    "\n",
    "    def display_info(self):\n",
    "        return f\"Brand:{self.brand},Fuel Type : {self.fuel_type}\"\n",
    "    \n",
    "\n",
    "class Car(Vehicle):\n",
    "    def __init__ (self,brand,fuel_type,model,num_doors):\n",
    "        super().__init__(brand,fuel_type) #Call the parent class constructor\n",
    "        self.model=model  #Child class attribute \n",
    "        self.num_doors=num_doors  #child class attribute\n",
    "\n",
    "    def display_car_info(self):\n",
    "        #Acess parent class attributes using self \n",
    "        vehicle_info = super().display_info()     #Call the parent class method \n",
    "        return f\"{vehicle_info},Models:{self.model},Doors:{self.num_doors}\"\n"
   ]
  },
  {
   "cell_type": "code",
   "execution_count": 11,
   "id": "4160eda0",
   "metadata": {},
   "outputs": [
    {
     "name": "stdout",
     "output_type": "stream",
     "text": [
      "Brand:Toyota,Fuel Type : Gasoline,Models:SUV,Doors:4\n"
     ]
    }
   ],
   "source": [
    "# Testing\n",
    "car1=Car(\"Toyota\",\"Gasoline\",\"SUV\",4)\n",
    "print(car1.display_car_info())  "
   ]
  },
  {
   "cell_type": "code",
   "execution_count": 1,
   "id": "47cd6787",
   "metadata": {},
   "outputs": [],
   "source": [
    "# 2ND Example of Inheritance \n",
    "class Shape:\n",
    "    def __init__(self,name):\n",
    "        self.name=name \n",
    "    \n",
    "    def area(self):\n",
    "        pass\n",
    "\n",
    "class Circle(Shape):\n",
    "    def __init__ (self,radius):\n",
    "        super().__init__(\"Circle\")\n",
    "        self.radius=radius\n",
    "\n",
    "    def area(self):\n",
    "        return 3.14*self.radius**2\n",
    "\n",
    "class Square(Shape):\n",
    "    def __init__ (self,length):\n",
    "           super().__init__(\"Square\")\n",
    "           self.length=length\n",
    "        \n",
    "    def area(self):\n",
    "            return self.length**2\n",
    "           "
   ]
  },
  {
   "cell_type": "code",
   "execution_count": 4,
   "id": "6d870735",
   "metadata": {},
   "outputs": [
    {
     "name": "stdout",
     "output_type": "stream",
     "text": [
      "254.34\n"
     ]
    }
   ],
   "source": [
    "#Testing Example2\n",
    "c1=Circle(9)\n",
    "print(c1.area())   "
   ]
  },
  {
   "cell_type": "code",
   "execution_count": 5,
   "id": "45383bbd",
   "metadata": {},
   "outputs": [
    {
     "name": "stdout",
     "output_type": "stream",
     "text": [
      "49\n"
     ]
    }
   ],
   "source": [
    "sq1=Square(7)\n",
    "print(sq1.area())"
   ]
  },
  {
   "cell_type": "code",
   "execution_count": null,
   "id": "8dfefd77",
   "metadata": {},
   "outputs": [],
   "source": [
    "# Make the parent class Shape and its child class circle,square,rectangle and define methods to calculate its area using concept of inheritance \n"
   ]
  },
  {
   "cell_type": "markdown",
   "id": "d6f0a9c4",
   "metadata": {},
   "source": [
    "#### Polymorphism\n",
    "\n",
    "    - Polymorphism allows objects of different classes to be treated as objects of a common superclass. It is often achieved through method overriding"
   ]
  },
  {
   "cell_type": "code",
   "execution_count": null,
   "id": "1b38217f",
   "metadata": {},
   "outputs": [],
   "source": [
    "#The word \"polymorphism\" means \"many forms\", and in programming it refers to methods/functions/operators with the same name that can be executed on many objects or classes.\n",
    "\n"
   ]
  },
  {
   "cell_type": "code",
   "execution_count": 7,
   "id": "0a0c933f",
   "metadata": {},
   "outputs": [
    {
     "name": "stdout",
     "output_type": "stream",
     "text": [
      "26\n"
     ]
    }
   ],
   "source": [
    "x = \"Hello World , How are you!\"\n",
    "\n",
    "print(len(x))"
   ]
  },
  {
   "cell_type": "code",
   "execution_count": 8,
   "id": "6ab9cbcf",
   "metadata": {},
   "outputs": [
    {
     "name": "stdout",
     "output_type": "stream",
     "text": [
      "3\n"
     ]
    }
   ],
   "source": [
    "mytuple = (\"apple\", \"banana\", \"cherry\")\n",
    "\n",
    "print(len(mytuple))"
   ]
  },
  {
   "cell_type": "code",
   "execution_count": 9,
   "id": "0ba87f5c",
   "metadata": {},
   "outputs": [
    {
     "name": "stdout",
     "output_type": "stream",
     "text": [
      "3\n"
     ]
    }
   ],
   "source": [
    "thisdict = {\n",
    "  \"brand\": \"Ford\",\n",
    "  \"model\": \"Mustang\",\n",
    "  \"year\": 1964\n",
    "}\n",
    "\n",
    "print(len(thisdict))"
   ]
  },
  {
   "cell_type": "markdown",
   "id": "19734b1d",
   "metadata": {},
   "source": [
    "Class Polymorphism\n",
    "\n",
    "Polymorphism is often used in Class methods, where we can have multiple classes with the same method name.\n",
    "\n",
    "For example, say we have three classes: Car, Boat, and Plane, and they all have a method called move():"
   ]
  },
  {
   "cell_type": "code",
   "execution_count": 10,
   "id": "f32eecf8",
   "metadata": {},
   "outputs": [
    {
     "name": "stdout",
     "output_type": "stream",
     "text": [
      "Drive!\n",
      "Sail!\n",
      "Fly!\n"
     ]
    }
   ],
   "source": [
    "class Car:\n",
    "  def __init__(self, brand, model):\n",
    "    self.brand = brand\n",
    "    self.model = model\n",
    "\n",
    "  def move(self):\n",
    "    print(\"Drive!\")\n",
    "\n",
    "class Boat:\n",
    "  def __init__(self, brand, model):\n",
    "    self.brand = brand\n",
    "    self.model = model\n",
    "\n",
    "  def move(self):\n",
    "    print(\"Sail!\")\n",
    "\n",
    "class Plane:\n",
    "  def __init__(self, brand, model):\n",
    "    self.brand = brand\n",
    "    self.model = model\n",
    "\n",
    "  def move(self):\n",
    "    print(\"Fly!\")\n",
    "\n",
    "car1 = Car(\"Ford\", \"Mustang\")       #Create a Car object\n",
    "boat1 = Boat(\"Ibiza\", \"Touring 20\") #Create a Boat object\n",
    "plane1 = Plane(\"Boeing\", \"747\")     #Create a Plane object\n",
    "\n",
    "for x in (car1, boat1, plane1):\n",
    "  x.move()"
   ]
  },
  {
   "cell_type": "code",
   "execution_count": 11,
   "id": "2baf3cd1",
   "metadata": {},
   "outputs": [
    {
     "name": "stdout",
     "output_type": "stream",
     "text": [
      "Ford\n",
      "Mustang\n",
      "Move!\n",
      "Ibiza\n",
      "Touring 20\n",
      "Sail!\n",
      "Boeing\n",
      "747\n",
      "Fly!\n"
     ]
    }
   ],
   "source": [
    "#Inheritance Class Polymorphism\n",
    "#Create a class called Vehicle and make Car, Boat, Plane child classes of Vehicle:\n",
    "\n",
    "class Vehicle:\n",
    "  def __init__(self, brand, model):\n",
    "    self.brand = brand\n",
    "    self.model = model\n",
    "\n",
    "  def move(self):\n",
    "    print(\"Move!\")\n",
    "\n",
    "class Car(Vehicle):\n",
    "  pass\n",
    "\n",
    "class Boat(Vehicle):\n",
    "  def move(self):\n",
    "    print(\"Sail!\")\n",
    "\n",
    "class Plane(Vehicle):\n",
    "  def move(self):\n",
    "    print(\"Fly!\")\n",
    "\n",
    "car1 = Car(\"Ford\", \"Mustang\")       #Create a Car object\n",
    "boat1 = Boat(\"Ibiza\", \"Touring 20\") #Create a Boat object\n",
    "plane1 = Plane(\"Boeing\", \"747\")     #Create a Plane object\n",
    "\n",
    "for x in (car1, boat1, plane1):\n",
    "  print(x.brand)\n",
    "  print(x.model)\n",
    "  x.move()\n"
   ]
  },
  {
   "cell_type": "markdown",
   "id": "947a0375",
   "metadata": {},
   "source": [
    "Abstractions \n",
    "\n",
    "    Abstraction is one of the important principles of object-oriented programming. It refers to a programming approach by which only the relevant data about an object is exposed, hiding all the other details. This approach helps in reducing the complexity and increasing the efficiency of application development.\n"
   ]
  },
  {
   "cell_type": "code",
   "execution_count": null,
   "id": "a785b496",
   "metadata": {},
   "outputs": [],
   "source": [
    "\"\"\" \n",
    "Abstraction in Python is often done using the abc module (Abstract Base Classes).\n",
    "An abstract class is like a blueprint  \n",
    "it may contain some common code, but it cannot be instantiated directly.\n",
    " Its child classes must implement the abstract methods.\n",
    "\"\"\""
   ]
  },
  {
   "cell_type": "code",
   "execution_count": 14,
   "id": "4ab6f625",
   "metadata": {},
   "outputs": [],
   "source": [
    "from abc import ABC, abstractmethod\n",
    "import math\n",
    "\n",
    "# Abstract class\n",
    "class Shape(ABC):\n",
    "    \n",
    "    @abstractmethod\n",
    "    def area(self):\n",
    "        pass   # must be implemented by child classes\n",
    "    \n",
    "    @abstractmethod\n",
    "    def perimeter(self):\n",
    "        pass   # must be implemented by child classes\n",
    "\n",
    "# Child class Circle\n",
    "class Circle(Shape):\n",
    "    def __init__(self, radius):\n",
    "        self.radius = radius\n",
    "\n",
    "    def area(self):\n",
    "        return math.pi * self.radius ** 2\n",
    "\n",
    "    def perimeter(self):\n",
    "        return 2 * math.pi * self.radius\n",
    "\n",
    "# Child class Rectangle\n",
    "class Rectangle(Shape):\n",
    "    def __init__(self, length, width):\n",
    "        self.length = length\n",
    "        self.width = width\n",
    "\n",
    "    def area(self):\n",
    "        return self.length * self.width\n",
    "\n",
    "    def perimeter(self):\n",
    "        return 2 * (self.length + self.width)\n",
    "\n",
    "# Child class Square\n",
    "class Square(Shape):\n",
    "    def __init__(self, side):\n",
    "        self.side = side\n",
    "\n",
    "    def area(self):\n",
    "        return self.side ** 2\n",
    "\n",
    "    def perimeter(self):\n",
    "        return 4 * self.side\n"
   ]
  },
  {
   "cell_type": "code",
   "execution_count": 15,
   "id": "75b72884",
   "metadata": {},
   "outputs": [
    {
     "name": "stdout",
     "output_type": "stream",
     "text": [
      "Circle -> Area: 78.53981633974483  Perimeter: 31.41592653589793\n",
      "Rectangle -> Area: 18  Perimeter: 18\n",
      "Square -> Area: 16  Perimeter: 16\n"
     ]
    }
   ],
   "source": [
    "# Example usage\n",
    "circle = Circle(5)\n",
    "rectangle = Rectangle(6, 3)\n",
    "square = Square(4)\n",
    "\n",
    "print(\"Circle -> Area:\", circle.area(), \" Perimeter:\", circle.perimeter())\n",
    "print(\"Rectangle -> Area:\", rectangle.area(), \" Perimeter:\", rectangle.perimeter())\n",
    "print(\"Square -> Area:\", square.area(), \" Perimeter:\", square.perimeter())"
   ]
  }
 ],
 "metadata": {
  "kernelspec": {
   "display_name": "mshpe",
   "language": "python",
   "name": "python3"
  },
  "language_info": {
   "codemirror_mode": {
    "name": "ipython",
    "version": 3
   },
   "file_extension": ".py",
   "mimetype": "text/x-python",
   "name": "python",
   "nbconvert_exporter": "python",
   "pygments_lexer": "ipython3",
   "version": "3.13.1"
  }
 },
 "nbformat": 4,
 "nbformat_minor": 5
}
