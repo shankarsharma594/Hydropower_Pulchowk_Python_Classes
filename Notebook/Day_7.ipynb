{
 "cells": [
  {
   "cell_type": "markdown",
   "id": "f3ee556e",
   "metadata": {},
   "source": [
    "\n",
    "##### Part 8\n",
    "##### Recap of REgex\n"
   ]
  },
  {
   "cell_type": "code",
   "execution_count": 4,
   "id": "f6c5ba8b",
   "metadata": {},
   "outputs": [],
   "source": [
    "# function to validate phone number\n",
    "import re\n",
    "\n",
    "def validate_phone_number(phone_number):\n",
    "     pattern_global = r'^(\\+?\\d{1,4}[-.\\s]?)?(\\(?\\d{2,4}\\)?[-.\\s]?)?[\\d\\-.\\s]{6,10}$'  # pattern for global phone number\n",
    "     \n",
    "     pattern_nepal=r'^(?:\\+977[-\\s]?|0)?(?:98[0-9]{8}|1[0-9]{7})$'\n",
    "     if re.match(pattern_nepal, phone_number):\n",
    "        return True \n",
    "    \n",
    "     else:\n",
    "        return False \n"
   ]
  },
  {
   "cell_type": "code",
   "execution_count": 5,
   "id": "9292778d",
   "metadata": {},
   "outputs": [
    {
     "data": {
      "text/plain": [
       "True"
      ]
     },
     "execution_count": 5,
     "metadata": {},
     "output_type": "execute_result"
    }
   ],
   "source": [
    "# Global phone number ni chha ani nepal ko phone number ni chha \n",
    "phone_number=\"+977-9825365200\"\n",
    "validate_phone_number(phone_number)"
   ]
  },
  {
   "cell_type": "code",
   "execution_count": 21,
   "id": "666bcf8e",
   "metadata": {},
   "outputs": [
    {
     "data": {
      "text/plain": [
       "' \\nAssignment :- User sanga phone number maagne ani kun \\ncountry ko phone no. chha verify garne ( on the basis of country code)\\n\\nKunai country ko phone number chhaina vane tyeslaai Invalid phone number\\nvanera display garne \\n\\n'"
      ]
     },
     "execution_count": 21,
     "metadata": {},
     "output_type": "execute_result"
    }
   ],
   "source": [
    "\"\"\" \n",
    "Assignment :- User sanga phone number maagne ani kun \n",
    "country ko phone no. chha verify garne ( on the basis of country code)\n",
    "\n",
    "Kunai country ko phone number chhaina vane tyeslaai Invalid phone number\n",
    "vanera display garne \n",
    "\n",
    "\"\"\""
   ]
  },
  {
   "cell_type": "code",
   "execution_count": 5,
   "id": "359af227",
   "metadata": {},
   "outputs": [],
   "source": [
    "# 1uta Paragraph maa \"nepal\" vanneword chha ki chhaina check garnu paryo\n",
    "\n",
    "para=\"Nepal, a landlocked nation in South Asia, is renowned for its stunning Himalayan landscapes and rich cultural heritage. Bordered by China to the north and India to the south, east, and west, Nepal boasts Mount Everest, the world's highest peak, and eight of the world's ten highest mountains. This diverse geography includes fertile plains, sub-alpine hills, and the towering Himalayas, making it a haven for trekkers and nature enthusiasts. Nepal is also the birthplace of Buddha, holding significance for both Hindus and Buddhists. The capital, Kathmandu, is a vibrant city steeped in history and culture, while other notable destinations include Pokhara, known for its natural beauty and lakes, and Lumbini, the birthplace of Buddha. \"\n",
    "\n"
   ]
  },
  {
   "cell_type": "code",
   "execution_count": 6,
   "id": "4e1e6018",
   "metadata": {},
   "outputs": [],
   "source": [
    "#function to check if nepal is given para or not \n",
    "\n",
    "def is_nepal_given_para(paragraph):\n",
    "    pattern=r\"Nepal\"\n",
    "    if re.search(pattern,paragraph,re.IGNORECASE):\n",
    "    \n",
    "    #if re.findall(word,paragraph,re.IGNORECASE):    #Paragraph ma vayeko sabai nepal laai print garchha \n",
    "        return True \n",
    "    else:\n",
    "        return False \n"
   ]
  },
  {
   "cell_type": "code",
   "execution_count": 7,
   "id": "080336ca",
   "metadata": {},
   "outputs": [
    {
     "name": "stdout",
     "output_type": "stream",
     "text": [
      "True\n"
     ]
    }
   ],
   "source": [
    "#Testing\n",
    "print(is_nepal_given_para(\"Nepal is a beautiful country.\")) "
   ]
  },
  {
   "cell_type": "code",
   "execution_count": 8,
   "id": "f3e83edb",
   "metadata": {},
   "outputs": [
    {
     "data": {
      "text/plain": [
       "True"
      ]
     },
     "execution_count": 8,
     "metadata": {},
     "output_type": "execute_result"
    }
   ],
   "source": [
    "#Testing\n",
    "dummy_para=\"Nepal, a landlocked nation in South Asia, is renowned for its stunning Himalayan landscapes and rich cultural heritage. Bordered by China to the north and India to the south, east, and west, Nepal boasts Mount Everest, the world's highest peak, and eight of the world's ten highest mountains. This diverse geography includes fertile plains, sub-alpine hills, and the towering Himalayas, making it a haven for trekkers and nature enthusiasts. Nepal is also the birthplace of Buddha, holding significance for both Hindus and Buddhists. The capital, Kathmandu, is a vibrant city steeped in history and culture, while other notable destinations include Pokhara, known for its natural beauty and lakes, and Lumbini, the birthplace of Buddha. \"\n",
    "\n",
    "is_nepal_given_para(dummy_para)"
   ]
  },
  {
   "cell_type": "code",
   "execution_count": 11,
   "id": "4e112d46",
   "metadata": {},
   "outputs": [
    {
     "data": {
      "text/plain": [
       "' \\nAssignment ( Kunai particular paragraph maa kunai particular \\n  word kati choti chha count garne '"
      ]
     },
     "execution_count": 11,
     "metadata": {},
     "output_type": "execute_result"
    }
   ],
   "source": [
    "\"\"\" \n",
    "Assignment ( Kunai particular paragraph maa kunai particular \n",
    "  word kati choti chha count garne \"\"\" "
   ]
  },
  {
   "cell_type": "code",
   "execution_count": 9,
   "id": "f566e1d5",
   "metadata": {},
   "outputs": [],
   "source": [
    "# Word Find garnu paryo kaha kaha word chha vanera \n",
    "\n",
    "def find_word_all (paragraph:str,word:str):\n",
    "   matches=re.findall(rf\"\\b{word}\",paragraph,re.IGNORECASE)\n",
    "   return matches,len(matches)\n",
    "\n"
   ]
  },
  {
   "cell_type": "code",
   "execution_count": 11,
   "id": "3f79c5d8",
   "metadata": {},
   "outputs": [
    {
     "name": "stdout",
     "output_type": "stream",
     "text": [
      "Matches: ['Asia']\n",
      "Total Count 1\n"
     ]
    },
    {
     "data": {
      "text/plain": [
       "' \\nUses of Regex:-\\n\\nSo regex can be used to analyse sentiment, remove hateful speech\\n remove any particular format\\n\\n'"
      ]
     },
     "execution_count": 11,
     "metadata": {},
     "output_type": "execute_result"
    }
   ],
   "source": [
    "# Testing the function\n",
    "dummy_para=\"Nepal, a landlocked nation in South Asia, is renowned for its stunning Himalayan landscapes and rich cultural heritage. Bordered by China to the north and India to the south, east, and west, Nepal boasts Mount Everest, the world's highest peak, and eight of the world's ten highest mountains. This diverse geography includes fertile plains, sub-alpine hills, and the towering Himalayas, making it a haven for trekkers and nature enthusiasts. Nepal is also the birthplace of Buddha, holding significance for both Hindus and Buddhists. The capital, Kathmandu, is a vibrant city steeped in history and culture, while other notable destinations include Pokhara, known for its natural beauty and lakes, and Lumbini, the birthplace of Buddha. \"\n",
    "\n",
    "matches,count=find_word_all(dummy_para,\"Asia\")\n",
    "print(\"Matches:\",matches)\n",
    "print(\"Total Count\",count)\n",
    "\n",
    "\n",
    "\n",
    "\"\"\" \n",
    "Uses of Regex:-\n",
    "\n",
    "So regex can be used to analyse sentiment, remove hateful speech\n",
    " remove any particular format\n",
    "\n",
    "\"\"\""
   ]
  },
  {
   "cell_type": "code",
   "execution_count": 13,
   "id": "06d4baa1",
   "metadata": {},
   "outputs": [
    {
     "data": {
      "text/plain": [
       "\"Nepal, a Non-landlocked nation in South Asia, is renowned for its stunning Himalayan landscapes and rich cultural heritage. Bordered by China to the north and India to the south, east, and west, Nepal boasts Mount Everest, the world's highest peak, and eight of the world's ten highest mountains. This diverse geography includes fertile plains, sub-alpine hills, and the towering Himalayas, making it a haven for trekkers and nature enthusiasts. Nepal is also the birthplace of Buddha, holding significance for both Hindus and Buddhists. The capital, Kathmandu, is a vibrant city steeped in history and culture, while other notable destinations include Pokhara, known for its natural beauty and lakes, and Lumbini, the birthplace of Buddha. \""
      ]
     },
     "execution_count": 13,
     "metadata": {},
     "output_type": "execute_result"
    }
   ],
   "source": [
    "# Paragraph baata kunai kura remove garnu paryo vane k garne \n",
    "\n",
    "dummy_para.replace(\"landlocked\",\"Non-landlocked\") #So replace le k garchha taw Asia laai empty space le remove gardinchha "
   ]
  },
  {
   "cell_type": "code",
   "execution_count": 15,
   "id": "13b3de9e",
   "metadata": {},
   "outputs": [],
   "source": [
    "# Tyestai paragaraph baata kunai particular word hataunu paryo \n",
    "def remove_word(paragraph,word):\n",
    "    if re.findall(word,paragraph,re.IGNORECASE):\n",
    "        without_word=paragraph.replace(word,\"\")\n",
    "        return without_word.strip()\n",
    "    \n",
    "    else:\n",
    "        return \"The word is not present in the paragraph \""
   ]
  },
  {
   "cell_type": "code",
   "execution_count": 16,
   "id": "9e2b9729",
   "metadata": {},
   "outputs": [
    {
     "data": {
      "text/plain": [
       "\"Nepal, a landlocked nation in South , is renowned for its stunning Himalayan landscapes and rich cultural heritage. Bordered by China to the north and India to the south, east, and west, Nepal boasts Mount Everest, the world's highest peak, and eight of the world's ten highest mountains. This diverse geography includes fertile plains, sub-alpine hills, and the towering Himalayas, making it a haven for trekkers and nature enthusiasts. Nepal is also the birthplace of Buddha, holding significance for both Hindus and Buddhists. The capital, Kathmandu, is a vibrant city steeped in history and culture, while other notable destinations include Pokhara, known for its natural beauty and lakes, and Lumbini, the birthplace of Buddha.\""
      ]
     },
     "execution_count": 16,
     "metadata": {},
     "output_type": "execute_result"
    }
   ],
   "source": [
    "#Testing the function\n",
    "remove_word(dummy_para,\"Asia\")    #Yesle k garchha taw remove garera dinchha Asia laai"
   ]
  },
  {
   "cell_type": "code",
   "execution_count": 18,
   "id": "97990848",
   "metadata": {},
   "outputs": [
    {
     "data": {
      "text/plain": [
       "'Korea is not for begineers'"
      ]
     },
     "execution_count": 18,
     "metadata": {},
     "output_type": "execute_result"
    }
   ],
   "source": [
    "# Kunai particular world laai arkai word le replace garna sakinchha\n",
    "re.sub('nepal','Korea','Nepal is not for begineers', flags=re.IGNORECASE)\n",
    "\n",
    "\n"
   ]
  },
  {
   "cell_type": "markdown",
   "id": "37e24b20",
   "metadata": {},
   "source": [
    "### 00PS (Object Oriented Programming)\n",
    "#### Class "
   ]
  },
  {
   "cell_type": "markdown",
   "id": "7acca645",
   "metadata": {},
   "source": [
    "-attributes\n",
    "-methods\n"
   ]
  },
  {
   "cell_type": "code",
   "execution_count": null,
   "id": "67ee3ea4",
   "metadata": {},
   "outputs": [
    {
     "name": "stdout",
     "output_type": "stream",
     "text": [
      "This is a red Toyota.\n",
      "This is a blue Honda.\n",
      "This is a Black Tesla.\n",
      "None\n",
      "This is a Silver Toyota.\n"
     ]
    }
   ],
   "source": [
    "# 1st example of class\n",
    "\n",
    "class Car:\n",
    "    def __init__(self,color,brand):    #init acts as constructor\n",
    "        self.color=color\n",
    "        self.brand=brand\n",
    "\n",
    "    def display(self):\n",
    "        print(f\"This is a {self.color} {self.brand}.\")\n",
    "\n",
    "    def change_color(self,new_color):\n",
    "        self.color=new_color\n",
    "    \n",
    "#Objects\n",
    "my_car=Car(\"red\",\"Toyota\")\n",
    "your_car=Car(\"blue\",\"Honda\")\n",
    "Praneez_car=Car(\"Black\",\"Tesla\")\n",
    "\n",
    "my_car.display()  # Output: This is a red Toyota\n",
    "your_car.display() #Output: This is a blue Honda\n",
    "Praneez_car.display()\n",
    "\n",
    "#color change for my car\n",
    "# print(my_car.change_color(\"Silver\"))\n",
    "# my_car.display()"
   ]
  },
  {
   "cell_type": "code",
   "execution_count": 23,
   "id": "37adf330",
   "metadata": {},
   "outputs": [
    {
     "name": "stdout",
     "output_type": "stream",
     "text": [
      "None\n",
      "This is a green Tesla.\n"
     ]
    }
   ],
   "source": [
    "#Car ko color change garnu paryo kasari garne \n",
    "print(Praneez_car.change_color(\"green\"))\n",
    "Praneez_car.display()"
   ]
  },
  {
   "cell_type": "code",
   "execution_count": 24,
   "id": "efc6a98c",
   "metadata": {},
   "outputs": [
    {
     "name": "stdout",
     "output_type": "stream",
     "text": [
      "This is a red tesla.\n",
      "This is a blue Honda.\n"
     ]
    }
   ],
   "source": [
    "#Default Arguments haru ni haalna sakinchha \n",
    "\n",
    "class Car:\n",
    "    def __init__(self,color=\"red\",brand=\"tesla\"):    #init acts as constructor\n",
    "        self.color=color\n",
    "        self.brand=brand\n",
    "\n",
    "    def display(self):\n",
    "        print(f\"This is a {self.color} {self.brand}.\")\n",
    "\n",
    "    def change_color(self,new_color):\n",
    "        self.color=new_color\n",
    "    \n",
    "#Objects\n",
    "my_car=Car()                  # Default argument vayera aba yo run hunchha\n",
    "your_car=Car(\"blue\",\"Honda\")\n",
    "\n",
    "my_car.display()  # Output: This is a red Toyota\n",
    "your_car.display() #Output: This is a blue Honda"
   ]
  },
  {
   "cell_type": "code",
   "execution_count": 26,
   "id": "2a947985",
   "metadata": {},
   "outputs": [],
   "source": [
    "# Alternative example of Class ( Bankaccount)\n",
    "\n",
    "class BankAccount:\n",
    "    def __init__(self,balance):\n",
    "        self.__balance=balance # Private attribute\n",
    "\n",
    "    def deposit(self,amount):\n",
    "        self.__balance+=amount\n",
    "    \n",
    "    def withdraw(self,amount):\n",
    "        if amount > self.__balance:\n",
    "            print(\"Insufficient funds.Withdrawal denied\")\n",
    "        \n",
    "        else:\n",
    "            self.__balance-=amount\n",
    "            print(f\"Withdrawl of {amount} sucessful .\")\n",
    "\n",
    "    def get_balance(self):\n",
    "        return self.__balance\n",
    "\n",
    "\n",
    " "
   ]
  },
  {
   "cell_type": "code",
   "execution_count": 29,
   "id": "1168542f",
   "metadata": {},
   "outputs": [
    {
     "name": "stdout",
     "output_type": "stream",
     "text": [
      "Withdrawl of 20000 sucessful .\n",
      "Final Balance 130000\n"
     ]
    }
   ],
   "source": [
    "#\n",
    "account_prabin=BankAccount(100000)\n",
    "account_prabin.deposit(50000)\n",
    "account_prabin.withdraw(20000)           #This will work\n",
    "# account_prabin.withdraw(200000)      #insufficient Balance\n",
    "print(\"Final Balance\",account_prabin.get_balance())"
   ]
  },
  {
   "cell_type": "markdown",
   "id": "37b2c91e",
   "metadata": {},
   "source": [
    "Read ( Class methods,static mthods)\n",
    "\n",
    "    -Last ko 5 min hernu hola garnu hola "
   ]
  }
 ],
 "metadata": {
  "kernelspec": {
   "display_name": "mshpe",
   "language": "python",
   "name": "python3"
  },
  "language_info": {
   "codemirror_mode": {
    "name": "ipython",
    "version": 3
   },
   "file_extension": ".py",
   "mimetype": "text/x-python",
   "name": "python",
   "nbconvert_exporter": "python",
   "pygments_lexer": "ipython3",
   "version": "3.13.1"
  }
 },
 "nbformat": 4,
 "nbformat_minor": 5
}
