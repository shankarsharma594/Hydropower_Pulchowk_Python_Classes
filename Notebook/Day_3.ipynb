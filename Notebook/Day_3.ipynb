{
 "cells": [
  {
   "cell_type": "markdown",
   "id": "5c940183",
   "metadata": {},
   "source": [
    "## Functions \n",
    "Functions are reusable blocks of code "
   ]
  },
  {
   "cell_type": "code",
   "execution_count": 2,
   "id": "8b932b54",
   "metadata": {},
   "outputs": [
    {
     "name": "stdout",
     "output_type": "stream",
     "text": [
      "Hello,Om shankar!\n"
     ]
    }
   ],
   "source": [
    "#defining and calling functions\n",
    "def greet(name):\n",
    "    print(f\"Hello,{name}!\")\n",
    "\n",
    "greet (\"Om shankar\")"
   ]
  },
  {
   "cell_type": "code",
   "execution_count": 3,
   "id": "beaf73c3",
   "metadata": {},
   "outputs": [
    {
     "name": "stdout",
     "output_type": "stream",
     "text": [
      "Hello,Guest!\n",
      "Hello,Hydropower Engineers!\n"
     ]
    }
   ],
   "source": [
    "#Example Default argument \n",
    "\n",
    "def greet (name='Guest'):\n",
    "    print(f\"Hello,{name}!\")\n",
    "\n",
    "greet()  #Uses defult value\n",
    "greet(\"Hydropower Engineers\")"
   ]
  },
  {
   "cell_type": "code",
   "execution_count": 4,
   "id": "a1ae4b66",
   "metadata": {},
   "outputs": [],
   "source": [
    "# Assignment using (Function)\n",
    "# Write function to check even and odd number \n",
    "# Write function to check prime number\n",
    "# Write a function to check pallindrome number \n",
    "\n",
    "\n",
    "\n",
    "#read list comprehension , iterator vs generator (list)"
   ]
  },
  {
   "cell_type": "code",
   "execution_count": 5,
   "id": "84336087",
   "metadata": {},
   "outputs": [
    {
     "name": "stdout",
     "output_type": "stream",
     "text": [
      "odd\n"
     ]
    }
   ],
   "source": [
    "def check_even_odd (num):\n",
    "    if num%2==0:\n",
    "        return print(\"even\")\n",
    "    else:\n",
    "        return print(\"odd\")\n",
    "    \n",
    "check_even_odd(7)\n",
    "    "
   ]
  },
  {
   "cell_type": "markdown",
   "id": "1c3dd947",
   "metadata": {},
   "source": [
    "## PART 4"
   ]
  },
  {
   "cell_type": "code",
   "execution_count": 6,
   "id": "907ef617",
   "metadata": {},
   "outputs": [],
   "source": [
    "# DAY 3 RECAP\n",
    "# DICTIONARIS\n",
    "student={}\n",
    "\n",
    "# add a student\n",
    "\n",
    "student[\"name\"]=\"raju\"\n",
    "student[\"age\"]=25\n",
    "student[\"class\"]=\"Bachelor\"\n",
    "student[\"grade\"]=3.2\n",
    "student[\"is_passed\"]=True\n"
   ]
  },
  {
   "cell_type": "code",
   "execution_count": 7,
   "id": "970f5607",
   "metadata": {},
   "outputs": [
    {
     "data": {
      "text/plain": [
       "{'name': 'raju',\n",
       " 'age': 25,\n",
       " 'class': 'Bachelor',\n",
       " 'grade': 3.2,\n",
       " 'is_passed': True}"
      ]
     },
     "execution_count": 7,
     "metadata": {},
     "output_type": "execute_result"
    }
   ],
   "source": [
    "student"
   ]
  },
  {
   "cell_type": "code",
   "execution_count": 8,
   "id": "75a28038",
   "metadata": {},
   "outputs": [
    {
     "data": {
      "text/plain": [
       "dict_values(['raju', 25, 'Bachelor', 3.2, True])"
      ]
     },
     "execution_count": 8,
     "metadata": {},
     "output_type": "execute_result"
    }
   ],
   "source": [
    "#print only values\n",
    "student.values()"
   ]
  },
  {
   "cell_type": "code",
   "execution_count": 9,
   "id": "d906756d",
   "metadata": {},
   "outputs": [
    {
     "name": "stdout",
     "output_type": "stream",
     "text": [
      "values:dict_values(['raju', 25, 'Bachelor', 3.2, True])\n",
      "key:dict_keys(['name', 'age', 'class', 'grade', 'is_passed'])\n"
     ]
    }
   ],
   "source": [
    "# Print both keys and values\n",
    "print(f\"values:{student.values()}\")\n",
    "print(f\"key:{student.keys()}\")"
   ]
  },
  {
   "cell_type": "code",
   "execution_count": 10,
   "id": "9d756cb7",
   "metadata": {},
   "outputs": [
    {
     "name": "stdout",
     "output_type": "stream",
     "text": [
      "name:raju\n",
      "age:25\n",
      "class:Bachelor\n",
      "grade:3.2\n",
      "is_passed:True\n"
     ]
    }
   ],
   "source": [
    "# Printing both keys and values\n",
    "for key,value in student.items():\n",
    "    print(f\"{key}:{value}\")\n",
    "    #break\n"
   ]
  },
  {
   "cell_type": "code",
   "execution_count": 11,
   "id": "81c202ee",
   "metadata": {},
   "outputs": [
    {
     "name": "stdout",
     "output_type": "stream",
     "text": [
      "Jan\n",
      "Feb\n",
      "Mar\n",
      "Apr\n",
      "may\n"
     ]
    }
   ],
   "source": [
    "# Set maa For loop lagayer check garam \n",
    "days=['Jan','Feb','Mar','Apr','may']         #List is ordered , while set is unordered\n",
    "for day in days:\n",
    "    print(day)\n",
    "\n"
   ]
  },
  {
   "cell_type": "code",
   "execution_count": 12,
   "id": "b01120b3",
   "metadata": {},
   "outputs": [
    {
     "name": "stdout",
     "output_type": "stream",
     "text": [
      "[1, 3, 5, 7]\n"
     ]
    }
   ],
   "source": [
    "# List Comprehension\n",
    "numbers=[i for i in range (1,9,2)]  # List compresension le 1utai line maa rakhdinchha\n",
    "print(numbers)\n",
    "\n",
    "# Advantage of list comprehension \n",
    " # list vandha fast huncha \n",
    "  # code saano hune vayo "
   ]
  },
  {
   "cell_type": "code",
   "execution_count": 13,
   "id": "1eb5ab2c",
   "metadata": {},
   "outputs": [
    {
     "name": "stdout",
     "output_type": "stream",
     "text": [
      "[0, 1, 2, 3, 4, 5, 6, 7, 8, 9]\n"
     ]
    }
   ],
   "source": [
    "# Normally kasari garinthyo list maa\n",
    "numbers=[]\n",
    "for i in range (10):\n",
    "    numbers.append(i)\n",
    "\n",
    "print(numbers)"
   ]
  },
  {
   "cell_type": "code",
   "execution_count": 14,
   "id": "26f2589c",
   "metadata": {},
   "outputs": [
    {
     "data": {
      "text/plain": [
       "[0, 1, 2, 3, 4, 5, 6, 7, 8, 9]"
      ]
     },
     "execution_count": 14,
     "metadata": {},
     "output_type": "execute_result"
    }
   ],
   "source": [
    "[i for i in range(10)]"
   ]
  },
  {
   "cell_type": "code",
   "execution_count": 15,
   "id": "c93363d9",
   "metadata": {},
   "outputs": [
    {
     "name": "stdout",
     "output_type": "stream",
     "text": [
      "index:0,fruit:apple\n",
      "index:1,fruit:orange\n",
      "index:2,fruit:mango\n",
      "index:3,fruit:Cherry\n"
     ]
    }
   ],
   "source": [
    "# Iterator vs generator\n",
    "#Generator\n",
    "fruits=[\"apple\",\"orange\",\"mango\",\"Cherry\"]\n",
    "for index,fruit in enumerate(fruits):\n",
    "    print(f\"index:{index},fruit:{fruit}\")\n",
    "\n",
    "#iterator le sabai data memory ma haldinxa\n",
    "# enumerate (generator) le paalai sanga data memory ma halxa\n",
    "# Jasle k hunchha taw genertor use gareko code le programme laai efficient banauchha \n"
   ]
  },
  {
   "cell_type": "code",
   "execution_count": 16,
   "id": "4e669dd7",
   "metadata": {},
   "outputs": [
    {
     "name": "stdout",
     "output_type": "stream",
     "text": [
      "index:0,fruit:apple\n",
      "index:1,fruit:orange\n",
      "index:2,fruit:mango\n",
      "index:3,fruit:Cherry\n"
     ]
    }
   ],
   "source": [
    "# Mathiko same code laai manually garnu paryo vane k garne \n",
    "for i in range (len(fruits)):\n",
    "    print(f\"index:{i},fruit:{fruits[i]}\")"
   ]
  },
  {
   "cell_type": "code",
   "execution_count": 17,
   "id": "37c48e9e",
   "metadata": {},
   "outputs": [],
   "source": [
    "# Programme to check highest numbers in given list\n",
    "nums=[1,4,5,6,7,34,0,5]\n",
    "# nums.sort()\n",
    "# print(nums)\n",
    "# print(nums[len(nums)-1])\n",
    "# print(len(nums))\n",
    "\n",
    "\n",
    "\n",
    "#Hard_core programming\n",
    "# max_number=nums[0]\n",
    "# for current_num in nums:\n",
    "#   if current_num > max_number:\n",
    "#       max_number=current_num\n",
    "\n",
    "# print(max_number)  \n",
    "     \n",
    "\n",
    "\n",
    "\n",
    "# Directly builtin function of python laai use garera ni garna sakinchha\n",
    "\n",
    "\n",
    "# max_num=max(nums)\n",
    "# print(max_num)\n",
    "\n",
    "\n",
    "\n",
    "\n"
   ]
  },
  {
   "cell_type": "markdown",
   "id": "5501f07d",
   "metadata": {},
   "source": [
    "### Functions Continued"
   ]
  },
  {
   "cell_type": "code",
   "execution_count": 18,
   "id": "2befb750",
   "metadata": {},
   "outputs": [],
   "source": [
    "# Simple example of function creation\n",
    "\n",
    "def addition (num1,num2):\n",
    "    result=num1+num2\n",
    "    return result\n",
    "\n",
    "\n",
    "def subtraction (num1,num2):\n",
    "    result=num1-num2\n",
    "    return result\n",
    "\n",
    "def multiply (num1,num2,num3):\n",
    "    result=num1*num2*num3\n",
    "    return result"
   ]
  },
  {
   "cell_type": "code",
   "execution_count": 19,
   "id": "1b0ec41f",
   "metadata": {},
   "outputs": [
    {
     "name": "stdout",
     "output_type": "stream",
     "text": [
      "164\n",
      "12\n"
     ]
    },
    {
     "data": {
      "text/plain": [
       "60"
      ]
     },
     "execution_count": 19,
     "metadata": {},
     "output_type": "execute_result"
    }
   ],
   "source": [
    "# function calling\n",
    "print(addition( 89,75))\n",
    "print(subtraction(97,85))\n",
    "multiply(5,4,3)"
   ]
  },
  {
   "cell_type": "code",
   "execution_count": 20,
   "id": "fce0347e",
   "metadata": {},
   "outputs": [],
   "source": [
    "# Creating a function\n",
    "def calculator (num1,num2,operator):\n",
    "    if operator=='+':\n",
    "        return addition (num1,num2)\n",
    "    elif operator =='-':\n",
    "        return subtraction(num1,num2)\n",
    "    else:\n",
    "        print(\"Invalid operator\")\n",
    "        return None"
   ]
  },
  {
   "cell_type": "code",
   "execution_count": 21,
   "id": "a06341da",
   "metadata": {},
   "outputs": [
    {
     "name": "stdout",
     "output_type": "stream",
     "text": [
      "Result:1\n"
     ]
    }
   ],
   "source": [
    "# Calling the function\n",
    "\n",
    "result=calculator(9,8,\"-\")\n",
    "print(f\"Result:{result}\")\n",
    "\n",
    "\n",
    "\n",
    "\n",
    "# num1,num2=20,10\n",
    "# operator=\"+\"\n",
    "# result=calculator(num1,num2,operator)\n",
    "# print(f\"Result:{result}\")\n"
   ]
  },
  {
   "cell_type": "code",
   "execution_count": 22,
   "id": "e5f3ea38",
   "metadata": {},
   "outputs": [],
   "source": [
    "# Again defining function without argument\n",
    "\n",
    "def greet():\n",
    "    print(\"Hello world\")"
   ]
  },
  {
   "cell_type": "code",
   "execution_count": 23,
   "id": "24539242",
   "metadata": {},
   "outputs": [
    {
     "name": "stdout",
     "output_type": "stream",
     "text": [
      "Hello world\n"
     ]
    }
   ],
   "source": [
    "greet()"
   ]
  },
  {
   "cell_type": "code",
   "execution_count": 24,
   "id": "6e89a855",
   "metadata": {},
   "outputs": [],
   "source": [
    "# Function with the argument \n",
    "# Maathi kai example maa aba name diye vane k hunxhha \n",
    "\n",
    "def greet (name):\n",
    "    print(f\"Hello {name}:\")\n",
    "\n",
    "# greet(\"raju\")\n",
    "# greet (name=\"raju\")  #yesari ni call garna payo\n",
    "# greet (age=\"raju\")   #agedina paayena error faalxa \n",
    "# greet(\"bikash\")\n",
    "\n"
   ]
  },
  {
   "cell_type": "code",
   "execution_count": 25,
   "id": "722ee2c3",
   "metadata": {},
   "outputs": [
    {
     "name": "stdout",
     "output_type": "stream",
     "text": [
      "Hello raju:\n",
      "age:10\n"
     ]
    }
   ],
   "source": [
    "# Above example with two arguments \n",
    "def greet (name,age):\n",
    "    print(f\"Hello {name}:\")\n",
    "    print(f\"age:{age}\")\n",
    "\n",
    "    \n",
    "\n",
    "greet(name=\"raju\",age=10)\n",
    "# greet(name=\"shyam\") # Yo print hudaina error faalcha because hamile  1utai argument pass garaudai xam "
   ]
  },
  {
   "cell_type": "code",
   "execution_count": 26,
   "id": "b114ef06",
   "metadata": {},
   "outputs": [
    {
     "name": "stdout",
     "output_type": "stream",
     "text": [
      "Hello raju:\n",
      "age:10\n"
     ]
    }
   ],
   "source": [
    "# example of default arguments \n",
    "\n",
    "def greet (name,age=None):\n",
    "    print(f\"Hello {name}:\")\n",
    "    print(f\"age:{age}\")\n",
    "\n",
    "    \n",
    "\n",
    "greet(name=\"raju\",age=10)\n",
    "# greet(name=\"shyam\")"
   ]
  },
  {
   "cell_type": "code",
   "execution_count": 27,
   "id": "0c282bd7",
   "metadata": {},
   "outputs": [
    {
     "name": "stdout",
     "output_type": "stream",
     "text": [
      "Hello raju:\n",
      "age:10\n",
      "Hello shyam:\n",
      "age:20\n",
      "None\n"
     ]
    }
   ],
   "source": [
    "#Return statement\n",
    "\n",
    "def greet (name,age=20):\n",
    "    print(f\"Hello {name}:\")\n",
    "    print(f\"age:{age}\")\n",
    "\n",
    "    \n",
    "\n",
    "greet(name=\"raju\",age=10)\n",
    "print (greet(name=\"shyam\"))\n",
    "\n",
    "# yo code le none return garxa\n"
   ]
  },
  {
   "cell_type": "code",
   "execution_count": 28,
   "id": "dc2bacf2",
   "metadata": {},
   "outputs": [],
   "source": [
    "#return statement\n",
    "def is_even(num):\n",
    "    if num%2 == 0:\n",
    "        return True\n",
    "\n",
    "    else:\n",
    "        return False"
   ]
  },
  {
   "cell_type": "code",
   "execution_count": 29,
   "id": "e0397341",
   "metadata": {},
   "outputs": [
    {
     "data": {
      "text/plain": [
       "False"
      ]
     },
     "execution_count": 29,
     "metadata": {},
     "output_type": "execute_result"
    }
   ],
   "source": [
    "num=3\n",
    "is_even(num)"
   ]
  },
  {
   "cell_type": "code",
   "execution_count": 30,
   "id": "f8611151",
   "metadata": {},
   "outputs": [
    {
     "name": "stdout",
     "output_type": "stream",
     "text": [
      "3 is odd.\n"
     ]
    }
   ],
   "source": [
    "num=3\n",
    "is_even=is_even(num)\n",
    "if is_even:\n",
    "    print(f\"{num} is even .\")\n",
    "\n",
    "else:\n",
    "    print(f\"{num} is odd.\")\n"
   ]
  },
  {
   "cell_type": "code",
   "execution_count": 31,
   "id": "60fbc716",
   "metadata": {},
   "outputs": [
    {
     "name": "stdout",
     "output_type": "stream",
     "text": [
      "The number 7 is a prime number\n"
     ]
    }
   ],
   "source": [
    "\n",
    "\n",
    "# Write a Programmme to check the prime number\n",
    "\n",
    "def check_prime_number(num):\n",
    "    if num <= 1:\n",
    "        print(f\"The number {num} is not a prime number\")\n",
    "        return\n",
    "    \n",
    "    for i in range(2, num):\n",
    "        if num % i == 0:\n",
    "            print(f\"The number {num} is not a prime number\")\n",
    "            return\n",
    "    print(f\"The number {num} is a prime number\")\n",
    "    \n",
    "\n",
    "check_prime_number(7)\n",
    "\n",
    "\n"
   ]
  },
  {
   "cell_type": "code",
   "execution_count": 32,
   "id": "44ffcdaa",
   "metadata": {},
   "outputs": [
    {
     "name": "stdout",
     "output_type": "stream",
     "text": [
      "False\n"
     ]
    }
   ],
   "source": [
    "\n",
    " \n",
    " #Alternative code \n",
    "\n",
    "import math\n",
    "\n",
    "def is_prime_sqrt(num):\n",
    "    if num <= 1:\n",
    "        return False\n",
    "    for i in range(2, int(math.sqrt(num)) + 1):\n",
    "        if num % i == 0:\n",
    "            return False\n",
    "    return True\n",
    "\n",
    "# Test\n",
    "print(is_prime_sqrt(1))\n",
    "\n",
    "\n"
   ]
  },
  {
   "cell_type": "code",
   "execution_count": 40,
   "id": "d6da0b08",
   "metadata": {},
   "outputs": [
    {
     "name": "stdout",
     "output_type": "stream",
     "text": [
      "123\n",
      "321\n"
     ]
    }
   ],
   "source": [
    "x=123\n",
    "x_string=str(123)\n",
    "print(x_string)\n",
    "print(x_string[::-1])"
   ]
  },
  {
   "cell_type": "code",
   "execution_count": null,
   "id": "7813843b",
   "metadata": {},
   "outputs": [],
   "source": [
    "#Write a programme to check pallindrome number \n",
    "\n",
    "\n",
    "def is_palindrome_number(num):\n",
    "    # Convert number to string for easy reversal\n",
    "    num_str = str(num)                            #typesting\n",
    "    # Compare original with reversed string\n",
    "    if num_str == num_str[::-1]:\n",
    "        print(f\"{num} is a palindrome number\")\n",
    "    else:\n",
    "        print(f\"{num} is not a palindrome number\")\n",
    "\n"
   ]
  },
  {
   "cell_type": "code",
   "execution_count": 42,
   "id": "29ca17cb",
   "metadata": {},
   "outputs": [
    {
     "name": "stdout",
     "output_type": "stream",
     "text": [
      "121 is a palindrome number\n",
      "555 is a palindrome number\n"
     ]
    }
   ],
   "source": [
    "# Test\n",
    "is_palindrome_number(121)   # Palindrome\n",
    "is_palindrome_number(555)   # Not Palindrome"
   ]
  },
  {
   "cell_type": "code",
   "execution_count": 44,
   "id": "85d47db5",
   "metadata": {},
   "outputs": [
    {
     "name": "stdout",
     "output_type": "stream",
     "text": [
      "length of the list :10\n"
     ]
    }
   ],
   "source": [
    "# programme to check the length of list (using function)\n",
    "\n",
    "def list_len(list):\n",
    "    return len(list)\n",
    "\n",
    "list=[0,1,2,3,4,5,6,7,8,9]\n",
    "\n",
    "length=list_len(list)\n",
    "print(f\"length of the list :{length}\")\n"
   ]
  }
 ],
 "metadata": {
  "kernelspec": {
   "display_name": "mshpe",
   "language": "python",
   "name": "python3"
  },
  "language_info": {
   "codemirror_mode": {
    "name": "ipython",
    "version": 3
   },
   "file_extension": ".py",
   "mimetype": "text/x-python",
   "name": "python",
   "nbconvert_exporter": "python",
   "pygments_lexer": "ipython3",
   "version": "3.13.1"
  }
 },
 "nbformat": 4,
 "nbformat_minor": 5
}
