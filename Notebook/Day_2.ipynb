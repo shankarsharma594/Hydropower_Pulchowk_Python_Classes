{
 "cells": [
  {
   "cell_type": "markdown",
   "id": "90fb10c2",
   "metadata": {},
   "source": [
    "### Assignment calculator\n",
    "    - get num1,operator and num2 from user input and print result based on operator"
   ]
  },
  {
   "cell_type": "code",
   "execution_count": 1,
   "id": "f5644748",
   "metadata": {},
   "outputs": [
    {
     "name": "stdout",
     "output_type": "stream",
     "text": [
      "1.0\n"
     ]
    }
   ],
   "source": [
    "num1=int(input(\"enter the first number:\"))\n",
    "num2=int(input(\"enter the second number:\"))\n",
    "\n",
    "operator=input(\"enter operator (+,-,*,/):\")\n",
    "\n",
    "if operator==\"+\":\n",
    "    result=num1+num2\n",
    "\n",
    "elif operator==\"-\":\n",
    "    result=num1-num2\n",
    "\n",
    "elif operator==\"*\":\n",
    "    result=num1*num2\n",
    "\n",
    "elif operator==\"/\":\n",
    "    if num2!=0:\n",
    "        result=num1/num2 # yaha dry le garda error aauxa \n",
    "    else:\n",
    "        print(\"Error:Division by zero\")\n",
    "\n",
    "else:\n",
    "    print(\"Error:Invalid operator\")\n",
    "\n",
    "print(result)\n",
    "\n",
    "\n",
    "\n"
   ]
  },
  {
   "cell_type": "markdown",
   "id": "6ec8ca23",
   "metadata": {},
   "source": [
    "#### DRY: DO NOT REPEAT YOURSELF \n",
    "    - Similar type ko code laai patak patak repeat nagarne"
   ]
  },
  {
   "cell_type": "code",
   "execution_count": 2,
   "id": "afe0a492",
   "metadata": {},
   "outputs": [
    {
     "name": "stdout",
     "output_type": "stream",
     "text": [
      "Result: 1.0\n"
     ]
    }
   ],
   "source": [
    "# Concept of DRY\n",
    "#Same example but works fine and avoid repeating the code\n",
    "if operator == \"+\":\n",
    "    result = num1 + num2\n",
    "elif operator == \"-\":\n",
    "    result = num1 - num2\n",
    "elif operator == \"*\":\n",
    "    result = num1 * num2\n",
    "elif operator == \"/\":\n",
    "    if num2 != 0:\n",
    "        result = num1 / num2\n",
    "    else:\n",
    "        print(\"Error: Division by zero\")\n",
    "else:\n",
    "    print(\"Error: Invalid operator\")\n",
    "\n",
    "if result is not None:  # Print only if a valid result exists\n",
    "    print(\"Result:\", result)\n"
   ]
  },
  {
   "cell_type": "markdown",
   "id": "15d1e36a",
   "metadata": {},
   "source": [
    "## Day 2\n",
    "do something until the condition is met \n",
    "\n",
    "While something is True:\n",
    "print(\"This is true.)"
   ]
  },
  {
   "cell_type": "code",
   "execution_count": 3,
   "id": "e943c0fe",
   "metadata": {},
   "outputs": [
    {
     "name": "stdout",
     "output_type": "stream",
     "text": [
      "The sum of numbers from 1 to 5 is 15\n"
     ]
    },
    {
     "data": {
      "text/plain": [
       "' For loop taba use garne jaba define range thaha chha ( number iterations predefined hunchha )\\n\\n    while loop vaneko kati choti run garne thaha xaina vane use garinchha (number of iterations predfined hunnna )\\n\\n'"
      ]
     },
     "execution_count": 3,
     "metadata": {},
     "output_type": "execute_result"
    }
   ],
   "source": [
    "# Sum of 1st natural numbers\n",
    "\n",
    "n=int(input(\"Enter a number:\"))\n",
    "sum=0\n",
    "i=1\n",
    "\n",
    "while i<= n:\n",
    "    sum+=i     #sum=sum+i\n",
    "    i+=1\n",
    "\n",
    "print(f\"The sum of numbers from 1 to {n} is {sum}\")\n",
    "\n",
    "#For loop kati khera use garne ani while loop kati khera use garne\n",
    "\n",
    "\n",
    "\"\"\" For loop taba use garne jaba define range thaha chha ( number iterations predefined hunchha )\n",
    "    \n",
    "    while loop vaneko kati choti run garne thaha xaina vane use garinchha (number of iterations predfined hunnna )\n",
    "\n",
    "\"\"\"\n"
   ]
  },
  {
   "cell_type": "markdown",
   "id": "4813f5de",
   "metadata": {},
   "source": [
    "Break and Continue"
   ]
  },
  {
   "cell_type": "code",
   "execution_count": 4,
   "id": "fe9a28a9",
   "metadata": {},
   "outputs": [
    {
     "name": "stdout",
     "output_type": "stream",
     "text": [
      "1 2 3 4 5 "
     ]
    }
   ],
   "source": [
    " # break ( loop bahira nikaldinchha)\n",
    "for num in range (1,11):\n",
    "    if num==6:\n",
    "        break # Exit the loop when num is 5\n",
    "    print (num,end=\" \")  # end= \" \" 1utai line maa print garna bhhanchha\n"
   ]
  },
  {
   "cell_type": "code",
   "execution_count": 5,
   "id": "8c14d9de",
   "metadata": {},
   "outputs": [
    {
     "name": "stdout",
     "output_type": "stream",
     "text": [
      "1 2 3 4 5 7 8 9 10 "
     ]
    }
   ],
   "source": [
    "#continue \n",
    "for num in range (1,11):\n",
    "    if num ==6:\n",
    "        continue # Skip the iteration when num is 5\n",
    "    print (num,end=\" \")"
   ]
  },
  {
   "cell_type": "markdown",
   "id": "2dbce82e",
   "metadata": {},
   "source": [
    "### Data Structures\n",
    "\n",
    "List \n",
    "\n",
    "Lists are ordered,mutable collections \n"
   ]
  },
  {
   "cell_type": "code",
   "execution_count": 6,
   "id": "b19f3f7c",
   "metadata": {},
   "outputs": [
    {
     "name": "stdout",
     "output_type": "stream",
     "text": [
      "['apple', 'banana', 'cherry', 'pineapple']\n"
     ]
    }
   ],
   "source": [
    "fruits=[\"apple\",\"banana\",\"cherry\",\"pineapple\"]\n",
    "print(fruits)"
   ]
  },
  {
   "cell_type": "code",
   "execution_count": 7,
   "id": "3543285a",
   "metadata": {},
   "outputs": [
    {
     "name": "stdout",
     "output_type": "stream",
     "text": [
      "['carrot']\n"
     ]
    }
   ],
   "source": [
    "vegetables=[]\n",
    "vegetables.append(\"carrot\")\n",
    "print(vegetables)\n"
   ]
  },
  {
   "cell_type": "code",
   "execution_count": 8,
   "id": "8d889f2b",
   "metadata": {},
   "outputs": [
    {
     "name": "stdout",
     "output_type": "stream",
     "text": [
      "[10, 'Python', 3.234, True]\n"
     ]
    }
   ],
   "source": [
    "#Mixed data types\n",
    "mixed_list=[10,\"Python\",3.234,True] # (integer,string,float,boolean)\n",
    "print(mixed_list)"
   ]
  },
  {
   "cell_type": "markdown",
   "id": "6dba7030",
   "metadata": {},
   "source": [
    "### difference between array and list\n",
    "### array \n",
    "    -same data types\n",
    "    -fast in comparison to list because of same datatypes\n",
    "    -used when large datasets\n",
    "\n",
    "### list\n",
    "    -different data types\n",
    "    -slower in comparison to array\n",
    "    -suitable for small data \n"
   ]
  },
  {
   "cell_type": "code",
   "execution_count": 9,
   "id": "0e9a1129",
   "metadata": {},
   "outputs": [],
   "source": [
    "# Add an item to the list \n",
    "\n",
    "# append\n",
    "# print(fruits)\n",
    "# fruits.append(\"Mango\")\n",
    "# print(fruits)\n",
    "\n",
    "#extend\n",
    "# fruits.extend([\"cherry\",\"mango\"]) # Multiple value append garnu parda extend use garinchha\n",
    "# print(fruits)\n",
    "\n",
    "#Insert an item at a specific index\n",
    "# fruits.insert(1,\"grape\")\n",
    "# print(fruits)"
   ]
  },
  {
   "cell_type": "code",
   "execution_count": 10,
   "id": "1aad4280",
   "metadata": {},
   "outputs": [],
   "source": [
    "# remove last item \n",
    "\n",
    "# fruits.pop()\n",
    "# print(fruits)\n",
    "\n",
    "#Remove an item\n",
    "# fruits.remove(\"banana\")\n",
    "# print(fruits)\n"
   ]
  },
  {
   "cell_type": "code",
   "execution_count": 12,
   "id": "80822de3",
   "metadata": {},
   "outputs": [],
   "source": [
    "# length=len(fruits)\n",
    "# print(length)\n",
    "# fruits[2]\n",
    "# fruits.index('grape')"
   ]
  },
  {
   "cell_type": "code",
   "execution_count": null,
   "id": "cd1ae5e4",
   "metadata": {},
   "outputs": [
    {
     "name": "stdout",
     "output_type": "stream",
     "text": [
      "6\n"
     ]
    }
   ],
   "source": [
    "# multi-dimensional list\n",
    "nums=[[1,2,3,4],[4,5,6],[7,8,9,7,6,9]] #2 dimensiona array\n",
    "# print(len(nums))\n",
    "print(len(nums[2]))"
   ]
  },
  {
   "cell_type": "code",
   "execution_count": null,
   "id": "32be114c",
   "metadata": {},
   "outputs": [
    {
     "name": "stdout",
     "output_type": "stream",
     "text": [
      "['grape', 'cherry', 'apple']\n"
     ]
    }
   ],
   "source": [
    "# Sorth the list \n",
    "# fruits.sort()              # Alphabetical order maa 1uta list laai short gardinchha\n",
    "# print(fruits)\n",
    "\n",
    "#Descending order\n",
    "# fruits.sort(reverse=True)\n",
    "# print(fruits)"
   ]
  },
  {
   "cell_type": "code",
   "execution_count": null,
   "id": "883a48ee",
   "metadata": {},
   "outputs": [
    {
     "name": "stdout",
     "output_type": "stream",
     "text": [
      "fruits:grape\n",
      "fruits:cherry\n",
      "fruits:apple\n"
     ]
    }
   ],
   "source": [
    "# Loop through the list \n",
    "# for i in range (len(fruits)):\n",
    "#     print(i)\n",
    "#     print(f\"fruits:{fruits[i]}\")\n",
    "\n",
    "# for fruit in fruits:\n",
    "#     print(f\"fruits:{fruit}\")\n",
    "\n"
   ]
  },
  {
   "cell_type": "markdown",
   "id": "526a9e2e",
   "metadata": {},
   "source": [
    "### Tuples\n",
    "\n",
    "Tuples are ordered and immutable collections \n",
    "\n",
    "        -They are immutable , making them faster than list \n",
    "        -Suitable for data that shouldn't be modified "
   ]
  },
  {
   "cell_type": "code",
   "execution_count": null,
   "id": "b4bab808",
   "metadata": {},
   "outputs": [
    {
     "name": "stdout",
     "output_type": "stream",
     "text": [
      "('sun', 'mon', 'tue', 'wed', 'thu', 'fri', 'sat')\n",
      "('sun',)\n",
      "fri\n"
     ]
    }
   ],
   "source": [
    "#Creating a tuple \n",
    "days=(\"sun\",\"mon\",\"tue\",\"wed\",\"thu\",\"fri\",\"sat\") # Predefined data ko case maa tuple use garinxa\n",
    "print(days)\n",
    "\n",
    "# # Single-element tuple (needs a comma)\n",
    "single_day=(\"sun\",)\n",
    "print(single_day)\n",
    "\n",
    "# #Accessing elements\n",
    "print(days[5])"
   ]
  },
  {
   "cell_type": "markdown",
   "id": "9dd27e77",
   "metadata": {},
   "source": [
    "### SETS"
   ]
  },
  {
   "cell_type": "code",
   "execution_count": 12,
   "id": "01539567",
   "metadata": {},
   "outputs": [
    {
     "name": "stdout",
     "output_type": "stream",
     "text": [
      "{1, 2, 3, 4, 5, 9, 10}\n",
      "[]\n"
     ]
    }
   ],
   "source": [
    "# CREATING A SET ( SET BHITRA DUPLICATE DATA HUDAINA)\n",
    "\n",
    "unique_numbers={1,2,3,4,5,5,3,3,9,9,9,9,10,10,10}\n",
    "print(unique_numbers)  #Removes duplicates\n",
    "\n",
    "\n",
    "## Creating an empty set\n",
    "empty_set=set()\n",
    "empty_list=[]\n",
    "print(empty_list)"
   ]
  },
  {
   "cell_type": "code",
   "execution_count": null,
   "id": "08c5dd11",
   "metadata": {},
   "outputs": [
    {
     "name": "stdout",
     "output_type": "stream",
     "text": [
      "{1, 2, 3, 4, 5, 9}\n"
     ]
    }
   ],
   "source": [
    "# Adding elements \n",
    "\n",
    "# empty_set.add(7)\n",
    "# empty_list.append(7)\n",
    "# print(empty_set)\n",
    "# print(empty_list)\n",
    "\n",
    "# Removing elements\n",
    "# unique_numbers.remove(3)    #   (remove use garda 3 hunai parxa natra error raise garchha )   \n",
    "# print(unique_numbers)\n",
    "\n",
    "# unique_numbers.discard(10) #Does not raise error\n",
    "# print (unique_numbers)"
   ]
  },
  {
   "cell_type": "markdown",
   "id": "9a4bcbc2",
   "metadata": {},
   "source": [
    "### Dictionaries\n",
    "Dictionaries are mutable collection of key-value pairs\n",
    "\n",
    "-key:value\n",
    "-name:raju\n",
    "-age:25"
   ]
  },
  {
   "cell_type": "code",
   "execution_count": 46,
   "id": "4e895985",
   "metadata": {},
   "outputs": [],
   "source": [
    "# Creating a dictionary \n",
    "\n",
    "\n",
    "\n",
    "\n",
    "\n",
    "person={\"name\":\"Alice\",\"age\":25,\"city\":\"Kathmandu\",\"Religion\":\"Hindu\"}\n",
    "# print(person)\n",
    "\n",
    "# #Acessing values\n",
    "# print(person[\"Religion\"])          # Yo method le vaako key maatra khojchha natra error dinchha\n",
    "# print(person.get(\"Level\"))  # get le if key chhaina vane none vanera print gardinchha\n",
    "\n",
    "# #Adding and updating \n",
    "# person [\"country\"]=\"Nepal\"\n",
    "# person[\"age\"]=26\n",
    "# print(person)"
   ]
  },
  {
   "cell_type": "code",
   "execution_count": 33,
   "id": "e4c495a0",
   "metadata": {},
   "outputs": [],
   "source": [
    "# #Empty dictionary\n",
    "# person={}\n",
    "# print(person)\n",
    "# person[\"Name\"]=\"Praneez\"\n",
    "# print(person)\n",
    "\n"
   ]
  },
  {
   "cell_type": "code",
   "execution_count": null,
   "id": "29bfb56e",
   "metadata": {},
   "outputs": [
    {
     "name": "stdout",
     "output_type": "stream",
     "text": [
      "country:Nepal\n"
     ]
    }
   ],
   "source": [
    "# Keys\n",
    "# for key in person.keys():\n",
    "#     print(key)\n",
    "\n",
    "\n",
    "# ## Values\n",
    "# for value in person.values():\n",
    "#     print(value)\n",
    "\n",
    "## Key-value pairs\n",
    "\n",
    "# for key, value in person.items():\n",
    "#     print (f\"{key}:{value}\")\n",
    "\n",
    "\n",
    "#printing key with specific value\n",
    "# person={'name':'Alice','age':27,'city':'kathmandu','country':'Nepal'}\n",
    "# for key,value in person.items():\n",
    "#    if value==\"Nepal\":\n",
    "#     print(f\"{key}:{value}\")\n",
    "#     break\n",
    "\n"
   ]
  },
  {
   "cell_type": "code",
   "execution_count": null,
   "id": "a95ee4f3",
   "metadata": {},
   "outputs": [],
   "source": [
    "# Making list within dictionary\n",
    "# students=[\n",
    "#     {'name':'Alice','age':27,'city':'kathmandu','country':'Nepal'},\n",
    "#     {'name':'Bob','age':19,'city':'Tokyo','country':'Japan'},\n",
    "#     {'name':'Peter','age':23,'city':'Newyork','country':'USA'}\n",
    "#     ]\n"
   ]
  },
  {
   "cell_type": "code",
   "execution_count": null,
   "id": "4f5e3785",
   "metadata": {},
   "outputs": [
    {
     "name": "stdout",
     "output_type": "stream",
     "text": [
      "{'a': 1, 'b': 2, 'c': 3, 'e': 4}\n"
     ]
    }
   ],
   "source": [
    "# Removing items \n",
    "# person.pop(\"age\")\n",
    "# print(person)\n",
    "\n",
    "# #Clear dictionary\n",
    "# person.clear()\n",
    "# print(person)\n",
    "\n",
    "\n",
    "# Merging dictionaries\n",
    "# dict1={\"a\":1,\"b\":2}\n",
    "# dict2={\"c\":3,\"e\":4}\n",
    "# dict1.update(dict2)\n",
    "# print(dict1)\n",
    "\n"
   ]
  },
  {
   "cell_type": "code",
   "execution_count": null,
   "id": "135fbc44",
   "metadata": {},
   "outputs": [
    {
     "name": "stdout",
     "output_type": "stream",
     "text": [
      "[1, 2, 2, 3, 5, 5]\n",
      "{1, 2, 3, 5}\n",
      "6\n"
     ]
    }
   ],
   "source": [
    "##Converting list into set \n",
    "# nums=[1,2,2,3,5,5]                                                 #list\n",
    "# unique_numbers=set(nums)                                           #set\n",
    "# print(nums)\n",
    "# print(unique_numbers)\n",
    "\n",
    "# # ##To calculate length\n",
    "# print(len(nums))\n"
   ]
  },
  {
   "cell_type": "code",
   "execution_count": null,
   "id": "74252f27",
   "metadata": {},
   "outputs": [
    {
     "data": {
      "text/plain": [
       "[1, 3]"
      ]
     },
     "execution_count": 52,
     "metadata": {},
     "output_type": "execute_result"
    }
   ],
   "source": [
    "## Converting Tuples into list ( Kasto case ma use hunchha vane :jaba kunai datasets tuples ma chha and then tyes laai modify garnu paryo vane )\n",
    "# values=(1,3)\n",
    "# list(values)"
   ]
  },
  {
   "cell_type": "code",
   "execution_count": null,
   "id": "14e20048",
   "metadata": {},
   "outputs": [
    {
     "name": "stdout",
     "output_type": "stream",
     "text": [
      "          Name  Length (km)  Drainage Area (km²)\n",
      "0       Ganges         2525              1080000\n",
      "1  Brahmaputra         3848               651334\n",
      "2       Yamuna         1376               366223\n",
      "3     Godavari         1465               312812\n",
      "4      Narmada         1312               131200\n"
     ]
    }
   ],
   "source": [
    "# Use Of Dictionary in Hydrology\n",
    "import pandas as pd \n",
    "\n",
    "# #Define a dictionary contaning river details \n",
    "\n",
    "river_details = {\n",
    "    'Name': ['Ganges', 'Brahmaputra', 'Yamuna', 'Godavari', 'Narmada'],\n",
    "    'Length (km)': [2525, 3848, 1376, 1465, 1312],\n",
    "    'Drainage Area (km²)': [1080000, 651334, 366223, 312812, 131200]\n",
    "}\n",
    "\n",
    "# # Convert the dictionary into DataFrame \n",
    "river_df=pd.DataFrame(river_details)\n",
    "\n",
    "#Print the data frame \n",
    "# print(river_details)     #Printing the dictionary \n",
    "\n",
    "# print(river_df)          #Printing the dataframe"
   ]
  }
 ],
 "metadata": {
  "kernelspec": {
   "display_name": "mshpe",
   "language": "python",
   "name": "python3"
  },
  "language_info": {
   "codemirror_mode": {
    "name": "ipython",
    "version": 3
   },
   "file_extension": ".py",
   "mimetype": "text/x-python",
   "name": "python",
   "nbconvert_exporter": "python",
   "pygments_lexer": "ipython3",
   "version": "3.13.1"
  }
 },
 "nbformat": 4,
 "nbformat_minor": 5
}
