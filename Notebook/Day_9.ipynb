{
 "cells": [
  {
   "cell_type": "markdown",
   "id": "e1620ad4",
   "metadata": {},
   "source": [
    "### Part 10"
   ]
  },
  {
   "cell_type": "code",
   "execution_count": 2,
   "id": "c75eb4f1",
   "metadata": {},
   "outputs": [],
   "source": [
    "#Write a function to get all the hashtags from given para \n",
    "#Using simple for loop\n",
    "def get_hastags(para:str)->list:\n",
    "    \"\"\" Get all the hashtags fromgven paragraph\n",
    "    \"\"\"\n",
    "    words=para.split()\n",
    "    result=[]\n",
    "    # print(words)\n",
    "    for word in words:\n",
    "        if word.startswith(\"#\"):\n",
    "            result.append(word)\n",
    "            # print(result)\n",
    "\n",
    "    return result"
   ]
  },
  {
   "cell_type": "code",
   "execution_count": 3,
   "id": "dbc63219",
   "metadata": {},
   "outputs": [],
   "source": [
    "# Using list comprehension\n",
    "def get_hastags_listcompr(para:str)->list:\n",
    "    \"\"\" Functionto get all hashtags fromgiven paragraph using list comprehension\n",
    "    \"\"\"\n",
    "    words=para.split()\n",
    "\n",
    "    result=[word for word in words if word.startswith(\"#\")]\n",
    "    return result "
   ]
  },
  {
   "cell_type": "code",
   "execution_count": 4,
   "id": "fc777786",
   "metadata": {},
   "outputs": [
    {
     "name": "stdout",
     "output_type": "stream",
     "text": [
      "['#Nepal', '#twitter_trend']\n"
     ]
    }
   ],
   "source": [
    "# Using Regular expression\n",
    "import re\n",
    "test_para=\"This is the test paragraph to get hastags from #Nepal #twitter_trend \"\n",
    "result=re.findall(r\"#\\w+\",test_para)\n",
    "print (result)"
   ]
  },
  {
   "cell_type": "code",
   "execution_count": 5,
   "id": "4ab9dbaa",
   "metadata": {},
   "outputs": [
    {
     "data": {
      "text/plain": [
       "['#Nepal', '#twitter_trend']"
      ]
     },
     "execution_count": 5,
     "metadata": {},
     "output_type": "execute_result"
    }
   ],
   "source": [
    "# Testing the above function\n",
    "test_para=\"This is the test paragraph to get hastags from #Nepal #twitter_trend \"\n",
    "get_hastags_listcompr(test_para)"
   ]
  },
  {
   "cell_type": "code",
   "execution_count": 6,
   "id": "e8ba1b0e",
   "metadata": {},
   "outputs": [],
   "source": [
    "# Replacing the word with ***** beep lagaune in regex\n",
    "# \"shit\",\"mf\",\"oli\",\"prachanda\",\"deuba\"\n",
    "#args:paragraph:str,word:list,returns:str\n",
    "\n"
   ]
  },
  {
   "cell_type": "code",
   "execution_count": 7,
   "id": "a7362692",
   "metadata": {},
   "outputs": [],
   "source": [
    "#Python naming convention \n",
    "# snake_case(function,filename,variable),Pascalcase(class ko naming maa),CamelCase"
   ]
  },
  {
   "cell_type": "code",
   "execution_count": 36,
   "id": "d522bd21",
   "metadata": {},
   "outputs": [
    {
     "name": "stdout",
     "output_type": "stream",
     "text": [
      "True\n",
      "Name:ajay,Age:28,Grades:3,Passed:True\n"
     ]
    }
   ],
   "source": [
    "# Student class\n",
    "class Student:\n",
    "    def __init__(self,name:str,age:int,grade:float)->None:\n",
    "        self.name=name\n",
    "        self.age=age\n",
    "        self.grade=grade\n",
    "\n",
    "    def is_passed(self):\n",
    "        if self.grade>=3.0:\n",
    "          return True\n",
    "        return False\n",
    "      \n",
    "    def get_info(self):\n",
    "        return (f\"Name:{self.name},Age:{self.age},Grades:{self.grade},Passed:{self.is_passed()}\")\n",
    "    \n",
    "student1=Student(\"Ram\",23,3.5)\n",
    "student2=Student(\"ajay\",28,3)\n",
    "print(student2.is_passed())\n",
    "print(student2.get_info())\n",
    "\n"
   ]
  },
  {
   "cell_type": "markdown",
   "id": "3af39b80",
   "metadata": {},
   "source": [
    "Part 11\n",
    " -OOP RECAP"
   ]
  },
  {
   "cell_type": "markdown",
   "id": "12f8aea8",
   "metadata": {},
   "source": [
    "-attributes : variables or data \n",
    "-methods: functions , ke ke kaam garaaune tyo mention hunchha \n",
    "-attributes are of two types ( Instance attributes and class attributes)"
   ]
  },
  {
   "cell_type": "code",
   "execution_count": 9,
   "id": "d62ffa94",
   "metadata": {},
   "outputs": [],
   "source": [
    "# Class is blueprint or template \n",
    "#Example of defining the class\n",
    "\n",
    "class Car:\n",
    "    number_of_wheels=4                                  #Class attributes\n",
    "    \n",
    "    def __init__ (self,color:str,brand:str,year:int):   #Instance attributes\n",
    "        self.color=color\n",
    "        self.brand=brand\n",
    "        self.year=year\n",
    "\n",
    "    def display (self,new_color):                       # Self le k garxa taw init maa vaako variable laai line kaam garyo\n",
    "        new_color=\"green\"                    # instance attribute maatra vayo Display le maatra use garne vayo\n",
    "        print(f\"This is a {self.color} {self.brand} car.\")\n",
    "        print(f\"This Car has {self.number_of_wheels} Wheels\")\n",
    "\n",
    "    def is_old(self): \n",
    "        if self.year<2010:\n",
    "            return True \n",
    "        return False "
   ]
  },
  {
   "cell_type": "code",
   "execution_count": 39,
   "id": "8e341347",
   "metadata": {},
   "outputs": [
    {
     "name": "stdout",
     "output_type": "stream",
     "text": [
      "This is a red Tesla car.\n",
      "This Car has 4 Wheels\n"
     ]
    },
    {
     "data": {
      "text/plain": [
       "True"
      ]
     },
     "execution_count": 39,
     "metadata": {},
     "output_type": "execute_result"
    }
   ],
   "source": [
    "#Example of creating objects and using methods\n",
    "car_bhola_sir=Car(color=\"red\",brand=\"Tesla\",year=2022)\n",
    "car_mukesh_sir=Car(color=\"black\",brand=\"Toyota\",year=2009)\n",
    "car_bhola_sir.display(new_color=\"green\")\n",
    "car_mukesh_sir.is_old()"
   ]
  },
  {
   "cell_type": "code",
   "execution_count": 11,
   "id": "8bdbbda5",
   "metadata": {},
   "outputs": [
    {
     "data": {
      "text/plain": [
       "' \\nClass le ni k garchha reusable codes dinchha .\\nJati wota object chhaiyo tyati codes haamile lekhi rakhnu pardaina \\nClass and functionsle resusable blocks of code chaai dinchha \\n\\n'"
      ]
     },
     "execution_count": 11,
     "metadata": {},
     "output_type": "execute_result"
    }
   ],
   "source": [
    "car1.is_old()\n",
    "\n",
    "\"\"\" \n",
    "Class le ni k garchha reusable codes dinchha .\n",
    "Jati wota object chhaiyo tyati codes haamile lekhi rakhnu pardaina \n",
    "Class and functionsle resusable blocks of code chaai dinchha \n",
    "\n",
    "\"\"\""
   ]
  },
  {
   "cell_type": "markdown",
   "id": "9e4a1a0a",
   "metadata": {},
   "source": [
    "Part :-12 ( Revision of functions )"
   ]
  },
  {
   "cell_type": "code",
   "execution_count": 12,
   "id": "0cf6c437",
   "metadata": {},
   "outputs": [],
   "source": [
    "#functions to return sum of numbers from given list .\n",
    "\n",
    "def sum_numbers(numbers:list)->float:\n",
    "    \"\"\" Return the sum of number in the list.\n",
    "    \"\"\"\n",
    "    # return sum(numbers)\n",
    "    total=0\n",
    "    for num in numbers:\n",
    "        total+=num\n",
    "    return(total)     \n"
   ]
  },
  {
   "cell_type": "code",
   "execution_count": 13,
   "id": "57d85444",
   "metadata": {},
   "outputs": [
    {
     "data": {
      "text/plain": [
       "37"
      ]
     },
     "execution_count": 13,
     "metadata": {},
     "output_type": "execute_result"
    }
   ],
   "source": [
    "#Test of above programmes \n",
    "numbers=[1,2,3,4,5,6,7,9]\n",
    "result=sum_numbers(numbers)\n",
    "result"
   ]
  },
  {
   "cell_type": "code",
   "execution_count": 16,
   "id": "aa12ed49",
   "metadata": {},
   "outputs": [
    {
     "name": "stdout",
     "output_type": "stream",
     "text": [
      "65\n"
     ]
    }
   ],
   "source": [
    "# To check the ASCII value \n",
    "print(ord(\"A\"))"
   ]
  },
  {
   "cell_type": "code",
   "execution_count": 14,
   "id": "03a67c47",
   "metadata": {},
   "outputs": [],
   "source": [
    "# Longest word from the given list word "
   ]
  },
  {
   "cell_type": "markdown",
   "id": "76644686",
   "metadata": {},
   "source": [
    "Part (13)    OOPS IN Python "
   ]
  },
  {
   "cell_type": "markdown",
   "id": "6223bffe",
   "metadata": {},
   "source": [
    "##### Classes and Objects \n",
    "    - A class is the blueprint for creating objects . It defines the attributes(data) and methods (functions) that the objects will have .\n",
    "   \n",
    "    -An object is an instance of a class .  It contains actual data and can perform actions defined by the class "
   ]
  },
  {
   "cell_type": "code",
   "execution_count": 41,
   "id": "f9039a68",
   "metadata": {},
   "outputs": [
    {
     "name": "stdout",
     "output_type": "stream",
     "text": [
      "Buddy\n",
      "Max says woof !\n",
      "German Shepherd\n"
     ]
    }
   ],
   "source": [
    "class Dog:\n",
    "    #Class attributes(shared by all instances )\n",
    "    species=\"German Shepherd\"\n",
    "\n",
    "    #Constructor (initializer) method \n",
    "    def __init__(self,name,age):\n",
    "        #Instance attributes (unique to each instance)\n",
    "        self.name=name\n",
    "        self.age=age\n",
    "\n",
    "\n",
    "    #Instance method \n",
    "    def bark (self):\n",
    "        return f\"{self.name} says woof !\"\n",
    "    \n",
    "#Create objects (Instances of the class )\n",
    "dog1=Dog(\"Buddy\",3)\n",
    "dog2=Dog(\"Max\",5)\n",
    "\n",
    "#Access attributes and methods \n",
    "print(dog1.name) #Output:Buddy        , attributes call garda braces lagaaunu pardaina , methods call garda braces lagaaunu parchha \n",
    "print(dog2.bark())  #Output:Max says woof!\n",
    "print(dog2.species)  # Output: German Shepherd\n",
    "\n",
    "\n",
    "    "
   ]
  },
  {
   "cell_type": "code",
   "execution_count": null,
   "id": "0e3354e6",
   "metadata": {},
   "outputs": [],
   "source": [
    "# Above code but check weather the dog is old or young\n",
    "# Tyesko laagi k garne vane 1uta method banune \n",
    "\"\"\" \n",
    "def is_old(self):\n",
    "    if self.age>=3:\n",
    "        return True\n",
    "    return False \n",
    "\n",
    "\"\"\"\n"
   ]
  },
  {
   "cell_type": "code",
   "execution_count": 43,
   "id": "9a7cde4f",
   "metadata": {},
   "outputs": [],
   "source": [
    "# Complete Code of class Dog \n",
    "\n",
    "class Dog:\n",
    "    # Class attribute (shared by all instances)\n",
    "    species=\"German shepherd\"\n",
    "\n",
    "    #Constructor (initializer) method\n",
    "    def __init__(self,name:str,age:int)->None:\n",
    "        # Instance attributes (unique to each instance)\n",
    "        self.name=name\n",
    "        self.age=age\n",
    "        if age<0:\n",
    "            raise ValueError (\"Age must be a positive integer\" )\n",
    "    \n",
    "    #Instance Method\n",
    "    def info(self):\n",
    "        return f\"Name:{self.name},Age:{self.age}\"\n",
    "    \n",
    "    #Instance method\n",
    "    def bark (self):\n",
    "        return f\"{self.name} says woof!\"\n",
    "    \n",
    "    def is_old(self):\n",
    "        if self.age>=3:\n",
    "            return True \n",
    "        return False "
   ]
  },
  {
   "cell_type": "code",
   "execution_count": 46,
   "id": "9a885aa8",
   "metadata": {},
   "outputs": [
    {
     "name": "stdout",
     "output_type": "stream",
     "text": [
      "Buddy\n",
      "Name:Buddy,Age:6\n",
      "Max says woof!\n",
      "Puppy says woof!\n",
      "German shepherd\n"
     ]
    }
   ],
   "source": [
    "# Create objects (instances of the class)\n",
    "\n",
    "dog1=Dog(\"Buddy\",6)\n",
    "dog2=Dog(\"Max\",7)\n",
    "dog3=Dog(\"Puppy\",2)\n",
    "\n",
    "# Access attributes and methods \n",
    "print(dog1.name)  #Output : Buddy \n",
    "print(dog1.info())     # Output :info\n",
    "print(dog2.bark())     # Output : Max says woof \n",
    "print(dog3.bark())\n",
    "print(dog1.species)"
   ]
  },
  {
   "cell_type": "code",
   "execution_count": 49,
   "id": "cd6f0ac8",
   "metadata": {},
   "outputs": [
    {
     "name": "stdout",
     "output_type": "stream",
     "text": [
      "Name:Big Puppy,Age:4\n",
      "Big Puppy says woof!\n"
     ]
    }
   ],
   "source": [
    "# Dog ko age negative diyera error handling lagaaunus \n",
    "try:\n",
    "    dog4=Dog(\"Big Puppy\",4)\n",
    "    print(dog4.info())\n",
    "    print(dog4.bark())\n",
    "\n",
    "except ValueError as ve :\n",
    "    print(ve)\n",
    "\n",
    "except Exception as e:\n",
    "    print(e)\n"
   ]
  },
  {
   "cell_type": "markdown",
   "id": "e7277b5d",
   "metadata": {},
   "source": [
    "#### Example of class in hydrology"
   ]
  },
  {
   "cell_type": "code",
   "execution_count": 28,
   "id": "68aaf2d4",
   "metadata": {},
   "outputs": [],
   "source": [
    "# Modelling Reservoir system to simulate inflow,outflow,storage and evaporation \n",
    "\n",
    "class Reservoir:\n",
    "    def __init__(self, name: str, capacity: float, initial_storage: float):\n",
    "        \"\"\"\n",
    "        Initialize reservoir object\n",
    "        :param name: Reservoir name\n",
    "        :param capacity: Max capacity (Mm3)\n",
    "        :param initial_storage: Initial water storage (Mm3)\n",
    "        \"\"\"\n",
    "        self.name = name\n",
    "        self.capacity = capacity\n",
    "        self.storage = initial_storage\n",
    "\n",
    "    def add_inflow(self, inflow: float):\n",
    "        \"\"\"\n",
    "        Add inflow water (Mm3)\n",
    "        \"\"\"\n",
    "        self.storage += inflow\n",
    "        if self.storage > self.capacity:\n",
    "            overflow = self.storage - self.capacity\n",
    "            self.storage = self.capacity\n",
    "            print(f\"Overflow of {overflow:.2f} Mm3 occurred in {self.name}!\")\n",
    "        else:\n",
    "            print(f\"Inflow of {inflow:.2f} Mm3 added. Current storage: {self.storage:.2f} Mm3\")\n",
    "\n",
    "    def release_outflow(self, outflow: float):\n",
    "        \"\"\"\n",
    "        Release outflow water (Mm3)\n",
    "        \"\"\"\n",
    "        if outflow > self.storage:\n",
    "            print(f\" Not enough water! Only {self.storage:.2f} Mm3 released.\")\n",
    "            self.storage = 0\n",
    "        else:\n",
    "            self.storage -= outflow\n",
    "            print(f\"Released {outflow:.2f} Mm3. Remaining storage: {self.storage:.2f} Mm3\")\n",
    "\n",
    "    def evaporation_loss(self, loss: float):\n",
    "        \"\"\"\n",
    "        Apply evaporation loss (Mm3)\n",
    "        \"\"\"\n",
    "        self.storage -= loss\n",
    "        if self.storage < 0:\n",
    "            self.storage = 0\n",
    "        print(f\"Evaporation loss {loss:.2f} Mm3. Storage: {self.storage:.2f} Mm3\")\n",
    "\n",
    "    def check_status(self):\n",
    "        \"\"\"\n",
    "        Check current reservoir status\n",
    "        \"\"\"\n",
    "        print(f\"   Reservoir: {self.name}\")\n",
    "        print(f\"   Capacity: {self.capacity} Mm3\")\n",
    "        print(f\"   Current Storage: {self.storage:.2f} Mm3\")\n",
    "        print(f\"   Remaining Space: {self.capacity - self.storage:.2f} Mm3\\n\")\n",
    "\n",
    "\n",
    "\n",
    "   "
   ]
  },
  {
   "cell_type": "code",
   "execution_count": 51,
   "id": "037ee200",
   "metadata": {},
   "outputs": [
    {
     "name": "stdout",
     "output_type": "stream",
     "text": [
      "   Reservoir: Koshi Barrage\n",
      "   Capacity: 8500 Mm3\n",
      "   Current Storage: 4000.00 Mm3\n",
      "   Remaining Space: 4500.00 Mm3\n",
      "\n",
      "Inflow of 3000.00 Mm3 added. Current storage: 7000.00 Mm3\n",
      "Released 2500.00 Mm3. Remaining storage: 4500.00 Mm3\n",
      "Evaporation loss 200.00 Mm3. Storage: 4300.00 Mm3\n",
      "   Reservoir: Koshi Barrage\n",
      "   Capacity: 8500 Mm3\n",
      "   Current Storage: 4300.00 Mm3\n",
      "   Remaining Space: 4200.00 Mm3\n",
      "\n"
     ]
    }
   ],
   "source": [
    "#Testing\n",
    " # Create reservoir instance\n",
    "koshi = Reservoir(\"Koshi Barrage\", 8500, 4000)\n",
    "\n",
    "koshi.check_status()\n",
    "koshi.add_inflow(3000)      # Add inflow\n",
    "koshi.release_outflow(2500) # Release water\n",
    "koshi.evaporation_loss(200) # Evaporation\n",
    "koshi.check_status()\n"
   ]
  },
  {
   "cell_type": "code",
   "execution_count": 3,
   "id": "3a36cb34",
   "metadata": {},
   "outputs": [],
   "source": [
    "# Hydropower OOPS Examples\n",
    "\n",
    "class HydropowerPlant:\n",
    "    def __init__(self, name: str, capacity_mw: float, head_m: float, efficiency: float):\n",
    "        \"\"\"\n",
    "        Initialize hydropower plant\n",
    "        :param name: Plant name\n",
    "        :param capacity_mw: Maximum plant capacity in MW\n",
    "        :param head_m: Net head (m)\n",
    "        :param efficiency: Efficiency of turbine-generator (0–1)\n",
    "        \"\"\"\n",
    "        self.name = name\n",
    "        self.capacity_mw = capacity_mw\n",
    "        self.head_m = head_m\n",
    "        self.efficiency = efficiency\n",
    "        self.g = 9.81  # gravity constant (m/s²)\n",
    "        self.rho = 1000  # water density (kg/m³)\n",
    "\n",
    "    def calculate_power(self, discharge_m3s: float) -> float:\n",
    "        \"\"\"\n",
    "        Calculate hydropower output using: P = η * ρ * g * Q * H\n",
    "        :param discharge_m3s: Discharge (m³/s)\n",
    "        :return: Power generated in MW\n",
    "        \"\"\"\n",
    "        power_watt = self.efficiency * self.rho * self.g * discharge_m3s * self.head_m\n",
    "        power_mw = power_watt / 1e6  # Convert W to MW\n",
    "        # Cap at installed capacity\n",
    "        return min(power_mw, self.capacity_mw)\n",
    "\n",
    "    def report(self, discharge_m3s: float):\n",
    "        \"\"\"\n",
    "        Report plant operation status\n",
    "        \"\"\"\n",
    "        power = self.calculate_power(discharge_m3s)\n",
    "        print(f\"🔌 Hydropower Plant: {self.name}\")\n",
    "        print(f\"   Installed Capacity: {self.capacity_mw} MW\")\n",
    "        print(f\"   Net Head: {self.head_m} m | Efficiency: {self.efficiency*100:.1f}%\")\n",
    "        print(f\"   Discharge: {discharge_m3s} m³/s\")\n",
    "        print(f\"   Power Generated: {power:.2f} MW\\n\")\n",
    "\n",
    "\n",
    "\n",
    "\n"
   ]
  },
  {
   "cell_type": "code",
   "execution_count": 6,
   "id": "5469bb56",
   "metadata": {},
   "outputs": [
    {
     "name": "stdout",
     "output_type": "stream",
     "text": [
      "🔌 Hydropower Plant: Kulekhani HPP\n",
      "   Installed Capacity: 92 MW\n",
      "   Net Head: 550 m | Efficiency: 85.0%\n",
      "   Discharge: 10 m³/s\n",
      "   Power Generated: 45.86 MW\n",
      "\n",
      "🔌 Hydropower Plant: Kulekhani HPP\n",
      "   Installed Capacity: 92 MW\n",
      "   Net Head: 550 m | Efficiency: 85.0%\n",
      "   Discharge: 200 m³/s\n",
      "   Power Generated: 92.00 MW\n",
      "\n",
      "🔌 Hydropower Plant: Kulekhani HPP\n",
      "   Installed Capacity: 92 MW\n",
      "   Net Head: 550 m | Efficiency: 85.0%\n",
      "   Discharge: 600 m³/s\n",
      "   Power Generated: 92.00 MW\n",
      "\n",
      "🔌 Hydropower Plant: Arun\n",
      "   Installed Capacity: 144 MW\n",
      "   Net Head: 210 m | Efficiency: 90.0%\n",
      "   Discharge: 10 m³/s\n",
      "   Power Generated: 18.54 MW\n",
      "\n",
      "🔌 Hydropower Plant: Arun\n",
      "   Installed Capacity: 144 MW\n",
      "   Net Head: 210 m | Efficiency: 90.0%\n",
      "   Discharge: 200 m³/s\n",
      "   Power Generated: 144.00 MW\n",
      "\n",
      "🔌 Hydropower Plant: Arun\n",
      "   Installed Capacity: 144 MW\n",
      "   Net Head: 210 m | Efficiency: 90.0%\n",
      "   Discharge: 600 m³/s\n",
      "   Power Generated: 144.00 MW\n",
      "\n"
     ]
    }
   ],
   "source": [
    "\n",
    "# Create hydropower plant instance\n",
    "kulekhani = HydropowerPlant(\"Kulekhani HPP\", capacity_mw=92, head_m=550, efficiency=0.85)\n",
    "Arun=HydropowerPlant(\"Arun\",capacity_mw=144,head_m=210,efficiency=0.90)\n",
    "\n",
    "# Check for different discharges\n",
    "kulekhani.report(10)   # Low flow\n",
    "kulekhani.report(200)  # Medium flow\n",
    "kulekhani.report(600)  # High flow, may exceed capacity\n",
    "\n",
    "\n",
    "\n",
    "Arun.report(10)   # Low flow\n",
    "Arun.report(200)  # Medium flow\n",
    "Arun.report(600)  # High flow, may exceed capacity"
   ]
  }
 ],
 "metadata": {
  "kernelspec": {
   "display_name": "mshpe",
   "language": "python",
   "name": "python3"
  },
  "language_info": {
   "codemirror_mode": {
    "name": "ipython",
    "version": 3
   },
   "file_extension": ".py",
   "mimetype": "text/x-python",
   "name": "python",
   "nbconvert_exporter": "python",
   "pygments_lexer": "ipython3",
   "version": "3.13.1"
  }
 },
 "nbformat": 4,
 "nbformat_minor": 5
}
