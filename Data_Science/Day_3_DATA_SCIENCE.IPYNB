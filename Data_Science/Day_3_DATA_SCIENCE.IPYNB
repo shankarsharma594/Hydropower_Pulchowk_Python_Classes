{
 "cells": [
  {
   "cell_type": "markdown",
   "id": "21d64c57",
   "metadata": {},
   "source": [
    "## Part 18\n",
    "    -Pandas Continue"
   ]
  },
  {
   "cell_type": "code",
   "execution_count": 1,
   "id": "ba0481bd",
   "metadata": {},
   "outputs": [
    {
     "data": {
      "text/html": [
       "<div>\n",
       "<style scoped>\n",
       "    .dataframe tbody tr th:only-of-type {\n",
       "        vertical-align: middle;\n",
       "    }\n",
       "\n",
       "    .dataframe tbody tr th {\n",
       "        vertical-align: top;\n",
       "    }\n",
       "\n",
       "    .dataframe thead th {\n",
       "        text-align: right;\n",
       "    }\n",
       "</style>\n",
       "<table border=\"1\" class=\"dataframe\">\n",
       "  <thead>\n",
       "    <tr style=\"text-align: right;\">\n",
       "      <th></th>\n",
       "      <th>Age</th>\n",
       "      <th>Gender</th>\n",
       "      <th>Education Level</th>\n",
       "      <th>Job Title</th>\n",
       "      <th>Years of Experience</th>\n",
       "      <th>Salary</th>\n",
       "    </tr>\n",
       "  </thead>\n",
       "  <tbody>\n",
       "    <tr>\n",
       "      <th>0</th>\n",
       "      <td>32.0</td>\n",
       "      <td>Male</td>\n",
       "      <td>Bachelor's</td>\n",
       "      <td>Software Engineer</td>\n",
       "      <td>5.0</td>\n",
       "      <td>90000.0</td>\n",
       "    </tr>\n",
       "    <tr>\n",
       "      <th>1</th>\n",
       "      <td>28.0</td>\n",
       "      <td>Female</td>\n",
       "      <td>Master's</td>\n",
       "      <td>Data Analyst</td>\n",
       "      <td>3.0</td>\n",
       "      <td>65000.0</td>\n",
       "    </tr>\n",
       "    <tr>\n",
       "      <th>2</th>\n",
       "      <td>45.0</td>\n",
       "      <td>Male</td>\n",
       "      <td>PhD</td>\n",
       "      <td>Senior Manager</td>\n",
       "      <td>15.0</td>\n",
       "      <td>150000.0</td>\n",
       "    </tr>\n",
       "    <tr>\n",
       "      <th>3</th>\n",
       "      <td>36.0</td>\n",
       "      <td>Female</td>\n",
       "      <td>Bachelor's</td>\n",
       "      <td>Sales Associate</td>\n",
       "      <td>7.0</td>\n",
       "      <td>60000.0</td>\n",
       "    </tr>\n",
       "    <tr>\n",
       "      <th>4</th>\n",
       "      <td>52.0</td>\n",
       "      <td>Male</td>\n",
       "      <td>Master's</td>\n",
       "      <td>Director</td>\n",
       "      <td>20.0</td>\n",
       "      <td>200000.0</td>\n",
       "    </tr>\n",
       "    <tr>\n",
       "      <th>5</th>\n",
       "      <td>29.0</td>\n",
       "      <td>Male</td>\n",
       "      <td>Bachelor's</td>\n",
       "      <td>Marketing Analyst</td>\n",
       "      <td>2.0</td>\n",
       "      <td>55000.0</td>\n",
       "    </tr>\n",
       "    <tr>\n",
       "      <th>6</th>\n",
       "      <td>42.0</td>\n",
       "      <td>Female</td>\n",
       "      <td>Master's</td>\n",
       "      <td>Product Manager</td>\n",
       "      <td>12.0</td>\n",
       "      <td>120000.0</td>\n",
       "    </tr>\n",
       "    <tr>\n",
       "      <th>7</th>\n",
       "      <td>31.0</td>\n",
       "      <td>Male</td>\n",
       "      <td>Bachelor's</td>\n",
       "      <td>Sales Manager</td>\n",
       "      <td>4.0</td>\n",
       "      <td>80000.0</td>\n",
       "    </tr>\n",
       "    <tr>\n",
       "      <th>8</th>\n",
       "      <td>26.0</td>\n",
       "      <td>Female</td>\n",
       "      <td>Bachelor's</td>\n",
       "      <td>Marketing Coordinator</td>\n",
       "      <td>1.0</td>\n",
       "      <td>45000.0</td>\n",
       "    </tr>\n",
       "    <tr>\n",
       "      <th>9</th>\n",
       "      <td>38.0</td>\n",
       "      <td>Male</td>\n",
       "      <td>PhD</td>\n",
       "      <td>Senior Scientist</td>\n",
       "      <td>10.0</td>\n",
       "      <td>110000.0</td>\n",
       "    </tr>\n",
       "    <tr>\n",
       "      <th>10</th>\n",
       "      <td>29.0</td>\n",
       "      <td>Male</td>\n",
       "      <td>Master's</td>\n",
       "      <td>Software Developer</td>\n",
       "      <td>3.0</td>\n",
       "      <td>75000.0</td>\n",
       "    </tr>\n",
       "    <tr>\n",
       "      <th>11</th>\n",
       "      <td>48.0</td>\n",
       "      <td>Female</td>\n",
       "      <td>Bachelor's</td>\n",
       "      <td>HR Manager</td>\n",
       "      <td>18.0</td>\n",
       "      <td>140000.0</td>\n",
       "    </tr>\n",
       "    <tr>\n",
       "      <th>12</th>\n",
       "      <td>35.0</td>\n",
       "      <td>Male</td>\n",
       "      <td>Bachelor's</td>\n",
       "      <td>Financial Analyst</td>\n",
       "      <td>6.0</td>\n",
       "      <td>65000.0</td>\n",
       "    </tr>\n",
       "    <tr>\n",
       "      <th>13</th>\n",
       "      <td>40.0</td>\n",
       "      <td>Female</td>\n",
       "      <td>Master's</td>\n",
       "      <td>Project Manager</td>\n",
       "      <td>14.0</td>\n",
       "      <td>130000.0</td>\n",
       "    </tr>\n",
       "    <tr>\n",
       "      <th>14</th>\n",
       "      <td>27.0</td>\n",
       "      <td>Male</td>\n",
       "      <td>Bachelor's</td>\n",
       "      <td>Customer Service Rep</td>\n",
       "      <td>2.0</td>\n",
       "      <td>40000.0</td>\n",
       "    </tr>\n",
       "  </tbody>\n",
       "</table>\n",
       "</div>"
      ],
      "text/plain": [
       "     Age  Gender Education Level              Job Title  Years of Experience  \\\n",
       "0   32.0    Male      Bachelor's      Software Engineer                  5.0   \n",
       "1   28.0  Female        Master's           Data Analyst                  3.0   \n",
       "2   45.0    Male             PhD         Senior Manager                 15.0   \n",
       "3   36.0  Female      Bachelor's        Sales Associate                  7.0   \n",
       "4   52.0    Male        Master's               Director                 20.0   \n",
       "5   29.0    Male      Bachelor's      Marketing Analyst                  2.0   \n",
       "6   42.0  Female        Master's        Product Manager                 12.0   \n",
       "7   31.0    Male      Bachelor's          Sales Manager                  4.0   \n",
       "8   26.0  Female      Bachelor's  Marketing Coordinator                  1.0   \n",
       "9   38.0    Male             PhD       Senior Scientist                 10.0   \n",
       "10  29.0    Male        Master's     Software Developer                  3.0   \n",
       "11  48.0  Female      Bachelor's             HR Manager                 18.0   \n",
       "12  35.0    Male      Bachelor's      Financial Analyst                  6.0   \n",
       "13  40.0  Female        Master's        Project Manager                 14.0   \n",
       "14  27.0    Male      Bachelor's   Customer Service Rep                  2.0   \n",
       "\n",
       "      Salary  \n",
       "0    90000.0  \n",
       "1    65000.0  \n",
       "2   150000.0  \n",
       "3    60000.0  \n",
       "4   200000.0  \n",
       "5    55000.0  \n",
       "6   120000.0  \n",
       "7    80000.0  \n",
       "8    45000.0  \n",
       "9   110000.0  \n",
       "10   75000.0  \n",
       "11  140000.0  \n",
       "12   65000.0  \n",
       "13  130000.0  \n",
       "14   40000.0  "
      ]
     },
     "execution_count": 1,
     "metadata": {},
     "output_type": "execute_result"
    }
   ],
   "source": [
    "import pandas as pd \n",
    "\n",
    "salary_df=pd.read_csv('../datasets/salary_data.csv')\n",
    "salary_df.head(15)"
   ]
  },
  {
   "cell_type": "code",
   "execution_count": 2,
   "id": "9d2c4c6b",
   "metadata": {},
   "outputs": [
    {
     "data": {
      "text/html": [
       "<div>\n",
       "<style scoped>\n",
       "    .dataframe tbody tr th:only-of-type {\n",
       "        vertical-align: middle;\n",
       "    }\n",
       "\n",
       "    .dataframe tbody tr th {\n",
       "        vertical-align: top;\n",
       "    }\n",
       "\n",
       "    .dataframe thead th {\n",
       "        text-align: right;\n",
       "    }\n",
       "</style>\n",
       "<table border=\"1\" class=\"dataframe\">\n",
       "  <thead>\n",
       "    <tr style=\"text-align: right;\">\n",
       "      <th></th>\n",
       "      <th>Age</th>\n",
       "      <th>Education Level</th>\n",
       "      <th>Job Title</th>\n",
       "      <th>Years of Experience</th>\n",
       "      <th>Salary</th>\n",
       "    </tr>\n",
       "  </thead>\n",
       "  <tbody>\n",
       "    <tr>\n",
       "      <th>0</th>\n",
       "      <td>32.0</td>\n",
       "      <td>Bachelor's</td>\n",
       "      <td>Software Engineer</td>\n",
       "      <td>5.0</td>\n",
       "      <td>90000.0</td>\n",
       "    </tr>\n",
       "    <tr>\n",
       "      <th>1</th>\n",
       "      <td>28.0</td>\n",
       "      <td>Master's</td>\n",
       "      <td>Data Analyst</td>\n",
       "      <td>3.0</td>\n",
       "      <td>65000.0</td>\n",
       "    </tr>\n",
       "  </tbody>\n",
       "</table>\n",
       "</div>"
      ],
      "text/plain": [
       "    Age Education Level          Job Title  Years of Experience   Salary\n",
       "0  32.0      Bachelor's  Software Engineer                  5.0  90000.0\n",
       "1  28.0        Master's       Data Analyst                  3.0  65000.0"
      ]
     },
     "execution_count": 2,
     "metadata": {},
     "output_type": "execute_result"
    }
   ],
   "source": [
    "#Dataframe baata kunai particular column remove garnu paryo\n",
    "salary_df_gender_removed=salary_df.drop(columns=['Gender'])\n",
    "# salary_df.drop(columns=['Gender'],inplace=True)       Yo chaai puraanai dataframe ma change aauchha\n",
    "salary_df_gender_removed.head(2)"
   ]
  },
  {
   "cell_type": "code",
   "execution_count": 3,
   "id": "6345edf0",
   "metadata": {},
   "outputs": [
    {
     "data": {
      "text/plain": [
       "Age                    2\n",
       "Gender                 2\n",
       "Education Level        3\n",
       "Job Title              2\n",
       "Years of Experience    3\n",
       "Salary                 5\n",
       "dtype: int64"
      ]
     },
     "execution_count": 3,
     "metadata": {},
     "output_type": "execute_result"
    }
   ],
   "source": [
    "#To get the null value in the given dataframe\n",
    "salary_df.isnull().sum()"
   ]
  },
  {
   "cell_type": "code",
   "execution_count": 4,
   "id": "8e240f34",
   "metadata": {},
   "outputs": [],
   "source": [
    "# Null value hataaunu parnechha vane k garne ?\n",
    "# salary_df.dropna(inplace=True)"
   ]
  },
  {
   "cell_type": "code",
   "execution_count": 5,
   "id": "944363de",
   "metadata": {},
   "outputs": [
    {
     "data": {
      "text/plain": [
       "Age                    2\n",
       "Gender                 2\n",
       "Education Level        3\n",
       "Job Title              2\n",
       "Years of Experience    3\n",
       "Salary                 5\n",
       "dtype: int64"
      ]
     },
     "execution_count": 5,
     "metadata": {},
     "output_type": "execute_result"
    }
   ],
   "source": [
    "# aba fari check garne kata gayo vanera \n",
    "salary_df.isnull().sum()"
   ]
  },
  {
   "cell_type": "code",
   "execution_count": 6,
   "id": "ad44354e",
   "metadata": {},
   "outputs": [
    {
     "data": {
      "text/plain": [
       "(6704, 6)"
      ]
     },
     "execution_count": 6,
     "metadata": {},
     "output_type": "execute_result"
    }
   ],
   "source": [
    "salary_df.shape"
   ]
  },
  {
   "cell_type": "code",
   "execution_count": 7,
   "id": "d805c23d",
   "metadata": {},
   "outputs": [],
   "source": [
    "# Null value laai required value le fill garne (Imputations)\n",
    "\n",
    "# salary_df[\"Age\"]=salary_df.fillna(salary_df[\"Age\"].median())\n",
    "# salary_df.isnull().sum()\n"
   ]
  },
  {
   "cell_type": "code",
   "execution_count": 8,
   "id": "d8093243",
   "metadata": {},
   "outputs": [
    {
     "data": {
      "text/plain": [
       "np.float64(115000.0)"
      ]
     },
     "execution_count": 8,
     "metadata": {},
     "output_type": "execute_result"
    }
   ],
   "source": [
    "# Median age chaai kati ho vanera check garnu paryo vane \n",
    "salary_df[\"Salary\"].median()"
   ]
  },
  {
   "cell_type": "code",
   "execution_count": 9,
   "id": "48e30427",
   "metadata": {},
   "outputs": [
    {
     "data": {
      "text/plain": [
       "0    Male\n",
       "Name: Gender, dtype: object"
      ]
     },
     "execution_count": 9,
     "metadata": {},
     "output_type": "execute_result"
    }
   ],
   "source": [
    "#Similary categorical data maa mode check garnu paryo vane \n",
    "salary_df[\"Gender\"].mode()"
   ]
  },
  {
   "cell_type": "code",
   "execution_count": 10,
   "id": "a90c9d82",
   "metadata": {},
   "outputs": [
    {
     "data": {
      "text/plain": [
       "Gender\n",
       "Male      3674\n",
       "Female    3014\n",
       "Other       14\n",
       "Name: count, dtype: int64"
      ]
     },
     "execution_count": 10,
     "metadata": {},
     "output_type": "execute_result"
    }
   ],
   "source": [
    "# Different gender kati kati wota chhan check garnu paryo vane \n",
    "\n",
    "salary_df[\"Gender\"].value_counts()"
   ]
  },
  {
   "cell_type": "code",
   "execution_count": 11,
   "id": "24b9c268",
   "metadata": {},
   "outputs": [
    {
     "data": {
      "text/html": [
       "<div>\n",
       "<style scoped>\n",
       "    .dataframe tbody tr th:only-of-type {\n",
       "        vertical-align: middle;\n",
       "    }\n",
       "\n",
       "    .dataframe tbody tr th {\n",
       "        vertical-align: top;\n",
       "    }\n",
       "\n",
       "    .dataframe thead th {\n",
       "        text-align: right;\n",
       "    }\n",
       "</style>\n",
       "<table border=\"1\" class=\"dataframe\">\n",
       "  <thead>\n",
       "    <tr style=\"text-align: right;\">\n",
       "      <th></th>\n",
       "      <th>Age</th>\n",
       "      <th>Gender</th>\n",
       "      <th>Education Level</th>\n",
       "      <th>Job Title</th>\n",
       "      <th>Years of Experience</th>\n",
       "      <th>Salary</th>\n",
       "    </tr>\n",
       "  </thead>\n",
       "  <tbody>\n",
       "    <tr>\n",
       "      <th>4</th>\n",
       "      <td>52.0</td>\n",
       "      <td>Male</td>\n",
       "      <td>Master's</td>\n",
       "      <td>Director</td>\n",
       "      <td>20.0</td>\n",
       "      <td>200000.0</td>\n",
       "    </tr>\n",
       "    <tr>\n",
       "      <th>30</th>\n",
       "      <td>50.0</td>\n",
       "      <td>Male</td>\n",
       "      <td>Bachelor's</td>\n",
       "      <td>CEO</td>\n",
       "      <td>25.0</td>\n",
       "      <td>250000.0</td>\n",
       "    </tr>\n",
       "    <tr>\n",
       "      <th>53</th>\n",
       "      <td>47.0</td>\n",
       "      <td>Male</td>\n",
       "      <td>Master's</td>\n",
       "      <td>VP of Finance</td>\n",
       "      <td>19.0</td>\n",
       "      <td>200000.0</td>\n",
       "    </tr>\n",
       "    <tr>\n",
       "      <th>83</th>\n",
       "      <td>52.0</td>\n",
       "      <td>Male</td>\n",
       "      <td>PhD</td>\n",
       "      <td>Chief Technology Officer</td>\n",
       "      <td>24.0</td>\n",
       "      <td>250000.0</td>\n",
       "    </tr>\n",
       "    <tr>\n",
       "      <th>105</th>\n",
       "      <td>44.0</td>\n",
       "      <td>Male</td>\n",
       "      <td>PhD</td>\n",
       "      <td>Chief Data Officer</td>\n",
       "      <td>16.0</td>\n",
       "      <td>220000.0</td>\n",
       "    </tr>\n",
       "    <tr>\n",
       "      <th>1211</th>\n",
       "      <td>61.0</td>\n",
       "      <td>Male</td>\n",
       "      <td>PhD</td>\n",
       "      <td>Software Engineer Manager</td>\n",
       "      <td>20.0</td>\n",
       "      <td>200000.0</td>\n",
       "    </tr>\n",
       "    <tr>\n",
       "      <th>1225</th>\n",
       "      <td>62.0</td>\n",
       "      <td>Male</td>\n",
       "      <td>PhD</td>\n",
       "      <td>Software Engineer Manager</td>\n",
       "      <td>19.0</td>\n",
       "      <td>200000.0</td>\n",
       "    </tr>\n",
       "  </tbody>\n",
       "</table>\n",
       "</div>"
      ],
      "text/plain": [
       "       Age Gender Education Level                  Job Title  \\\n",
       "4     52.0   Male        Master's                   Director   \n",
       "30    50.0   Male      Bachelor's                        CEO   \n",
       "53    47.0   Male        Master's              VP of Finance   \n",
       "83    52.0   Male             PhD   Chief Technology Officer   \n",
       "105   44.0   Male             PhD         Chief Data Officer   \n",
       "1211  61.0   Male             PhD  Software Engineer Manager   \n",
       "1225  62.0   Male             PhD  Software Engineer Manager   \n",
       "\n",
       "      Years of Experience    Salary  \n",
       "4                    20.0  200000.0  \n",
       "30                   25.0  250000.0  \n",
       "53                   19.0  200000.0  \n",
       "83                   24.0  250000.0  \n",
       "105                  16.0  220000.0  \n",
       "1211                 20.0  200000.0  \n",
       "1225                 19.0  200000.0  "
      ]
     },
     "execution_count": 11,
     "metadata": {},
     "output_type": "execute_result"
    }
   ],
   "source": [
    "# Filter garera other gender vaako data matra hernu paryovane k garne \n",
    "# other_df=salary_df[salary_df[\"Gender\"].values==\"Other\"]\n",
    "# other_df.head(14)\n",
    "salary_filtered=salary_df[salary_df[\"Salary\"].values>=200000]\n",
    "salary_filtered.head(7)"
   ]
  },
  {
   "cell_type": "code",
   "execution_count": 12,
   "id": "b593c98f",
   "metadata": {},
   "outputs": [
    {
     "data": {
      "text/html": [
       "<div>\n",
       "<style scoped>\n",
       "    .dataframe tbody tr th:only-of-type {\n",
       "        vertical-align: middle;\n",
       "    }\n",
       "\n",
       "    .dataframe tbody tr th {\n",
       "        vertical-align: top;\n",
       "    }\n",
       "\n",
       "    .dataframe thead th {\n",
       "        text-align: right;\n",
       "    }\n",
       "</style>\n",
       "<table border=\"1\" class=\"dataframe\">\n",
       "  <thead>\n",
       "    <tr style=\"text-align: right;\">\n",
       "      <th></th>\n",
       "      <th>Age</th>\n",
       "      <th>Gender</th>\n",
       "      <th>Education Level</th>\n",
       "      <th>Job Title</th>\n",
       "      <th>Years of Experience</th>\n",
       "      <th>Salary</th>\n",
       "    </tr>\n",
       "  </thead>\n",
       "  <tbody>\n",
       "    <tr>\n",
       "      <th>172</th>\n",
       "      <td>NaN</td>\n",
       "      <td>NaN</td>\n",
       "      <td>NaN</td>\n",
       "      <td>NaN</td>\n",
       "      <td>NaN</td>\n",
       "      <td>NaN</td>\n",
       "    </tr>\n",
       "    <tr>\n",
       "      <th>260</th>\n",
       "      <td>NaN</td>\n",
       "      <td>NaN</td>\n",
       "      <td>NaN</td>\n",
       "      <td>NaN</td>\n",
       "      <td>NaN</td>\n",
       "      <td>NaN</td>\n",
       "    </tr>\n",
       "  </tbody>\n",
       "</table>\n",
       "</div>"
      ],
      "text/plain": [
       "     Age Gender Education Level Job Title  Years of Experience  Salary\n",
       "172  NaN    NaN             NaN       NaN                  NaN     NaN\n",
       "260  NaN    NaN             NaN       NaN                  NaN     NaN"
      ]
     },
     "execution_count": 12,
     "metadata": {},
     "output_type": "execute_result"
    }
   ],
   "source": [
    "# Get rows where \"Gender \" is missing \n",
    "gender_missing_rows=salary_df[salary_df[\"Gender\"].isnull()]\n",
    "gender_missing_rows"
   ]
  },
  {
   "cell_type": "markdown",
   "id": "b39bdab4",
   "metadata": {},
   "source": [
    "#### Data Cleaning"
   ]
  },
  {
   "cell_type": "code",
   "execution_count": 13,
   "id": "2b5f3b61",
   "metadata": {},
   "outputs": [],
   "source": [
    " \n",
    "# Jun jun data maa null value chha tyeslaai mean,median,mode le \n",
    "# replace garna sakinchha\n",
    "\n",
    "#missing numerical values are replaced with median value\n",
    "\n",
    "\n",
    "salary_df[\"Age\"]=salary_df[\"Age\"].fillna(salary_df[\"Age\"].median())\n",
    "salary_df[\"Salary\"]=salary_df[\"Salary\"].fillna(salary_df[\"Salary\"].median())\n",
    "salary_df[\"Years of Experience\"]=salary_df[\"Years of Experience\"].fillna(salary_df[\"Years of Experience\"].median())\n",
    "\n",
    "# missing categorical replaced with mode \n",
    "salary_df[\"Gender\"]=salary_df[\"Gender\"].fillna(salary_df[\"Gender\"].mode()[0])\n",
    "salary_df[\"Education Level\"]=salary_df[\"Education Level\"].fillna(salary_df[\"Education Level\"].mode()[0])\n",
    "salary_df[\"Job Title\"]=salary_df[\"Job Title\"].fillna(salary_df[\"Job Title\"].mode()[0])\n",
    "\n",
    "\n",
    "\n"
   ]
  },
  {
   "cell_type": "code",
   "execution_count": 14,
   "id": "b0577484",
   "metadata": {},
   "outputs": [
    {
     "data": {
      "text/plain": [
       "Age                    0\n",
       "Gender                 0\n",
       "Education Level        0\n",
       "Job Title              0\n",
       "Years of Experience    0\n",
       "Salary                 0\n",
       "dtype: int64"
      ]
     },
     "execution_count": 14,
     "metadata": {},
     "output_type": "execute_result"
    }
   ],
   "source": [
    "salary_df.isnull().sum()"
   ]
  },
  {
   "cell_type": "markdown",
   "id": "fde02235",
   "metadata": {},
   "source": [
    "##### Part 19"
   ]
  },
  {
   "cell_type": "code",
   "execution_count": 15,
   "id": "ac1c020f",
   "metadata": {},
   "outputs": [
    {
     "name": "stdout",
     "output_type": "stream",
     "text": [
      "4912\n",
      "(6704, 6)\n"
     ]
    }
   ],
   "source": [
    "# Check for duplicate data \n",
    "print(salary_df.duplicated().sum())\n",
    "print(salary_df.shape)\n",
    "\n",
    "\n",
    "# Real world ma yati dheraiduplicatedatako kaam chhaiana,,but aile laai chhordine"
   ]
  },
  {
   "cell_type": "markdown",
   "id": "fe185580",
   "metadata": {},
   "source": [
    "There are too many duplicate rows in the table , so not removingthem for now"
   ]
  },
  {
   "cell_type": "code",
   "execution_count": 16,
   "id": "611a7de1",
   "metadata": {},
   "outputs": [
    {
     "data": {
      "text/html": [
       "<div>\n",
       "<style scoped>\n",
       "    .dataframe tbody tr th:only-of-type {\n",
       "        vertical-align: middle;\n",
       "    }\n",
       "\n",
       "    .dataframe tbody tr th {\n",
       "        vertical-align: top;\n",
       "    }\n",
       "\n",
       "    .dataframe thead th {\n",
       "        text-align: right;\n",
       "    }\n",
       "</style>\n",
       "<table border=\"1\" class=\"dataframe\">\n",
       "  <thead>\n",
       "    <tr style=\"text-align: right;\">\n",
       "      <th></th>\n",
       "      <th>Age</th>\n",
       "      <th>Gender</th>\n",
       "      <th>Education Level</th>\n",
       "      <th>Job Title</th>\n",
       "      <th>Years of Experience</th>\n",
       "      <th>Salary</th>\n",
       "    </tr>\n",
       "  </thead>\n",
       "  <tbody>\n",
       "    <tr>\n",
       "      <th>195</th>\n",
       "      <td>28.0</td>\n",
       "      <td>Male</td>\n",
       "      <td>Bachelor's</td>\n",
       "      <td>Junior Business Analyst</td>\n",
       "      <td>2.0</td>\n",
       "      <td>40000.0</td>\n",
       "    </tr>\n",
       "    <tr>\n",
       "      <th>250</th>\n",
       "      <td>30.0</td>\n",
       "      <td>Female</td>\n",
       "      <td>Bachelor's</td>\n",
       "      <td>Junior Marketing Coordinator</td>\n",
       "      <td>2.0</td>\n",
       "      <td>40000.0</td>\n",
       "    </tr>\n",
       "    <tr>\n",
       "      <th>251</th>\n",
       "      <td>38.0</td>\n",
       "      <td>Male</td>\n",
       "      <td>Master's</td>\n",
       "      <td>Senior IT Consultant</td>\n",
       "      <td>9.0</td>\n",
       "      <td>110000.0</td>\n",
       "    </tr>\n",
       "    <tr>\n",
       "      <th>252</th>\n",
       "      <td>45.0</td>\n",
       "      <td>Female</td>\n",
       "      <td>PhD</td>\n",
       "      <td>Senior Product Designer</td>\n",
       "      <td>15.0</td>\n",
       "      <td>150000.0</td>\n",
       "    </tr>\n",
       "    <tr>\n",
       "      <th>253</th>\n",
       "      <td>28.0</td>\n",
       "      <td>Male</td>\n",
       "      <td>Bachelor's</td>\n",
       "      <td>Junior Business Development Associate</td>\n",
       "      <td>2.0</td>\n",
       "      <td>40000.0</td>\n",
       "    </tr>\n",
       "  </tbody>\n",
       "</table>\n",
       "</div>"
      ],
      "text/plain": [
       "      Age  Gender Education Level                              Job Title  \\\n",
       "195  28.0    Male      Bachelor's                Junior Business Analyst   \n",
       "250  30.0  Female      Bachelor's           Junior Marketing Coordinator   \n",
       "251  38.0    Male        Master's                   Senior IT Consultant   \n",
       "252  45.0  Female             PhD                Senior Product Designer   \n",
       "253  28.0    Male      Bachelor's  Junior Business Development Associate   \n",
       "\n",
       "     Years of Experience    Salary  \n",
       "195                  2.0   40000.0  \n",
       "250                  2.0   40000.0  \n",
       "251                  9.0  110000.0  \n",
       "252                 15.0  150000.0  \n",
       "253                  2.0   40000.0  "
      ]
     },
     "execution_count": 16,
     "metadata": {},
     "output_type": "execute_result"
    }
   ],
   "source": [
    "# # Print duplicate rows\n",
    "# # salary_df[salary_df.duplicated()]                 #Yesle duplicate value matra dekhauxa\n",
    "# salary_df[salary_df.duplicated(keep=False)]     # Yesle kun sanga duplicate chha ni dekhaauxa\n",
    "salary_df[salary_df.duplicated()] [:5]"
   ]
  },
  {
   "cell_type": "code",
   "execution_count": 17,
   "id": "9d585944",
   "metadata": {},
   "outputs": [
    {
     "data": {
      "text/plain": [
       "Salary\n",
       "140000.0    287\n",
       "120000.0    282\n",
       "160000.0    276\n",
       "55000.0     251\n",
       "170000.0    231\n",
       "           ... \n",
       "178284.0      1\n",
       "75969.0       1\n",
       "143705.0      1\n",
       "197354.0      1\n",
       "100358.0      1\n",
       "Name: count, Length: 444, dtype: int64"
      ]
     },
     "execution_count": 17,
     "metadata": {},
     "output_type": "execute_result"
    }
   ],
   "source": [
    "# Kunjob title ma kati jana chhan herna milxa\n",
    "salary_df[\"Salary\"].value_counts()\n",
    "# salary_df[\"Salary\"].value_counts()[:10]           # Top 10 value counts\n"
   ]
  },
  {
   "cell_type": "code",
   "execution_count": 18,
   "id": "509cb2c6",
   "metadata": {},
   "outputs": [
    {
     "data": {
      "text/plain": [
       "Education Level\n",
       "Bachelor's Degree    2270\n",
       "Master's Degree      1573\n",
       "PhD                  1368\n",
       "Bachelor's            756\n",
       "High School           448\n",
       "Master's              288\n",
       "phD                     1\n",
       "Name: count, dtype: int64"
      ]
     },
     "execution_count": 18,
     "metadata": {},
     "output_type": "execute_result"
    }
   ],
   "source": [
    "# Printing values for education level\n",
    "salary_df[\"Education Level\"].value_counts()"
   ]
  },
  {
   "cell_type": "code",
   "execution_count": 19,
   "id": "a1b89a17",
   "metadata": {},
   "outputs": [],
   "source": [
    "# Replacing one valuein the dataframe with other \n",
    "salary_df[\"Education Level\"]=salary_df[\"Education Level\"].replace({\"PhD\":\"PHD\"})"
   ]
  },
  {
   "cell_type": "code",
   "execution_count": 20,
   "id": "702f0978",
   "metadata": {},
   "outputs": [
    {
     "data": {
      "text/plain": [
       "Education Level\n",
       "Bachelor's Degree    2270\n",
       "Master's Degree      1573\n",
       "PHD                  1368\n",
       "Bachelor's            756\n",
       "High School           448\n",
       "Master's              288\n",
       "phD                     1\n",
       "Name: count, dtype: int64"
      ]
     },
     "execution_count": 20,
     "metadata": {},
     "output_type": "execute_result"
    }
   ],
   "source": [
    "# Checking the values again \n",
    "salary_df[\"Education Level\"].value_counts()\n"
   ]
  },
  {
   "cell_type": "code",
   "execution_count": 21,
   "id": "5753346e",
   "metadata": {},
   "outputs": [
    {
     "data": {
      "text/plain": [
       "Index(['Age', 'Gender', 'Education Level', 'Job Title', 'Years of Experience',\n",
       "       'Salary'],\n",
       "      dtype='object')"
      ]
     },
     "execution_count": 21,
     "metadata": {},
     "output_type": "execute_result"
    }
   ],
   "source": [
    "# Checking the number of columns \n",
    "salary_df.columns "
   ]
  },
  {
   "cell_type": "code",
   "execution_count": 22,
   "id": "1a3b8886",
   "metadata": {},
   "outputs": [
    {
     "data": {
      "text/html": [
       "<div>\n",
       "<style scoped>\n",
       "    .dataframe tbody tr th:only-of-type {\n",
       "        vertical-align: middle;\n",
       "    }\n",
       "\n",
       "    .dataframe tbody tr th {\n",
       "        vertical-align: top;\n",
       "    }\n",
       "\n",
       "    .dataframe thead th {\n",
       "        text-align: right;\n",
       "    }\n",
       "</style>\n",
       "<table border=\"1\" class=\"dataframe\">\n",
       "  <thead>\n",
       "    <tr style=\"text-align: right;\">\n",
       "      <th></th>\n",
       "      <th>Age</th>\n",
       "      <th>Gender</th>\n",
       "      <th>Education Level</th>\n",
       "      <th>Job Title</th>\n",
       "      <th>Years of Experience</th>\n",
       "      <th>Salary</th>\n",
       "      <th>increased_salary</th>\n",
       "    </tr>\n",
       "  </thead>\n",
       "  <tbody>\n",
       "    <tr>\n",
       "      <th>0</th>\n",
       "      <td>32.0</td>\n",
       "      <td>Male</td>\n",
       "      <td>Bachelor's</td>\n",
       "      <td>Software Engineer</td>\n",
       "      <td>5.0</td>\n",
       "      <td>90000.0</td>\n",
       "      <td>94500.0</td>\n",
       "    </tr>\n",
       "    <tr>\n",
       "      <th>1</th>\n",
       "      <td>28.0</td>\n",
       "      <td>Female</td>\n",
       "      <td>Master's</td>\n",
       "      <td>Data Analyst</td>\n",
       "      <td>3.0</td>\n",
       "      <td>65000.0</td>\n",
       "      <td>68250.0</td>\n",
       "    </tr>\n",
       "    <tr>\n",
       "      <th>2</th>\n",
       "      <td>45.0</td>\n",
       "      <td>Male</td>\n",
       "      <td>PHD</td>\n",
       "      <td>Senior Manager</td>\n",
       "      <td>15.0</td>\n",
       "      <td>150000.0</td>\n",
       "      <td>157500.0</td>\n",
       "    </tr>\n",
       "    <tr>\n",
       "      <th>3</th>\n",
       "      <td>36.0</td>\n",
       "      <td>Female</td>\n",
       "      <td>Bachelor's</td>\n",
       "      <td>Sales Associate</td>\n",
       "      <td>7.0</td>\n",
       "      <td>60000.0</td>\n",
       "      <td>63000.0</td>\n",
       "    </tr>\n",
       "    <tr>\n",
       "      <th>4</th>\n",
       "      <td>52.0</td>\n",
       "      <td>Male</td>\n",
       "      <td>Master's</td>\n",
       "      <td>Director</td>\n",
       "      <td>20.0</td>\n",
       "      <td>200000.0</td>\n",
       "      <td>210000.0</td>\n",
       "    </tr>\n",
       "  </tbody>\n",
       "</table>\n",
       "</div>"
      ],
      "text/plain": [
       "    Age  Gender Education Level          Job Title  Years of Experience  \\\n",
       "0  32.0    Male      Bachelor's  Software Engineer                  5.0   \n",
       "1  28.0  Female        Master's       Data Analyst                  3.0   \n",
       "2  45.0    Male             PHD     Senior Manager                 15.0   \n",
       "3  36.0  Female      Bachelor's    Sales Associate                  7.0   \n",
       "4  52.0    Male        Master's           Director                 20.0   \n",
       "\n",
       "     Salary  increased_salary  \n",
       "0   90000.0           94500.0  \n",
       "1   65000.0           68250.0  \n",
       "2  150000.0          157500.0  \n",
       "3   60000.0           63000.0  \n",
       "4  200000.0          210000.0  "
      ]
     },
     "execution_count": 22,
     "metadata": {},
     "output_type": "execute_result"
    }
   ],
   "source": [
    "# add a new column increased salary\n",
    "salary_df[\"increased_salary\"]=salary_df[\"Salary\"]*1.05\n",
    "salary_df.head()"
   ]
  },
  {
   "cell_type": "code",
   "execution_count": 23,
   "id": "83d3f7c4",
   "metadata": {},
   "outputs": [
    {
     "data": {
      "text/html": [
       "<div>\n",
       "<style scoped>\n",
       "    .dataframe tbody tr th:only-of-type {\n",
       "        vertical-align: middle;\n",
       "    }\n",
       "\n",
       "    .dataframe tbody tr th {\n",
       "        vertical-align: top;\n",
       "    }\n",
       "\n",
       "    .dataframe thead th {\n",
       "        text-align: right;\n",
       "    }\n",
       "</style>\n",
       "<table border=\"1\" class=\"dataframe\">\n",
       "  <thead>\n",
       "    <tr style=\"text-align: right;\">\n",
       "      <th></th>\n",
       "      <th>Age</th>\n",
       "      <th>Gender</th>\n",
       "      <th>Education Level</th>\n",
       "      <th>Job Title</th>\n",
       "      <th>Years of Experience</th>\n",
       "      <th>Salary</th>\n",
       "      <th>Salary Increased</th>\n",
       "    </tr>\n",
       "  </thead>\n",
       "  <tbody>\n",
       "    <tr>\n",
       "      <th>0</th>\n",
       "      <td>32.0</td>\n",
       "      <td>Male</td>\n",
       "      <td>Bachelor's</td>\n",
       "      <td>Software Engineer</td>\n",
       "      <td>5.0</td>\n",
       "      <td>90000.0</td>\n",
       "      <td>94500.0</td>\n",
       "    </tr>\n",
       "    <tr>\n",
       "      <th>1</th>\n",
       "      <td>28.0</td>\n",
       "      <td>Female</td>\n",
       "      <td>Master's</td>\n",
       "      <td>Data Analyst</td>\n",
       "      <td>3.0</td>\n",
       "      <td>65000.0</td>\n",
       "      <td>68250.0</td>\n",
       "    </tr>\n",
       "    <tr>\n",
       "      <th>2</th>\n",
       "      <td>45.0</td>\n",
       "      <td>Male</td>\n",
       "      <td>PHD</td>\n",
       "      <td>Senior Manager</td>\n",
       "      <td>15.0</td>\n",
       "      <td>150000.0</td>\n",
       "      <td>157500.0</td>\n",
       "    </tr>\n",
       "    <tr>\n",
       "      <th>3</th>\n",
       "      <td>36.0</td>\n",
       "      <td>Female</td>\n",
       "      <td>Bachelor's</td>\n",
       "      <td>Sales Associate</td>\n",
       "      <td>7.0</td>\n",
       "      <td>60000.0</td>\n",
       "      <td>63000.0</td>\n",
       "    </tr>\n",
       "    <tr>\n",
       "      <th>4</th>\n",
       "      <td>52.0</td>\n",
       "      <td>Male</td>\n",
       "      <td>Master's</td>\n",
       "      <td>Director</td>\n",
       "      <td>20.0</td>\n",
       "      <td>200000.0</td>\n",
       "      <td>210000.0</td>\n",
       "    </tr>\n",
       "  </tbody>\n",
       "</table>\n",
       "</div>"
      ],
      "text/plain": [
       "    Age  Gender Education Level          Job Title  Years of Experience  \\\n",
       "0  32.0    Male      Bachelor's  Software Engineer                  5.0   \n",
       "1  28.0  Female        Master's       Data Analyst                  3.0   \n",
       "2  45.0    Male             PHD     Senior Manager                 15.0   \n",
       "3  36.0  Female      Bachelor's    Sales Associate                  7.0   \n",
       "4  52.0    Male        Master's           Director                 20.0   \n",
       "\n",
       "     Salary  Salary Increased  \n",
       "0   90000.0           94500.0  \n",
       "1   65000.0           68250.0  \n",
       "2  150000.0          157500.0  \n",
       "3   60000.0           63000.0  \n",
       "4  200000.0          210000.0  "
      ]
     },
     "execution_count": 23,
     "metadata": {},
     "output_type": "execute_result"
    }
   ],
   "source": [
    "# Rename column \"increased_salary\" to \"Salary Increased\"\n",
    "salary_df=salary_df.rename(columns={\"increased_salary\":\"Salary Increased\"})\n",
    "salary_df.head()"
   ]
  },
  {
   "cell_type": "code",
   "execution_count": 24,
   "id": "9a393316",
   "metadata": {},
   "outputs": [
    {
     "data": {
      "text/html": [
       "<div>\n",
       "<style scoped>\n",
       "    .dataframe tbody tr th:only-of-type {\n",
       "        vertical-align: middle;\n",
       "    }\n",
       "\n",
       "    .dataframe tbody tr th {\n",
       "        vertical-align: top;\n",
       "    }\n",
       "\n",
       "    .dataframe thead th {\n",
       "        text-align: right;\n",
       "    }\n",
       "</style>\n",
       "<table border=\"1\" class=\"dataframe\">\n",
       "  <thead>\n",
       "    <tr style=\"text-align: right;\">\n",
       "      <th></th>\n",
       "      <th>Age</th>\n",
       "      <th>Gender</th>\n",
       "      <th>Education Level</th>\n",
       "      <th>Job Title</th>\n",
       "      <th>Years of Experience</th>\n",
       "      <th>Salary</th>\n",
       "    </tr>\n",
       "  </thead>\n",
       "  <tbody>\n",
       "    <tr>\n",
       "      <th>0</th>\n",
       "      <td>32.0</td>\n",
       "      <td>Male</td>\n",
       "      <td>Bachelor's</td>\n",
       "      <td>Software Engineer</td>\n",
       "      <td>5.0</td>\n",
       "      <td>90000.0</td>\n",
       "    </tr>\n",
       "    <tr>\n",
       "      <th>1</th>\n",
       "      <td>28.0</td>\n",
       "      <td>Female</td>\n",
       "      <td>Master's</td>\n",
       "      <td>Data Analyst</td>\n",
       "      <td>3.0</td>\n",
       "      <td>65000.0</td>\n",
       "    </tr>\n",
       "    <tr>\n",
       "      <th>2</th>\n",
       "      <td>45.0</td>\n",
       "      <td>Male</td>\n",
       "      <td>PHD</td>\n",
       "      <td>Senior Manager</td>\n",
       "      <td>15.0</td>\n",
       "      <td>150000.0</td>\n",
       "    </tr>\n",
       "    <tr>\n",
       "      <th>3</th>\n",
       "      <td>36.0</td>\n",
       "      <td>Female</td>\n",
       "      <td>Bachelor's</td>\n",
       "      <td>Sales Associate</td>\n",
       "      <td>7.0</td>\n",
       "      <td>60000.0</td>\n",
       "    </tr>\n",
       "    <tr>\n",
       "      <th>4</th>\n",
       "      <td>52.0</td>\n",
       "      <td>Male</td>\n",
       "      <td>Master's</td>\n",
       "      <td>Director</td>\n",
       "      <td>20.0</td>\n",
       "      <td>200000.0</td>\n",
       "    </tr>\n",
       "  </tbody>\n",
       "</table>\n",
       "</div>"
      ],
      "text/plain": [
       "    Age  Gender Education Level          Job Title  Years of Experience  \\\n",
       "0  32.0    Male      Bachelor's  Software Engineer                  5.0   \n",
       "1  28.0  Female        Master's       Data Analyst                  3.0   \n",
       "2  45.0    Male             PHD     Senior Manager                 15.0   \n",
       "3  36.0  Female      Bachelor's    Sales Associate                  7.0   \n",
       "4  52.0    Male        Master's           Director                 20.0   \n",
       "\n",
       "     Salary  \n",
       "0   90000.0  \n",
       "1   65000.0  \n",
       "2  150000.0  \n",
       "3   60000.0  \n",
       "4  200000.0  "
      ]
     },
     "execution_count": 24,
     "metadata": {},
     "output_type": "execute_result"
    }
   ],
   "source": [
    "# drop column Salary Increased\n",
    "salary_df=salary_df.drop(\"Salary Increased\",axis=1)\n",
    "salary_df.head() "
   ]
  },
  {
   "cell_type": "code",
   "execution_count": 25,
   "id": "e3011d30",
   "metadata": {},
   "outputs": [
    {
     "data": {
      "text/html": [
       "<div>\n",
       "<style scoped>\n",
       "    .dataframe tbody tr th:only-of-type {\n",
       "        vertical-align: middle;\n",
       "    }\n",
       "\n",
       "    .dataframe tbody tr th {\n",
       "        vertical-align: top;\n",
       "    }\n",
       "\n",
       "    .dataframe thead th {\n",
       "        text-align: right;\n",
       "    }\n",
       "</style>\n",
       "<table border=\"1\" class=\"dataframe\">\n",
       "  <thead>\n",
       "    <tr style=\"text-align: right;\">\n",
       "      <th></th>\n",
       "      <th>Age</th>\n",
       "      <th>Gender</th>\n",
       "      <th>Education Level</th>\n",
       "      <th>Job Title</th>\n",
       "      <th>Years of Experience</th>\n",
       "      <th>Salary</th>\n",
       "    </tr>\n",
       "  </thead>\n",
       "  <tbody>\n",
       "    <tr>\n",
       "      <th>2421</th>\n",
       "      <td>60.0</td>\n",
       "      <td>Female</td>\n",
       "      <td>PHD</td>\n",
       "      <td>Software Engineer Manager</td>\n",
       "      <td>34.0</td>\n",
       "      <td>188651.0</td>\n",
       "    </tr>\n",
       "    <tr>\n",
       "      <th>2501</th>\n",
       "      <td>60.0</td>\n",
       "      <td>Female</td>\n",
       "      <td>PHD</td>\n",
       "      <td>Software Engineer Manager</td>\n",
       "      <td>34.0</td>\n",
       "      <td>188651.0</td>\n",
       "    </tr>\n",
       "    <tr>\n",
       "      <th>2396</th>\n",
       "      <td>60.0</td>\n",
       "      <td>Female</td>\n",
       "      <td>PHD</td>\n",
       "      <td>Software Engineer Manager</td>\n",
       "      <td>33.0</td>\n",
       "      <td>179180.0</td>\n",
       "    </tr>\n",
       "    <tr>\n",
       "      <th>2401</th>\n",
       "      <td>57.0</td>\n",
       "      <td>Female</td>\n",
       "      <td>PHD</td>\n",
       "      <td>Software Engineer Manager</td>\n",
       "      <td>33.0</td>\n",
       "      <td>191790.0</td>\n",
       "    </tr>\n",
       "    <tr>\n",
       "      <th>2435</th>\n",
       "      <td>57.0</td>\n",
       "      <td>Female</td>\n",
       "      <td>Master's Degree</td>\n",
       "      <td>Full Stack Engineer</td>\n",
       "      <td>33.0</td>\n",
       "      <td>188232.0</td>\n",
       "    </tr>\n",
       "    <tr>\n",
       "      <th>2476</th>\n",
       "      <td>60.0</td>\n",
       "      <td>Female</td>\n",
       "      <td>PHD</td>\n",
       "      <td>Software Engineer Manager</td>\n",
       "      <td>33.0</td>\n",
       "      <td>179180.0</td>\n",
       "    </tr>\n",
       "    <tr>\n",
       "      <th>2481</th>\n",
       "      <td>57.0</td>\n",
       "      <td>Female</td>\n",
       "      <td>PHD</td>\n",
       "      <td>Software Engineer Manager</td>\n",
       "      <td>33.0</td>\n",
       "      <td>191790.0</td>\n",
       "    </tr>\n",
       "    <tr>\n",
       "      <th>2515</th>\n",
       "      <td>57.0</td>\n",
       "      <td>Female</td>\n",
       "      <td>Master's Degree</td>\n",
       "      <td>Full Stack Engineer</td>\n",
       "      <td>33.0</td>\n",
       "      <td>188232.0</td>\n",
       "    </tr>\n",
       "    <tr>\n",
       "      <th>2820</th>\n",
       "      <td>54.0</td>\n",
       "      <td>Male</td>\n",
       "      <td>Master's Degree</td>\n",
       "      <td>Senior Software Engineer</td>\n",
       "      <td>32.0</td>\n",
       "      <td>195270.0</td>\n",
       "    </tr>\n",
       "    <tr>\n",
       "      <th>2846</th>\n",
       "      <td>54.0</td>\n",
       "      <td>Female</td>\n",
       "      <td>PHD</td>\n",
       "      <td>Software Engineer Manager</td>\n",
       "      <td>32.0</td>\n",
       "      <td>191510.0</td>\n",
       "    </tr>\n",
       "  </tbody>\n",
       "</table>\n",
       "</div>"
      ],
      "text/plain": [
       "       Age  Gender  Education Level                  Job Title  \\\n",
       "2421  60.0  Female              PHD  Software Engineer Manager   \n",
       "2501  60.0  Female              PHD  Software Engineer Manager   \n",
       "2396  60.0  Female              PHD  Software Engineer Manager   \n",
       "2401  57.0  Female              PHD  Software Engineer Manager   \n",
       "2435  57.0  Female  Master's Degree        Full Stack Engineer   \n",
       "2476  60.0  Female              PHD  Software Engineer Manager   \n",
       "2481  57.0  Female              PHD  Software Engineer Manager   \n",
       "2515  57.0  Female  Master's Degree        Full Stack Engineer   \n",
       "2820  54.0    Male  Master's Degree   Senior Software Engineer   \n",
       "2846  54.0  Female              PHD  Software Engineer Manager   \n",
       "\n",
       "      Years of Experience    Salary  \n",
       "2421                 34.0  188651.0  \n",
       "2501                 34.0  188651.0  \n",
       "2396                 33.0  179180.0  \n",
       "2401                 33.0  191790.0  \n",
       "2435                 33.0  188232.0  \n",
       "2476                 33.0  179180.0  \n",
       "2481                 33.0  191790.0  \n",
       "2515                 33.0  188232.0  \n",
       "2820                 32.0  195270.0  \n",
       "2846                 32.0  191510.0  "
      ]
     },
     "execution_count": 25,
     "metadata": {},
     "output_type": "execute_result"
    }
   ],
   "source": [
    "# Print top 10 salary \n",
    "\n",
    "# salary_df.sort_values(\"Salary\",ascending=False).head(10)\n",
    "salary_df.nlargest(10,\"Years of Experience\")"
   ]
  },
  {
   "cell_type": "code",
   "execution_count": 26,
   "id": "855784f9",
   "metadata": {},
   "outputs": [
    {
     "data": {
      "text/html": [
       "<div>\n",
       "<style scoped>\n",
       "    .dataframe tbody tr th:only-of-type {\n",
       "        vertical-align: middle;\n",
       "    }\n",
       "\n",
       "    .dataframe tbody tr th {\n",
       "        vertical-align: top;\n",
       "    }\n",
       "\n",
       "    .dataframe thead th {\n",
       "        text-align: right;\n",
       "    }\n",
       "</style>\n",
       "<table border=\"1\" class=\"dataframe\">\n",
       "  <thead>\n",
       "    <tr style=\"text-align: right;\">\n",
       "      <th></th>\n",
       "      <th>Age</th>\n",
       "      <th>Gender</th>\n",
       "      <th>Education Level</th>\n",
       "      <th>Job Title</th>\n",
       "      <th>Years of Experience</th>\n",
       "      <th>Salary</th>\n",
       "    </tr>\n",
       "  </thead>\n",
       "  <tbody>\n",
       "    <tr>\n",
       "      <th>30</th>\n",
       "      <td>50.0</td>\n",
       "      <td>Male</td>\n",
       "      <td>Bachelor's</td>\n",
       "      <td>CEO</td>\n",
       "      <td>25.0</td>\n",
       "      <td>250000.0</td>\n",
       "    </tr>\n",
       "    <tr>\n",
       "      <th>83</th>\n",
       "      <td>52.0</td>\n",
       "      <td>Male</td>\n",
       "      <td>PHD</td>\n",
       "      <td>Chief Technology Officer</td>\n",
       "      <td>24.0</td>\n",
       "      <td>250000.0</td>\n",
       "    </tr>\n",
       "    <tr>\n",
       "      <th>5001</th>\n",
       "      <td>45.0</td>\n",
       "      <td>Male</td>\n",
       "      <td>Bachelor's Degree</td>\n",
       "      <td>Financial Manager</td>\n",
       "      <td>21.0</td>\n",
       "      <td>250000.0</td>\n",
       "    </tr>\n",
       "    <tr>\n",
       "      <th>4276</th>\n",
       "      <td>51.0</td>\n",
       "      <td>Male</td>\n",
       "      <td>PHD</td>\n",
       "      <td>Data Scientist</td>\n",
       "      <td>24.0</td>\n",
       "      <td>240000.0</td>\n",
       "    </tr>\n",
       "    <tr>\n",
       "      <th>4397</th>\n",
       "      <td>49.0</td>\n",
       "      <td>Male</td>\n",
       "      <td>Master's Degree</td>\n",
       "      <td>Marketing Manager</td>\n",
       "      <td>23.0</td>\n",
       "      <td>228000.0</td>\n",
       "    </tr>\n",
       "  </tbody>\n",
       "</table>\n",
       "</div>"
      ],
      "text/plain": [
       "       Age Gender    Education Level                 Job Title  \\\n",
       "30    50.0   Male         Bachelor's                       CEO   \n",
       "83    52.0   Male                PHD  Chief Technology Officer   \n",
       "5001  45.0   Male  Bachelor's Degree         Financial Manager   \n",
       "4276  51.0   Male                PHD            Data Scientist   \n",
       "4397  49.0   Male    Master's Degree         Marketing Manager   \n",
       "\n",
       "      Years of Experience    Salary  \n",
       "30                   25.0  250000.0  \n",
       "83                   24.0  250000.0  \n",
       "5001                 21.0  250000.0  \n",
       "4276                 24.0  240000.0  \n",
       "4397                 23.0  228000.0  "
      ]
     },
     "execution_count": 26,
     "metadata": {},
     "output_type": "execute_result"
    }
   ],
   "source": [
    "df_no_duplicates=salary_df.drop_duplicates()\n",
    "# print(df_no_duplicates.shape)\n",
    "df_no_duplicates.nlargest(5,\"Salary\")"
   ]
  },
  {
   "cell_type": "markdown",
   "id": "c0de03e5",
   "metadata": {},
   "source": [
    "#### DATA VISUALISATION "
   ]
  },
  {
   "cell_type": "code",
   "execution_count": 27,
   "id": "435f90f5",
   "metadata": {},
   "outputs": [],
   "source": [
    "#pip install matplotlib\n",
    "#pip install seaborn\n",
    "#pip show seaborn\n",
    "# pip show matplotlib"
   ]
  },
  {
   "cell_type": "code",
   "execution_count": 28,
   "id": "c2ff5937",
   "metadata": {},
   "outputs": [
    {
     "data": {
      "image/png": "[encoded data removed]",
      "text/plain": [
       "<Figure size 640x480 with 1 Axes>"
      ]
     },
     "metadata": {},
     "output_type": "display_data"
    },
    {
     "data": {
      "text/plain": [
       "'  years of experience, Education level , sabai ko laagi herna sakinchha '"
      ]
     },
     "execution_count": 28,
     "metadata": {},
     "output_type": "execute_result"
    }
   ],
   "source": [
    "# Histogram on salary col\n",
    "# Histogram is generally preferred for univariate data \n",
    "\n",
    "import seaborn as sns\n",
    "import matplotlib.pyplot as plt \n",
    "\n",
    "sns.histplot(data=salary_df,x='Salary',kde=True,bins=10)\n",
    "\n",
    "#Labels\n",
    "plt.xlabel(\"Salary Range\")\n",
    "plt.ylabel(\"Frequency\")\n",
    "plt.title(\"Salary Distribution\")\n",
    "plt.show()\n",
    "\n",
    "\"\"\"  years of experience, Education level , sabai ko laagi herna sakinchha \"\"\""
   ]
  },
  {
   "cell_type": "code",
   "execution_count": 29,
   "id": "0ec222f7",
   "metadata": {},
   "outputs": [
    {
     "name": "stderr",
     "output_type": "stream",
     "text": [
      "C:\\Users\\Bina computer jnk\\AppData\\Local\\Temp\\ipykernel_11656\\3053088479.py:2: FutureWarning: \n",
      "\n",
      "The `ci` parameter is deprecated. Use `errorbar=None` for the same effect.\n",
      "\n",
      "  sns.barplot(data=salary_df, x=\"Education Level\", y=\"Salary\", ci=None)\n"
     ]
    },
    {
     "data": {
      "image/png": "[encoded data removed]",
      "text/plain": [
       "<Figure size 640x480 with 1 Axes>"
      ]
     },
     "metadata": {},
     "output_type": "display_data"
    }
   ],
   "source": [
    "# Bar Chart  is used for multivariate data \n",
    "sns.barplot(data=salary_df, x=\"Education Level\", y=\"Salary\", ci=None)\n",
    "\n",
    "# Formatting,labels\n",
    "plt.xticks(rotation=45)\n",
    "plt.xlabel(\"Education Level\")\n",
    "plt.ylabel(\"Salary\")\n",
    "plt.title(\"Salary Distribution by Education Level\")\n",
    "\n",
    "plt.show()"
   ]
  },
  {
   "cell_type": "code",
   "execution_count": 30,
   "id": "9e92fd34",
   "metadata": {},
   "outputs": [
    {
     "data": {
      "text/plain": [
       "Gender\n",
       "Female    325184553.0\n",
       "Male      446203606.0\n",
       "Other       1762178.0\n",
       "Name: Salary, dtype: float64"
      ]
     },
     "execution_count": 30,
     "metadata": {},
     "output_type": "execute_result"
    }
   ],
   "source": [
    "# Grouping salary by gender \n",
    "grouped_salary=salary_df.groupby(\"Gender\")[\"Salary\"].sum()\n",
    "grouped_salary"
   ]
  },
  {
   "cell_type": "code",
   "execution_count": 31,
   "id": "e9007a3e",
   "metadata": {},
   "outputs": [
    {
     "name": "stdout",
     "output_type": "stream",
     "text": [
      "Index(['Female', 'Male', 'Other'], dtype='object', name='Gender')\n",
      "[3.25184553e+08 4.46203606e+08 1.76217800e+06]\n"
     ]
    }
   ],
   "source": [
    "print(grouped_salary.index)\n",
    "print(grouped_salary.values)"
   ]
  },
  {
   "cell_type": "code",
   "execution_count": 32,
   "id": "ef85f184",
   "metadata": {},
   "outputs": [
    {
     "data": {
      "image/png": "[encoded data removed]",
      "text/plain": [
       "<Figure size 640x480 with 1 Axes>"
      ]
     },
     "metadata": {},
     "output_type": "display_data"
    }
   ],
   "source": [
    "# Pie chart \n",
    "plt.pie(grouped_salary,labels=grouped_salary.index,autopct='%1.2f%%')\n",
    "\n",
    "#Title\n",
    "plt.title('Salary Distribution by Gender')\n",
    "\n",
    "#Show chart \n",
    "plt.show()"
   ]
  },
  {
   "cell_type": "code",
   "execution_count": 33,
   "id": "579cfbc9",
   "metadata": {},
   "outputs": [
    {
     "data": {
      "text/plain": [
       "Education Level\n",
       "Bachelor's Degree    2270\n",
       "Master's Degree      1573\n",
       "PHD                  1368\n",
       "Bachelor's            756\n",
       "High School           448\n",
       "Master's              288\n",
       "phD                     1\n",
       "Name: count, dtype: int64"
      ]
     },
     "execution_count": 33,
     "metadata": {},
     "output_type": "execute_result"
    }
   ],
   "source": [
    "salary_df[\"Education Level\"].value_counts()"
   ]
  },
  {
   "cell_type": "code",
   "execution_count": 34,
   "id": "ae4848b4",
   "metadata": {},
   "outputs": [
    {
     "data": {
      "image/png": "[encoded data removed]",
      "text/plain": [
       "<Figure size 640x480 with 1 Axes>"
      ]
     },
     "metadata": {},
     "output_type": "display_data"
    }
   ],
   "source": [
    "# Count Plot on education level chart \n",
    "sns.countplot(data=salary_df,x=\"Education Level\")\n",
    "\n",
    "#labels \n",
    "plt.title(\"Count of Employees by Education level\")\n",
    "plt.xticks(rotation=45)\n",
    "plt.xlabel(\"Education Level\")\n",
    "plt.ylabel(\"Count\")\n",
    "plt.show()"
   ]
  },
  {
   "cell_type": "code",
   "execution_count": 35,
   "id": "a786310d",
   "metadata": {},
   "outputs": [
    {
     "data": {
      "text/plain": [
       "(np.float64(-1.099999779369027),\n",
       " np.float64(1.0999957080476435),\n",
       " np.float64(-1.0999828077706397),\n",
       " np.float64(1.0999991813224115))"
      ]
     },
     "execution_count": 35,
     "metadata": {},
     "output_type": "execute_result"
    },
    {
     "data": {
      "image/png": "[encoded data removed]",
      "text/plain": [
       "<Figure size 640x480 with 1 Axes>"
      ]
     },
     "metadata": {},
     "output_type": "display_data"
    }
   ],
   "source": [
    "#pie chart \n",
    "labels=salary_df[\"Education Level\"].value_counts().index\n",
    "sizes=salary_df[\"Education Level\"].value_counts().values\n",
    "\n",
    "fig1,ax1=plt.subplots()\n",
    "ax1.pie(sizes,labels=labels,autopct='%1.1f%%',startangle=90)\n",
    "ax1.axis('equal') # Equal aspect ration ensures thatpie is drawnas circle"
   ]
  },
  {
   "cell_type": "code",
   "execution_count": 36,
   "id": "e715a21f",
   "metadata": {},
   "outputs": [
    {
     "data": {
      "image/png": "[encoded data removed]",
      "text/plain": [
       "<Figure size 640x480 with 1 Axes>"
      ]
     },
     "metadata": {},
     "output_type": "display_data"
    }
   ],
   "source": [
    "#Pie chart in the gender for male female and others\n",
    "# Count gender occurrences from the dataframe\n",
    "gender_counts = salary_df['Gender'].value_counts()\n",
    "\n",
    "# Plot pie chart\n",
    "plt.pie(\n",
    "    gender_counts,\n",
    "    labels=gender_counts.index,\n",
    "    autopct='%1.1f%%',\n",
    "    startangle=90,\n",
    "    colors=['skyblue', 'lightpink', 'lightgreen']\n",
    ")\n",
    "\n",
    "plt.axis('equal')  # Makes the pie chart a circle\n",
    "plt.title(\"Gender Distribution in the data\")\n",
    "plt.show()"
   ]
  },
  {
   "cell_type": "code",
   "execution_count": 37,
   "id": "6d7ef3cd",
   "metadata": {},
   "outputs": [
    {
     "data": {
      "image/png": "[encoded data removed]",
      "text/plain": [
       "<Figure size 640x480 with 1 Axes>"
      ]
     },
     "metadata": {},
     "output_type": "display_data"
    }
   ],
   "source": [
    "# Scatter Plot \n",
    "sns.scatterplot(data=salary_df,x=\"Age\",y=\"Salary\",color=\"red\",label=\"data points\")\n",
    "\n",
    "#labels\n",
    "plt.title('Salary vs Age')\n",
    "plt.xlabel('Age')\n",
    "plt.ylabel('Salary')\n",
    "plt.show()\n",
    "\n",
    "\n",
    "# Scatterplot baata k herna sakinchha vane age sang sangai salary pani badhdai gaako chha\n",
    "# Scatterplot le duiwota column bich ko relationship laai dekhaaucha "
   ]
  },
  {
   "cell_type": "markdown",
   "id": "cafcf90a",
   "metadata": {},
   "source": [
    "### Part 20"
   ]
  },
  {
   "cell_type": "code",
   "execution_count": 38,
   "id": "11560680",
   "metadata": {},
   "outputs": [
    {
     "data": {
      "text/plain": [
       "Gender\n",
       "Male      3676\n",
       "Female    3014\n",
       "Other       14\n",
       "Name: count, dtype: int64"
      ]
     },
     "execution_count": 38,
     "metadata": {},
     "output_type": "execute_result"
    }
   ],
   "source": [
    "# Pie chart based on gender \n",
    "gender_counts=salary_df[\"Gender\"].value_counts()\n",
    "gender_counts"
   ]
  },
  {
   "cell_type": "code",
   "execution_count": 39,
   "id": "f6210460",
   "metadata": {},
   "outputs": [
    {
     "data": {
      "image/png": "[encoded data removed]",
      "text/plain": [
       "<Figure size 640x480 with 1 Axes>"
      ]
     },
     "metadata": {},
     "output_type": "display_data"
    }
   ],
   "source": [
    "# Pie chart based on gender distribution \n",
    "plt.pie(gender_counts,labels=gender_counts.index,autopct='%1.2f%%')\n",
    "plt.title(\"gender distribution\")\n",
    "plt.show()"
   ]
  },
  {
   "cell_type": "code",
   "execution_count": 40,
   "id": "f36dea22",
   "metadata": {},
   "outputs": [
    {
     "data": {
      "image/png": "[encoded data removed]",
      "text/plain": [
       "<Figure size 640x480 with 1 Axes>"
      ]
     },
     "metadata": {},
     "output_type": "display_data"
    }
   ],
   "source": [
    "# boxplot \n",
    "sns.boxplot(data=salary_df,x=\"Education Level\",y=\"Salary\")\n",
    "#labels\n",
    "plt.title('Salary Distibution by Education Level')\n",
    "plt.xticks(rotation=45)\n",
    "plt.ylabel('Salary')\n",
    "plt.show()"
   ]
  },
  {
   "cell_type": "markdown",
   "id": "5fafc745",
   "metadata": {},
   "source": [
    "    -Line inside box-> Median(Q2)\n",
    "    -Box edge->25th percentile (Q1) and 7th percentile (Q3)\n",
    "    -Whiskers -> Min and Max values (excluding outliers)\n",
    "    - Dots outside whiskers -> Outliers"
   ]
  },
  {
   "cell_type": "code",
   "execution_count": 41,
   "id": "b4d9c679",
   "metadata": {},
   "outputs": [
    {
     "data": {
      "image/png": "[encoded data removed]",
      "text/plain": [
       "<Figure size 1000x600 with 1 Axes>"
      ]
     },
     "metadata": {},
     "output_type": "display_data"
    }
   ],
   "source": [
    "# Checking the boxplots of salary only\n",
    "plt.figure(figsize=(10,6))                #Yocode e figure ko size laai maitan garna sakinchha\n",
    "sns.boxplot(y=salary_df[\"Salary\"])\n",
    "\n",
    "#labels\n",
    "plt.title('Salary Distribution')\n",
    "plt.ylabel('Salary')\n",
    "plt.show()\n"
   ]
  },
  {
   "cell_type": "code",
   "execution_count": 42,
   "id": "61d458f9",
   "metadata": {},
   "outputs": [
    {
     "data": {
      "text/html": [
       "<div>\n",
       "<style scoped>\n",
       "    .dataframe tbody tr th:only-of-type {\n",
       "        vertical-align: middle;\n",
       "    }\n",
       "\n",
       "    .dataframe tbody tr th {\n",
       "        vertical-align: top;\n",
       "    }\n",
       "\n",
       "    .dataframe thead th {\n",
       "        text-align: right;\n",
       "    }\n",
       "</style>\n",
       "<table border=\"1\" class=\"dataframe\">\n",
       "  <thead>\n",
       "    <tr style=\"text-align: right;\">\n",
       "      <th></th>\n",
       "      <th>Age</th>\n",
       "      <th>Gender</th>\n",
       "      <th>Education Level</th>\n",
       "      <th>Job Title</th>\n",
       "      <th>Years of Experience</th>\n",
       "      <th>Salary</th>\n",
       "    </tr>\n",
       "  </thead>\n",
       "  <tbody>\n",
       "    <tr>\n",
       "      <th>30</th>\n",
       "      <td>50.0</td>\n",
       "      <td>Male</td>\n",
       "      <td>Bachelor's</td>\n",
       "      <td>CEO</td>\n",
       "      <td>25.0</td>\n",
       "      <td>250000.0</td>\n",
       "    </tr>\n",
       "    <tr>\n",
       "      <th>83</th>\n",
       "      <td>52.0</td>\n",
       "      <td>Male</td>\n",
       "      <td>PHD</td>\n",
       "      <td>Chief Technology Officer</td>\n",
       "      <td>24.0</td>\n",
       "      <td>250000.0</td>\n",
       "    </tr>\n",
       "    <tr>\n",
       "      <th>5001</th>\n",
       "      <td>45.0</td>\n",
       "      <td>Male</td>\n",
       "      <td>Bachelor's Degree</td>\n",
       "      <td>Financial Manager</td>\n",
       "      <td>21.0</td>\n",
       "      <td>250000.0</td>\n",
       "    </tr>\n",
       "    <tr>\n",
       "      <th>4276</th>\n",
       "      <td>51.0</td>\n",
       "      <td>Male</td>\n",
       "      <td>PHD</td>\n",
       "      <td>Data Scientist</td>\n",
       "      <td>24.0</td>\n",
       "      <td>240000.0</td>\n",
       "    </tr>\n",
       "    <tr>\n",
       "      <th>4397</th>\n",
       "      <td>49.0</td>\n",
       "      <td>Male</td>\n",
       "      <td>Master's Degree</td>\n",
       "      <td>Marketing Manager</td>\n",
       "      <td>23.0</td>\n",
       "      <td>228000.0</td>\n",
       "    </tr>\n",
       "    <tr>\n",
       "      <th>4152</th>\n",
       "      <td>50.0</td>\n",
       "      <td>Male</td>\n",
       "      <td>PHD</td>\n",
       "      <td>Data Scientist</td>\n",
       "      <td>23.0</td>\n",
       "      <td>225000.0</td>\n",
       "    </tr>\n",
       "    <tr>\n",
       "      <th>4027</th>\n",
       "      <td>49.0</td>\n",
       "      <td>Male</td>\n",
       "      <td>PHD</td>\n",
       "      <td>Data Scientist</td>\n",
       "      <td>22.0</td>\n",
       "      <td>220000.0</td>\n",
       "    </tr>\n",
       "    <tr>\n",
       "      <th>2664</th>\n",
       "      <td>46.0</td>\n",
       "      <td>Male</td>\n",
       "      <td>PHD</td>\n",
       "      <td>Director of Data Science</td>\n",
       "      <td>20.0</td>\n",
       "      <td>220000.0</td>\n",
       "    </tr>\n",
       "    <tr>\n",
       "      <th>105</th>\n",
       "      <td>44.0</td>\n",
       "      <td>Male</td>\n",
       "      <td>PHD</td>\n",
       "      <td>Chief Data Officer</td>\n",
       "      <td>16.0</td>\n",
       "      <td>220000.0</td>\n",
       "    </tr>\n",
       "    <tr>\n",
       "      <th>2260</th>\n",
       "      <td>46.0</td>\n",
       "      <td>Female</td>\n",
       "      <td>PHD</td>\n",
       "      <td>Director of Data Science</td>\n",
       "      <td>20.0</td>\n",
       "      <td>220000.0</td>\n",
       "    </tr>\n",
       "  </tbody>\n",
       "</table>\n",
       "</div>"
      ],
      "text/plain": [
       "       Age  Gender    Education Level                 Job Title  \\\n",
       "30    50.0    Male         Bachelor's                       CEO   \n",
       "83    52.0    Male                PHD  Chief Technology Officer   \n",
       "5001  45.0    Male  Bachelor's Degree         Financial Manager   \n",
       "4276  51.0    Male                PHD            Data Scientist   \n",
       "4397  49.0    Male    Master's Degree         Marketing Manager   \n",
       "4152  50.0    Male                PHD            Data Scientist   \n",
       "4027  49.0    Male                PHD            Data Scientist   \n",
       "2664  46.0    Male                PHD  Director of Data Science   \n",
       "105   44.0    Male                PHD        Chief Data Officer   \n",
       "2260  46.0  Female                PHD  Director of Data Science   \n",
       "\n",
       "      Years of Experience    Salary  \n",
       "30                   25.0  250000.0  \n",
       "83                   24.0  250000.0  \n",
       "5001                 21.0  250000.0  \n",
       "4276                 24.0  240000.0  \n",
       "4397                 23.0  228000.0  \n",
       "4152                 23.0  225000.0  \n",
       "4027                 22.0  220000.0  \n",
       "2664                 20.0  220000.0  \n",
       "105                  16.0  220000.0  \n",
       "2260                 20.0  220000.0  "
      ]
     },
     "execution_count": 42,
     "metadata": {},
     "output_type": "execute_result"
    }
   ],
   "source": [
    "# Return Top ten salary based on education level\n",
    "top_ten_salary=df_no_duplicates.sort_values(\"Salary\",ascending=False).head(10)\n",
    "top_ten_salary\n"
   ]
  },
  {
   "cell_type": "code",
   "execution_count": 43,
   "id": "e241eba4",
   "metadata": {},
   "outputs": [
    {
     "name": "stderr",
     "output_type": "stream",
     "text": [
      "C:\\Users\\Bina computer jnk\\AppData\\Local\\Temp\\ipykernel_11656\\1495140008.py:3: FutureWarning: \n",
      "\n",
      "Passing `palette` without assigning `hue` is deprecated and will be removed in v0.14.0. Assign the `x` variable to `hue` and set `legend=False` for the same effect.\n",
      "\n",
      "  sns.barplot(data=top_ten_salary,x='Job Title',y='Salary',palette=\"coolwarm\")\n"
     ]
    },
    {
     "data": {
      "image/png": "[encoded data removed]",
      "text/plain": [
       "<Figure size 1000x600 with 1 Axes>"
      ]
     },
     "metadata": {},
     "output_type": "display_data"
    }
   ],
   "source": [
    "#barplot\n",
    "plt.figure(figsize=(10,6))\n",
    "sns.barplot(data=top_ten_salary,x='Job Title',y='Salary',palette=\"coolwarm\")\n",
    "\n",
    "#labels\n",
    "plt.title('Top 10 Salary Distribution by Job Title')\n",
    "plt.xticks(rotation=45)\n",
    "plt.xlabel('Job Title')\n",
    "plt.ylabel('Salary')\n",
    "plt.show()\n",
    "  "
   ]
  }
 ],
 "metadata": {
  "kernelspec": {
   "display_name": "mshpe",
   "language": "python",
   "name": "python3"
  },
  "language_info": {
   "codemirror_mode": {
    "name": "ipython",
    "version": 3
   },
   "file_extension": ".py",
   "mimetype": "text/x-python",
   "name": "python",
   "nbconvert_exporter": "python",
   "pygments_lexer": "ipython3",
   "version": "3.13.1"
  }
 },
 "nbformat": 4,
 "nbformat_minor": 5
}
