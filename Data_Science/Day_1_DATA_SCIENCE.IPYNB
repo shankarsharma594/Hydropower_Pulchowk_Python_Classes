{
 "cells": [
  {
   "cell_type": "markdown",
   "id": "44bc48bd",
   "metadata": {},
   "source": [
    "###     Numpy (PART 15)"
   ]
  },
  {
   "cell_type": "code",
   "execution_count": 1,
   "id": "c84d928b",
   "metadata": {},
   "outputs": [
    {
     "data": {
      "text/plain": [
       "' \\n(Assignment)\\nDiffernce between list and numpy array\\nUse list when you need flexibility and mixed data.\\n\\nUse NumPy array when working with large datasets, numerical computation, or matrices (Hydrology/Hydropower applications would benefit from NumPy arrays).\\n\\n'"
      ]
     },
     "execution_count": 1,
     "metadata": {},
     "output_type": "execute_result"
    }
   ],
   "source": [
    "\"\"\" \n",
    "(Assignment)\n",
    "Differnce between list and numpy array\n",
    "Use list when you need flexibility and mixed data.\n",
    "\n",
    "Use NumPy array when working with large datasets, numerical computation, or matrices (Hydrology/Hydropower applications would benefit from NumPy arrays).\n",
    "\n",
    "\"\"\""
   ]
  },
  {
   "cell_type": "code",
   "execution_count": null,
   "id": "6f8d0e41",
   "metadata": {},
   "outputs": [],
   "source": [
    "\"\"\"\n",
    "Instructions \n",
    "\n",
    "1st install the required library using ( Pip install numpy)\n",
    "(pip install pandas)\n",
    "\n",
    "pip show pandas\n",
    "\n",
    "pip list   #environment vitra j j install chha sabai dekhaai dinchha \n",
    "\"\"\"\n",
    "\n",
    "\n",
    "\"\"\"\n",
    "numpy maa numerical computation garna help hunchha \n",
    "\n",
    "\"\"\""
   ]
  },
  {
   "cell_type": "code",
   "execution_count": 3,
   "id": "b92ea5ed",
   "metadata": {},
   "outputs": [],
   "source": [
    "# Importing required library\n",
    "import numpy as np"
   ]
  },
  {
   "cell_type": "code",
   "execution_count": 5,
   "id": "afbc831c",
   "metadata": {},
   "outputs": [
    {
     "name": "stdout",
     "output_type": "stream",
     "text": [
      "[1 2 3 4 5 0 9 8]\n",
      "(8,)\n"
     ]
    }
   ],
   "source": [
    "#Creating an array \n",
    "array=np.array([1,2,3,4,5,0,9,8])\n",
    "print(array)\n",
    "print(array.shape)"
   ]
  },
  {
   "cell_type": "code",
   "execution_count": 9,
   "id": "7edfd3aa",
   "metadata": {},
   "outputs": [
    {
     "name": "stdout",
     "output_type": "stream",
     "text": [
      "[1 2 3 4 5]\n",
      "(5,)\n"
     ]
    }
   ],
   "source": [
    "# Alternative way of importing from numpy module \n",
    "#Creating array \n",
    "from numpy import array\n",
    "array=array([1,2,3,4,5])\n",
    "print(array)\n",
    "print(array.shape)"
   ]
  },
  {
   "cell_type": "code",
   "execution_count": 7,
   "id": "28c9eb30",
   "metadata": {},
   "outputs": [
    {
     "name": "stdout",
     "output_type": "stream",
     "text": [
      "[[1 2 3 4 5]\n",
      " [5 6 7 8 9]]\n",
      "(2, 5)\n"
     ]
    }
   ],
   "source": [
    "# creating 2d array \n",
    "array_2d=np.array([[1,2,3,4,5],[5,6,7,8,9,]])\n",
    "print(array_2d)\n",
    "print(array_2d.shape)"
   ]
  },
  {
   "cell_type": "code",
   "execution_count": 8,
   "id": "fddaabc4",
   "metadata": {},
   "outputs": [
    {
     "name": "stdout",
     "output_type": "stream",
     "text": [
      "2 5\n"
     ]
    }
   ],
   "source": [
    "#Printing the row and column of any numpy array\n",
    "\n",
    "row,col=array_2d.shape\n",
    "print(row,col)"
   ]
  },
  {
   "cell_type": "code",
   "execution_count": 10,
   "id": "6bdd1253",
   "metadata": {},
   "outputs": [
    {
     "data": {
      "text/plain": [
       "array([ 2,  4,  6,  8, 10])"
      ]
     },
     "execution_count": 10,
     "metadata": {},
     "output_type": "execute_result"
    }
   ],
   "source": [
    "# Element-wise multiplication garna \n",
    "array*2"
   ]
  },
  {
   "cell_type": "code",
   "execution_count": 11,
   "id": "a9a6c44c",
   "metadata": {},
   "outputs": [
    {
     "data": {
      "text/plain": [
       "array([ 0,  2,  3,  6,  9, 40])"
      ]
     },
     "execution_count": 11,
     "metadata": {},
     "output_type": "execute_result"
    }
   ],
   "source": [
    "#Create the new array and sort\n",
    "array1=np.array([3,9,6,0,2,40])\n",
    "array1.sort()\n",
    "array1\n"
   ]
  },
  {
   "cell_type": "code",
   "execution_count": 13,
   "id": "d7e1720f",
   "metadata": {},
   "outputs": [
    {
     "data": {
      "text/plain": [
       "array([   0,    4,    9,   36,   81, 1600])"
      ]
     },
     "execution_count": 13,
     "metadata": {},
     "output_type": "execute_result"
    }
   ],
   "source": [
    "# Square garnu paryo vane \n",
    "array1**2"
   ]
  },
  {
   "cell_type": "code",
   "execution_count": 15,
   "id": "d176511d",
   "metadata": {},
   "outputs": [
    {
     "data": {
      "text/plain": [
       "np.float64(3.0)"
      ]
     },
     "execution_count": 15,
     "metadata": {},
     "output_type": "execute_result"
    }
   ],
   "source": [
    "# Array vitra ko sabai element laai sum,mean garnu paryo vane \n",
    "# array.sum()\n",
    "array.mean()"
   ]
  },
  {
   "cell_type": "code",
   "execution_count": 16,
   "id": "35b9760e",
   "metadata": {},
   "outputs": [
    {
     "name": "stdout",
     "output_type": "stream",
     "text": [
      "[1, 2, 3, 4, 5, 6, 7, 8]\n",
      "[ 6  8 10 12]\n"
     ]
    }
   ],
   "source": [
    "#Creating two arrays arr1 and arr2 and sum them \n",
    "# Python List\n",
    "list1 = [1, 2, 3, 4]\n",
    "list2 = [5, 6, 7, 8]\n",
    "\n",
    "# Adding lists -> Concatenates\n",
    "print(list1 + list2)  \n",
    "\n",
    "\n",
    "# NumPy Array\n",
    "arr1 = np.array([1, 2, 3, 4])\n",
    "arr2 = np.array([5, 6, 7, 8])\n",
    "\n",
    "# Adding arrays -> Element-wise addition\n",
    "print(arr1 + arr2)  \n",
    "\n",
    "\n"
   ]
  },
  {
   "cell_type": "markdown",
   "id": "10fbfe6c",
   "metadata": {},
   "source": [
    "#### PANDAS"
   ]
  },
  {
   "cell_type": "code",
   "execution_count": 19,
   "id": "5dc2e730",
   "metadata": {},
   "outputs": [
    {
     "data": {
      "text/plain": [
       "' \\nPandas is requird when you have to work in tabular form , dataframe  \\n'"
      ]
     },
     "execution_count": 19,
     "metadata": {},
     "output_type": "execute_result"
    }
   ],
   "source": [
    "#Importing required library\n",
    "import pandas as pd   \n",
    "\"\"\" \n",
    "Pandas is requird when you have to work in tabular form , dataframe  \n",
    "\"\"\""
   ]
  },
  {
   "cell_type": "code",
   "execution_count": 20,
   "id": "bcb17470",
   "metadata": {},
   "outputs": [
    {
     "name": "stdout",
     "output_type": "stream",
     "text": [
      "a    1\n",
      "b    2\n",
      "c    3\n",
      "d    4\n",
      "e    5\n",
      "dtype: int64\n"
     ]
    }
   ],
   "source": [
    "#create pandas series\n",
    "series=pd.Series([1,2,3,4,5],index=[\"a\",\"b\",\"c\",\"d\",\"e\"])\n",
    "print(series)\n"
   ]
  },
  {
   "cell_type": "code",
   "execution_count": 24,
   "id": "96e1b06a",
   "metadata": {},
   "outputs": [
    {
     "name": "stdout",
     "output_type": "stream",
     "text": [
      "(5,)\n"
     ]
    }
   ],
   "source": [
    "#create pandas series without index\n",
    "series=pd.Series([1,2,3,4,5])\n",
    "# print(series)\n",
    "# print(series.index)   #( index laai show garxha )\n",
    "# print(series.values)     #(Given array ko value aaucha )\n",
    "print(series.shape)       #(Given series ko dimension aaucha)\n"
   ]
  },
  {
   "cell_type": "code",
   "execution_count": 26,
   "id": "bec8616d",
   "metadata": {},
   "outputs": [
    {
     "name": "stdout",
     "output_type": "stream",
     "text": [
      "         name  age         city\n",
      "0        john   29     New York\n",
      "1     Praneez   27  Los Angeles\n",
      "2  Om shankar   25      Chicago\n",
      "(3, 3)\n"
     ]
    }
   ],
   "source": [
    "# Creating a pandas Dataframe with column name \n",
    "data={'name':['john','Praneez','Om shankar'],\n",
    "      'age':[29,27,25],\n",
    "      'city':['New York','Los Angeles','Chicago']}\n",
    "\n",
    "df=pd.DataFrame(data)\n",
    "print(df)\n",
    "print(df.shape)    #( Yesle k garchha given dataframe ko size dinchha)"
   ]
  },
  {
   "cell_type": "code",
   "execution_count": 27,
   "id": "bfb797a6",
   "metadata": {},
   "outputs": [
    {
     "data": {
      "text/plain": [
       "{'name': ['john', 'Praneez', 'Om shankar'],\n",
       " 'age': [29, 27, 25],\n",
       " 'city': ['New York', 'Los Angeles', 'Chicago']}"
      ]
     },
     "execution_count": 27,
     "metadata": {},
     "output_type": "execute_result"
    }
   ],
   "source": [
    "data"
   ]
  }
 ],
 "metadata": {
  "kernelspec": {
   "display_name": "mshpe",
   "language": "python",
   "name": "python3"
  },
  "language_info": {
   "codemirror_mode": {
    "name": "ipython",
    "version": 3
   },
   "file_extension": ".py",
   "mimetype": "text/x-python",
   "name": "python",
   "nbconvert_exporter": "python",
   "pygments_lexer": "ipython3",
   "version": "3.13.1"
  }
 },
 "nbformat": 4,
 "nbformat_minor": 5
}
